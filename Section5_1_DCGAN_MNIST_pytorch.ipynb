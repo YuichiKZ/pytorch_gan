{
  "cells": [
    {
      "cell_type": "markdown",
      "metadata": {
        "id": "xWop9zHATgct"
      },
      "source": [
        "[![Open In Colab](https://colab.research.google.com/assets/colab-badge.svg)](https://colab.research.google.com/github/YuichiKZ/pytorch_gan/blob/main/Section5_1_DCGAN_MNIST_pytorch.ipynb)\n",
        "\n",
        "## DCGANのノートブック\n",
        "- このノートブックではPyTorchによるDCGANネットワークの実装と学習を行います。\n",
        "\n",
        "#学習目標\n",
        "- 画像を生成するGenerator(生成器)の転置畳み込みNNの構造を理解する\n",
        "- 画像を識別するDiscriminator(識別器)の畳み込みNNの構造を理解する\n",
        "- DCGANのネットワークを実装できるようにする\n",
        "- GANの損失関数とニューラルネットワークの学習の流れを理解する\n"
      ]
    },
    {
      "cell_type": "markdown",
      "metadata": {
        "id": "e5gfvl-sImNX"
      },
      "source": [
        "# GPU確認"
      ]
    },
    {
      "cell_type": "code",
      "execution_count": 1,
      "metadata": {
        "colab": {
          "base_uri": "https://localhost:8080/"
        },
        "id": "zaeg0L_0IGrC",
        "outputId": "f7cb71d8-d804-4bed-ef9f-e91c014443cd"
      },
      "outputs": [
        {
          "name": "stdout",
          "output_type": "stream",
          "text": [
            "Mon May  9 12:16:53 2022       \n",
            "+-----------------------------------------------------------------------------+\n",
            "| NVIDIA-SMI 460.32.03    Driver Version: 460.32.03    CUDA Version: 11.2     |\n",
            "|-------------------------------+----------------------+----------------------+\n",
            "| GPU  Name        Persistence-M| Bus-Id        Disp.A | Volatile Uncorr. ECC |\n",
            "| Fan  Temp  Perf  Pwr:Usage/Cap|         Memory-Usage | GPU-Util  Compute M. |\n",
            "|                               |                      |               MIG M. |\n",
            "|===============================+======================+======================|\n",
            "|   0  Tesla V100-SXM2...  Off  | 00000000:00:04.0 Off |                    0 |\n",
            "| N/A   36C    P0    24W / 300W |      0MiB / 16160MiB |      0%      Default |\n",
            "|                               |                      |                  N/A |\n",
            "+-------------------------------+----------------------+----------------------+\n",
            "                                                                               \n",
            "+-----------------------------------------------------------------------------+\n",
            "| Processes:                                                                  |\n",
            "|  GPU   GI   CI        PID   Type   Process name                  GPU Memory |\n",
            "|        ID   ID                                                   Usage      |\n",
            "|=============================================================================|\n",
            "|  No running processes found                                                 |\n",
            "+-----------------------------------------------------------------------------+\n"
          ]
        }
      ],
      "source": [
        "!nvidia-smi"
      ]
    },
    {
      "cell_type": "markdown",
      "metadata": {
        "id": "3Re_WY_fIuMp"
      },
      "source": [
        "# PyTorch インポート & バージョン確認"
      ]
    },
    {
      "cell_type": "code",
      "execution_count": 2,
      "metadata": {
        "colab": {
          "base_uri": "https://localhost:8080/"
        },
        "id": "j9afQCGCIsrr",
        "outputId": "75a5576a-8331-49a6-e354-0e72029dee8e"
      },
      "outputs": [
        {
          "name": "stdout",
          "output_type": "stream",
          "text": [
            "1.11.0+cu113\n",
            "0.12.0+cu113\n"
          ]
        }
      ],
      "source": [
        "import torch\n",
        "import torchvision\n",
        "# バージョンの確認\n",
        "print(torch.__version__) \n",
        "print(torchvision.__version__) "
      ]
    },
    {
      "cell_type": "markdown",
      "metadata": {
        "id": "Dumsi8zdI4EK"
      },
      "source": [
        "# DCGAN実装"
      ]
    },
    {
      "cell_type": "markdown",
      "metadata": {
        "id": "TwLo05nxUPJL"
      },
      "source": [
        "## パッケージインポート"
      ]
    },
    {
      "cell_type": "code",
      "execution_count": 3,
      "metadata": {
        "id": "XYDq2LLZKad7"
      },
      "outputs": [],
      "source": [
        "import os\n",
        "import random\n",
        "import numpy as np\n",
        "import matplotlib.pyplot as plt\n",
        "\n",
        "import torch.nn as nn\n",
        "import torch.optim as optim\n",
        "import torch.utils.data\n",
        "import torchvision.datasets as dset\n",
        "import torchvision.transforms as transforms\n",
        "import torchvision.utils as vutils\n",
        "import torchsummary"
      ]
    },
    {
      "cell_type": "markdown",
      "metadata": {
        "id": "32MJdDAOQC1r"
      },
      "source": [
        "## パラメータ設定"
      ]
    },
    {
      "cell_type": "code",
      "execution_count": 5,
      "metadata": {
        "colab": {
          "base_uri": "https://localhost:8080/"
        },
        "id": "iJT7ERb8Kl8m",
        "outputId": "5667fbb2-1024-48aa-ce33-4dc2e70706d4"
      },
      "outputs": [
        {
          "data": {
            "text/plain": [
              "<torch._C.Generator at 0x7fcd76f50470>"
            ]
          },
          "execution_count": 5,
          "metadata": {},
          "output_type": "execute_result"
        }
      ],
      "source": [
        "batch_size=50\n",
        "z_dim = 100 #ノイズ次元\n",
        "g_dim = 128 \n",
        "d_dim = 128 \n",
        "num_epochs = 10 #エポック数\n",
        "lr = 0.0002 #学習率\n",
        "beta1 = 0.5\n",
        "out_dir = './result_2-DCGAN'\n",
        "loss_display_interval = 600\n",
        "\n",
        "# 保存先ディレクトリを作成\n",
        "try:\n",
        "    os.makedirs(out_dir, exist_ok=True)\n",
        "except Exception as error: \n",
        "    print(error)\n",
        "\n",
        "# 乱数のシード（種）を固定\n",
        "random.seed(0)\n",
        "np.random.seed(0)\n",
        "torch.manual_seed(0)"
      ]
    },
    {
      "cell_type": "markdown",
      "metadata": {
        "id": "PEyr0YmET6yA"
      },
      "source": [
        "##データセット定義"
      ]
    },
    {
      "cell_type": "markdown",
      "metadata": {
        "id": "ScrzEDqLWSMs"
      },
      "source": [
        "- `transforms.Compose(transforms)`\n",
        "<br>\n",
        "複数の Transform を連続して行う Transform を作成\n",
        "- `transforms.ToTensor()`\n",
        "<br>\n",
        "PIL Imageまたはnumpy ndarrayをTorch Tensorに変換\n",
        "- `transforms.Normalize((mean,...),(std,...))`\n",
        "<br>\n",
        "各チャンネルに関して標準化を行う<br>\n",
        "$output[channel] = (input[channel]-mean[channel])/std[channel]$\n",
        "<br>\n",
        "i.e. <br>\n",
        "MNISTの場合<br>\n",
        "チャンネル数: 1(白黒画像)<br>\n",
        "分布: [0,1]<br>\n",
        "より\n",
        "$std=0.5, mean=0.5$とすると\n",
        "分布は[-1,1]となる。"
      ]
    },
    {
      "cell_type": "code",
      "execution_count": 7,
      "metadata": {
        "id": "24Nobb-kKmFK"
      },
      "outputs": [],
      "source": [
        "# MNISTの訓練データセットを読み込む\n",
        "# transforms.ToTensor()-> Torch Tensorに変換\n",
        "# transforms.Normalize((mean,),(std)) -> テンソルの値を平均0\n",
        "dataset = dset.MNIST(root='./mnist_data', download=True, train=True,\n",
        "                      transform=transforms.Compose([\n",
        "                          transforms.ToTensor(),\n",
        "                          transforms.Normalize((0.5,), (0.5,)) ]))"
      ]
    },
    {
      "cell_type": "code",
      "execution_count": 8,
      "metadata": {
        "colab": {
          "base_uri": "https://localhost:8080/"
        },
        "id": "SaQG3jaqKplQ",
        "outputId": "6b0a5110-84f5-4d81-e723-322e7bca6c7c"
      },
      "outputs": [
        {
          "data": {
            "text/plain": [
              "torch.Size([1, 28, 28])"
            ]
          },
          "execution_count": 8,
          "metadata": {},
          "output_type": "execute_result"
        }
      ],
      "source": [
        "# 画像配列の形状確認\n",
        "dataset[0][0].shape"
      ]
    },
    {
      "cell_type": "code",
      "execution_count": 9,
      "metadata": {
        "colab": {
          "base_uri": "https://localhost:8080/"
        },
        "id": "t6jWFZjqKpty",
        "outputId": "27695dc5-7fe1-41f8-8cbc-9cd9df1586ac"
      },
      "outputs": [
        {
          "name": "stdout",
          "output_type": "stream",
          "text": [
            "device: cuda:0\n"
          ]
        }
      ],
      "source": [
        "# 訓練データをセットしたDataLoader作成\n",
        "dataloader = torch.utils.data.DataLoader(dataset, batch_size=batch_size,\n",
        "                                         shuffle=True)\n",
        "\n",
        "# 学習に使用するデバイスを指定。\n",
        "device = torch.device(\"cuda:0\" if torch.cuda.is_available() else \"cpu\")\n",
        "print('device:', device)"
      ]
    },
    {
      "cell_type": "markdown",
      "metadata": {
        "id": "apEYzaWdK7Sf"
      },
      "source": [
        "##ネットワークの定義"
      ]
    },
    {
      "cell_type": "markdown",
      "metadata": {
        "id": "JjDKKREYvRKK"
      },
      "source": [
        "### Generatorクラス"
      ]
    },
    {
      "cell_type": "code",
      "execution_count": 10,
      "metadata": {
        "id": "yxLyiHmUK77A"
      },
      "outputs": [],
      "source": [
        "class Generator(nn.Module):\n",
        "    def __init__(self, z_dim=100, g_dim=128, nch=1):\n",
        "        \"\"\"\n",
        "        z_dim: 入力ベクトルzの次元\n",
        "        g_dim: 最終層の入力チャネル数\n",
        "        nch: 出力画像のチャネル数\n",
        "        \"\"\"\n",
        "        super(Generator, self).__init__()\n",
        "\n",
        "        # ニューラルネットワークの構造を定義する\n",
        "        self.layer0 = nn.Sequential(\n",
        "            nn.ConvTranspose2d(\n",
        "                in_channels = z_dim,\n",
        "                out_channels = g_dim * 4,\n",
        "                kernel_size = 3,\n",
        "                stride = 1,\n",
        "                padding = 0\n",
        "            ),     # 転置畳み込み\n",
        "            nn.BatchNorm2d(g_dim * 4),                      # バッチノーマライゼーション\n",
        "            nn.ReLU()                                       # ReLU\n",
        "        )  # (B, z_dim, 1, 1) -> (B, g_dim*4, 3, 3)\n",
        "\n",
        "        self.layer1 = nn.Sequential(\n",
        "            nn.ConvTranspose2d(in_channels = g_dim * 4,\n",
        "                               out_channels = g_dim * 2, \n",
        "                               kernel_size = 3, \n",
        "                               stride = 2, \n",
        "                               padding = 0\n",
        "            ),     # 転置畳み込み\n",
        "            nn.BatchNorm2d(g_dim * 2),\n",
        "            nn.ReLU()\n",
        "        )  # (B, g_dim*4, 3, 3) -> (B, g_dim*2, 7, 7)\n",
        "\n",
        "        self.layer2 = nn.Sequential(\n",
        "            nn.ConvTranspose2d(\n",
        "                in_channels = g_dim * 2, \n",
        "                out_channels = g_dim, \n",
        "                kernel_size = 4, \n",
        "                stride = 2, \n",
        "                padding = 1\n",
        "            ),\n",
        "            nn.BatchNorm2d(g_dim),\n",
        "            nn.ReLU()\n",
        "        )  # (B, g_dim*2, 7, 7) -> (B, g_dim, 14, 14)\n",
        "\n",
        "        self.layer3 = nn.Sequential(\n",
        "            nn.ConvTranspose2d(\n",
        "                in_channels = g_dim, \n",
        "                out_channels = nch, \n",
        "                kernel_size = 4, \n",
        "                stride = 2, \n",
        "                padding = 1\n",
        "            ),\n",
        "            nn.Tanh()\n",
        "        )  # (B, g_dim, 14, 14) -> (B, nch, 28, 28)\n",
        "\n",
        "        self.layers = [self.layer0,\n",
        "                       self.layer1,\n",
        "                       self.layer2,\n",
        "                       self.layer3]\n",
        "\n",
        "    def forward(self, z):\n",
        "        \"\"\"\n",
        "        順方向の演算\n",
        "        z: 入力ノイズ\n",
        "        return z: 生成画像\n",
        "        \"\"\"\n",
        "        for layer in self.layers:  # self.layersの各層で演算を行う\n",
        "            z = layer(z)\n",
        "        return z"
      ]
    },
    {
      "cell_type": "markdown",
      "metadata": {
        "id": "R_WwNcBOvXXA"
      },
      "source": [
        "### Discriminatorクラス"
      ]
    },
    {
      "cell_type": "code",
      "execution_count": 11,
      "metadata": {
        "id": "UDl4RfofqKMj"
      },
      "outputs": [],
      "source": [
        "class Discriminator(nn.Module):\n",
        "    \"\"\"\n",
        "    識別器Dのクラス\n",
        "    \"\"\"\n",
        "    def __init__(self, nch=1, d_dim=128):\n",
        "        \"\"\"\n",
        "        :param nch: 入力画像のチャネル数\n",
        "        :param d_dim: 先頭層の出力チャネル数\n",
        "        \"\"\"\n",
        "        super(Discriminator, self).__init__()\n",
        "\n",
        "        # ニューラルネットワークの構造を定義する\n",
        "        self.layer0 = nn.Sequential(\n",
        "                nn.Conv2d(nch, d_dim, 4, 2, 1),     # 畳み込み\n",
        "                nn.LeakyReLU(negative_slope=0.2)    # leaky ReLU関数\n",
        "            )  # (B, nch, 28, 28) -> (B, d_dim, 14, 14)\n",
        "        self.layer1 = nn.Sequential(\n",
        "                nn.Conv2d(d_dim, d_dim * 2, 4, 2, 1),\n",
        "                nn.BatchNorm2d(d_dim * 2),\n",
        "                nn.LeakyReLU(negative_slope=0.2)\n",
        "            )\n",
        "        self.layer2 = nn.Sequential(\n",
        "                nn.Conv2d(d_dim * 2, d_dim * 4, 3, 2, 0),\n",
        "                nn.BatchNorm2d(d_dim * 4),\n",
        "                nn.LeakyReLU(negative_slope=0.2)\n",
        "            )  # (B, d_dim*2, 7, 7) -> (B, d_dim*4, 3, 3)\n",
        "        self.layer3 = nn.Sequential(\n",
        "                nn.Conv2d(d_dim * 4, 1, 3, 1, 0),\n",
        "                nn.Sigmoid()    # Sigmoid関数\n",
        "            )    # (B, d_dim*4, 3, 3) -> (B, 1, 1, 1)\n",
        "        self.layers =[self.layer0,\n",
        "                      self.layer1,\n",
        "                      self.layer2,\n",
        "                      self.layer3]\n",
        "\n",
        "    def forward(self, x):\n",
        "        \"\"\"\n",
        "        順方向演算\n",
        "        x: 本物画像または生成画像\n",
        "        return: 識別信号\n",
        "        \"\"\"\n",
        "        for layer in self.layers:  # self.layersの各層で演算を行う\n",
        "            x = layer(x)\n",
        "        return x.squeeze()     # Tensorの形状を(B,1,1,1)->(B)に変更して戻り値とする"
      ]
    },
    {
      "cell_type": "markdown",
      "metadata": {
        "id": "Gwm7pzRxvbQJ"
      },
      "source": [
        "### 重み初期化関数"
      ]
    },
    {
      "cell_type": "code",
      "execution_count": 12,
      "metadata": {
        "id": "KbupWFKXZO2X"
      },
      "outputs": [],
      "source": [
        "def weights_init(m):\n",
        "    \"\"\"\n",
        "    ニューラルネットワークの重みを初期化する。作成したインスタンスに対しapplyメソッドで適用する\n",
        "    :param m: ニューラルネットワークを構成する層\n",
        "    \"\"\"\n",
        "    classname = m.__class__.__name__\n",
        "    if classname.find('Conv') != -1:            # 畳み込み層の場合\n",
        "        m.weight.data.normal_(0.0, 0.02)\n",
        "        m.bias.data.fill_(0)\n",
        "    elif classname.find('Linear') != -1:        # 全結合層の場合\n",
        "        m.weight.data.normal_(0.0, 0.02)\n",
        "        m.bias.data.fill_(0)\n",
        "    elif classname.find('BatchNorm') != -1:     # バッチノーマライゼーションの場合\n",
        "        m.weight.data.normal_(1.0, 0.02)\n",
        "        m.bias.data.fill_(0)"
      ]
    },
    {
      "cell_type": "markdown",
      "metadata": {
        "id": "1wjv7zSo-02S"
      },
      "source": [
        "### 生成器Gのインスタンス生成と重み初期化"
      ]
    },
    {
      "cell_type": "code",
      "execution_count": 13,
      "metadata": {
        "colab": {
          "base_uri": "https://localhost:8080/"
        },
        "id": "zFlZJS8zZQgO",
        "outputId": "a84930fc-e962-43a6-c89c-35deba134b98"
      },
      "outputs": [
        {
          "data": {
            "text/plain": [
              "Generator(\n",
              "  (layer0): Sequential(\n",
              "    (0): ConvTranspose2d(100, 512, kernel_size=(3, 3), stride=(1, 1))\n",
              "    (1): BatchNorm2d(512, eps=1e-05, momentum=0.1, affine=True, track_running_stats=True)\n",
              "    (2): ReLU()\n",
              "  )\n",
              "  (layer1): Sequential(\n",
              "    (0): ConvTranspose2d(512, 256, kernel_size=(3, 3), stride=(2, 2))\n",
              "    (1): BatchNorm2d(256, eps=1e-05, momentum=0.1, affine=True, track_running_stats=True)\n",
              "    (2): ReLU()\n",
              "  )\n",
              "  (layer2): Sequential(\n",
              "    (0): ConvTranspose2d(256, 128, kernel_size=(4, 4), stride=(2, 2), padding=(1, 1))\n",
              "    (1): BatchNorm2d(128, eps=1e-05, momentum=0.1, affine=True, track_running_stats=True)\n",
              "    (2): ReLU()\n",
              "  )\n",
              "  (layer3): Sequential(\n",
              "    (0): ConvTranspose2d(128, 1, kernel_size=(4, 4), stride=(2, 2), padding=(1, 1))\n",
              "    (1): Tanh()\n",
              "  )\n",
              ")"
            ]
          },
          "execution_count": 13,
          "metadata": {},
          "output_type": "execute_result"
        }
      ],
      "source": [
        "# 生成器G　インスタンス化, GPU上に転送\n",
        "G = Generator(z_dim=z_dim, g_dim=g_dim).to(device)\n",
        "G.apply(weights_init)    # weights_init関数で初期化"
      ]
    },
    {
      "cell_type": "markdown",
      "metadata": {
        "id": "1EdUkMeTbAKX"
      },
      "source": [
        "### 生成器のTensor形状確認"
      ]
    },
    {
      "cell_type": "code",
      "execution_count": 14,
      "metadata": {
        "colab": {
          "base_uri": "https://localhost:8080/"
        },
        "id": "VGatXcHXmdg2",
        "outputId": "7ce01985-cad9-4eeb-aa7e-fff3e409aba0"
      },
      "outputs": [
        {
          "name": "stdout",
          "output_type": "stream",
          "text": [
            "----------------------------------------------------------------\n",
            "        Layer (type)               Output Shape         Param #\n",
            "================================================================\n",
            "   ConvTranspose2d-1            [-1, 512, 3, 3]         461,312\n",
            "       BatchNorm2d-2            [-1, 512, 3, 3]           1,024\n",
            "              ReLU-3            [-1, 512, 3, 3]               0\n",
            "   ConvTranspose2d-4            [-1, 256, 7, 7]       1,179,904\n",
            "       BatchNorm2d-5            [-1, 256, 7, 7]             512\n",
            "              ReLU-6            [-1, 256, 7, 7]               0\n",
            "   ConvTranspose2d-7          [-1, 128, 14, 14]         524,416\n",
            "       BatchNorm2d-8          [-1, 128, 14, 14]             256\n",
            "              ReLU-9          [-1, 128, 14, 14]               0\n",
            "  ConvTranspose2d-10            [-1, 1, 28, 28]           2,049\n",
            "             Tanh-11            [-1, 1, 28, 28]               0\n",
            "================================================================\n",
            "Total params: 2,169,473\n",
            "Trainable params: 2,169,473\n",
            "Non-trainable params: 0\n",
            "----------------------------------------------------------------\n",
            "Input size (MB): 0.00\n",
            "Forward/backward pass size (MB): 0.98\n",
            "Params size (MB): 8.28\n",
            "Estimated Total Size (MB): 9.26\n",
            "----------------------------------------------------------------\n"
          ]
        }
      ],
      "source": [
        "# 生成器GのTensor形状\n",
        "# torchsummary.summary(network, 入力テンソル形状)\n",
        "# 入力: 100次元のノイズベクトル\n",
        "torchsummary.summary(G, (100, 1, 1))"
      ]
    },
    {
      "cell_type": "markdown",
      "metadata": {
        "id": "YwxXMImk-84F"
      },
      "source": [
        "### 識別器Dのインスタンス化と重み初期化"
      ]
    },
    {
      "cell_type": "code",
      "execution_count": 15,
      "metadata": {
        "colab": {
          "base_uri": "https://localhost:8080/"
        },
        "id": "KhotqJk45vt6",
        "outputId": "e6008b40-a266-49dd-c9ca-f4f55e8b87d5"
      },
      "outputs": [
        {
          "data": {
            "text/plain": [
              "Discriminator(\n",
              "  (layer0): Sequential(\n",
              "    (0): Conv2d(1, 128, kernel_size=(4, 4), stride=(2, 2), padding=(1, 1))\n",
              "    (1): LeakyReLU(negative_slope=0.2)\n",
              "  )\n",
              "  (layer1): Sequential(\n",
              "    (0): Conv2d(128, 256, kernel_size=(4, 4), stride=(2, 2), padding=(1, 1))\n",
              "    (1): BatchNorm2d(256, eps=1e-05, momentum=0.1, affine=True, track_running_stats=True)\n",
              "    (2): LeakyReLU(negative_slope=0.2)\n",
              "  )\n",
              "  (layer2): Sequential(\n",
              "    (0): Conv2d(256, 512, kernel_size=(3, 3), stride=(2, 2))\n",
              "    (1): BatchNorm2d(512, eps=1e-05, momentum=0.1, affine=True, track_running_stats=True)\n",
              "    (2): LeakyReLU(negative_slope=0.2)\n",
              "  )\n",
              "  (layer3): Sequential(\n",
              "    (0): Conv2d(512, 1, kernel_size=(3, 3), stride=(1, 1))\n",
              "    (1): Sigmoid()\n",
              "  )\n",
              ")"
            ]
          },
          "execution_count": 15,
          "metadata": {},
          "output_type": "execute_result"
        }
      ],
      "source": [
        "# 識別器D　インスタンス化, GPU上に転送\n",
        "D = Discriminator(d_dim=d_dim).to(device)\n",
        "D.apply(weights_init)"
      ]
    },
    {
      "cell_type": "markdown",
      "metadata": {
        "id": "UQPALphlbGYX"
      },
      "source": [
        "### 識別器のTensor形状確認"
      ]
    },
    {
      "cell_type": "code",
      "execution_count": 16,
      "metadata": {
        "colab": {
          "base_uri": "https://localhost:8080/"
        },
        "id": "S3lWvc655xfy",
        "outputId": "76309b28-2847-4a79-c6a1-b645fe8dc04d"
      },
      "outputs": [
        {
          "name": "stdout",
          "output_type": "stream",
          "text": [
            "----------------------------------------------------------------\n",
            "        Layer (type)               Output Shape         Param #\n",
            "================================================================\n",
            "            Conv2d-1          [-1, 128, 14, 14]           2,176\n",
            "         LeakyReLU-2          [-1, 128, 14, 14]               0\n",
            "            Conv2d-3            [-1, 256, 7, 7]         524,544\n",
            "       BatchNorm2d-4            [-1, 256, 7, 7]             512\n",
            "         LeakyReLU-5            [-1, 256, 7, 7]               0\n",
            "            Conv2d-6            [-1, 512, 3, 3]       1,180,160\n",
            "       BatchNorm2d-7            [-1, 512, 3, 3]           1,024\n",
            "         LeakyReLU-8            [-1, 512, 3, 3]               0\n",
            "            Conv2d-9              [-1, 1, 1, 1]           4,609\n",
            "          Sigmoid-10              [-1, 1, 1, 1]               0\n",
            "================================================================\n",
            "Total params: 1,713,025\n",
            "Trainable params: 1,713,025\n",
            "Non-trainable params: 0\n",
            "----------------------------------------------------------------\n",
            "Input size (MB): 0.00\n",
            "Forward/backward pass size (MB): 0.78\n",
            "Params size (MB): 6.53\n",
            "Estimated Total Size (MB): 7.31\n",
            "----------------------------------------------------------------\n"
          ]
        }
      ],
      "source": [
        "# 識別器DのTensor形状\n",
        "# torchsummary.summary(network, 入力テンソル形状)\n",
        "# 入力: 1channel*28px*28pxの画像\n",
        "torchsummary.summary(D, (1, 28, 28))"
      ]
    },
    {
      "cell_type": "markdown",
      "metadata": {
        "id": "SJYTFLaV6s5b"
      },
      "source": [
        "## 学習の実行"
      ]
    },
    {
      "cell_type": "code",
      "execution_count": 17,
      "metadata": {
        "id": "BPY91YHJ6veV"
      },
      "outputs": [],
      "source": [
        "criterion = nn.BCELoss()    # バイナリークロスエントロピー\n",
        "\n",
        "# 生成器のエポックごとの画像生成に使用する確認用の固定ノイズ\n",
        "fixed_noise = torch.randn(batch_size, z_dim, 1, 1, device=device)  \n",
        "\n",
        "# オプティマイザの用意\n",
        "optimizerD = optim.Adam(D.parameters(), lr=lr, betas=(beta1, 0.999), weight_decay=1e-5)  # 識別器D用\n",
        "optimizerG = optim.Adam(G.parameters(), lr=lr, betas=(beta1, 0.999), weight_decay=1e-5)  # 生成器G用"
      ]
    },
    {
      "cell_type": "code",
      "execution_count": 18,
      "metadata": {
        "colab": {
          "base_uri": "https://localhost:8080/"
        },
        "id": "jtLt35wJ61sR",
        "outputId": "700f28c2-6cab-4874-aaaa-17e4630691f5"
      },
      "outputs": [
        {
          "name": "stdout",
          "output_type": "stream",
          "text": [
            "epoch:[1/10],num_images:[1/1200] Loss_D: 1.493 Loss_G: 2.977\n",
            "epoch:[1/10],num_images:[601/1200] Loss_D: 0.399 Loss_G: 4.434\n",
            "epoch:[2/10],num_images:[1/1200] Loss_D: 0.885 Loss_G: 1.881\n",
            "epoch:[2/10],num_images:[601/1200] Loss_D: 0.803 Loss_G: 1.551\n",
            "epoch:[3/10],num_images:[1/1200] Loss_D: 1.119 Loss_G: 1.413\n",
            "epoch:[3/10],num_images:[601/1200] Loss_D: 0.589 Loss_G: 1.962\n",
            "epoch:[4/10],num_images:[1/1200] Loss_D: 0.351 Loss_G: 2.604\n",
            "epoch:[4/10],num_images:[601/1200] Loss_D: 0.182 Loss_G: 3.161\n",
            "epoch:[5/10],num_images:[1/1200] Loss_D: 0.308 Loss_G: 2.930\n",
            "epoch:[5/10],num_images:[601/1200] Loss_D: 0.410 Loss_G: 3.230\n",
            "epoch:[6/10],num_images:[1/1200] Loss_D: 0.788 Loss_G: 4.790\n",
            "epoch:[6/10],num_images:[601/1200] Loss_D: 0.677 Loss_G: 2.663\n",
            "epoch:[7/10],num_images:[1/1200] Loss_D: 0.245 Loss_G: 3.491\n",
            "epoch:[7/10],num_images:[601/1200] Loss_D: 0.428 Loss_G: 2.464\n",
            "epoch:[8/10],num_images:[1/1200] Loss_D: 0.205 Loss_G: 4.788\n",
            "epoch:[8/10],num_images:[601/1200] Loss_D: 0.695 Loss_G: 1.327\n",
            "epoch:[9/10],num_images:[1/1200] Loss_D: 0.295 Loss_G: 2.350\n",
            "epoch:[9/10],num_images:[601/1200] Loss_D: 1.102 Loss_G: 5.640\n",
            "epoch:[10/10],num_images:[1/1200] Loss_D: 0.738 Loss_G: 6.987\n",
            "epoch:[10/10],num_images:[601/1200] Loss_D: 0.313 Loss_G: 3.119\n"
          ]
        }
      ],
      "source": [
        "G_losses = []\n",
        "D_losses = []\n",
        "\n",
        "#最初の画像の保存\n",
        "fake_image = G(fixed_noise)\n",
        "vutils.save_image(fake_image.detach(), '{}/fake_samples_epoch_{:03d}.png'.format(out_dir, 0),\n",
        "                      normalize=True, nrow=10)\n",
        "\n",
        "# 学習のループ\n",
        "for epoch in range(num_epochs):\n",
        "    for n, images in enumerate(dataloader):\n",
        "        real_image = images[0].to(device)     # 本物画像, GPU上に転送\n",
        "        sample_size = real_image.size(0)    # 画像枚数\n",
        "        \n",
        "        # 標準正規分布(平均0,分散1)からノイズを生成, GPU上に転送\n",
        "        noise = torch.randn(sample_size, z_dim, 1, 1, device=device)\n",
        "        # 本物画像に対する正解ラベル:1 , GPU上に転送\n",
        "        real_target = torch.full((sample_size,), 1., device=device)\n",
        "        # 生成画像に対する正解ラベル:0 , GPU上に転送\n",
        "        fake_target = torch.full((sample_size,), 0., device=device)\n",
        "        \n",
        "        \"\"\"\n",
        "        識別器Dの更新\n",
        "        \"\"\"\n",
        "        D.zero_grad()    # 勾配初期化\n",
        "\n",
        "        ########################\n",
        "        # 本物画像に対する損失計算\n",
        "        ########################\n",
        "        output = D(real_image) # 識別器Dで本物画像に対する識別信号を出力\n",
        "        lossD_real = criterion(output, real_target) # 本物画像に対する識別信号の損失値\n",
        "\n",
        "        ########################\n",
        "        # 偽物画像に対する損失計算\n",
        "        ########################\n",
        "        fake_image = G(noise) # 生成器Gでノイズから生成画像を生成\n",
        "\n",
        "        output = D(fake_image.detach())  # 識別器Dで本物画像に対する識別信号を出力\n",
        "        lossD_fake = criterion(output, fake_target)  # 生成画像に対する識別信号の損失値\n",
        "\n",
        "        ########################\n",
        "        # 損失計算し,誤差逆伝播\n",
        "        ########################\n",
        "        lossD = lossD_real + lossD_fake    # 識別器Dの全体の損失\n",
        "        lossD.backward()    # 誤差逆伝播\n",
        "        optimizerD.step()   # Dのパラメーターを更新\n",
        "\n",
        "        \"\"\"\n",
        "        生成器Gの更新\n",
        "        \"\"\"\n",
        "        G.zero_grad()    # 勾配の初期化\n",
        "\n",
        "        output = D(fake_image)   # 更新した識別器Dで改めて生成画像に対する識別信号を出力\n",
        "        lossG = criterion(output, real_target)   # 生成器Gの損失値。Dに生成画像を本物画像と誤認させたいため目標値は「1」\n",
        "        lossG.backward()     # 誤差逆伝播\n",
        "\n",
        "        optimizerG.step()   # Gのパラメータを更新\n",
        "        \n",
        "        \"\"\"\n",
        "        DとGのロス表示\n",
        "        \"\"\"\n",
        "        if n % loss_display_interval == 0: \n",
        "            print('epoch:[{}/{}],num_images:[{}/{}] Loss_D: {:.3f} Loss_G: {:.3f}'\n",
        "                  .format(epoch + 1, num_epochs,\n",
        "                          n + 1, len(dataloader),\n",
        "                          lossD.item(), lossG.item()))\n",
        "\n",
        "\n",
        "        if epoch == 0 and n == 0:     # 初回に本物画像を保存する\n",
        "            vutils.save_image(real_image, '{}/real_samples.png'.format(out_dir),\n",
        "                              normalize=True, nrow=10)\n",
        "\n",
        "        # ログ出力用データの保存\n",
        "        D_losses.append(lossD.item())\n",
        "        G_losses.append(lossG.item())\n",
        "\n",
        "    \"\"\"\n",
        "    確認用画像の生成\n",
        "    \"\"\"\n",
        "    fake_image = G(fixed_noise)  # 1エポック終了ごとに確認用の生成画像を生成する\n",
        "    vutils.save_image(fake_image.detach(), '{}/fake_samples_epoch_{:03d}.png'.format(out_dir, epoch + 1),\n",
        "                      normalize=True, nrow=10)\n",
        "\n",
        "    \"\"\"\n",
        "    モデルの保存\n",
        "    \"\"\"\n",
        "    if (epoch + 1) % 5 == 0:   # 5エポックごとにモデルを保存\n",
        "        torch.save(G.state_dict(), '{}/G_epoch_{}.pth'.format(out_dir, epoch + 1))\n",
        "        torch.save(D.state_dict(), '{}/D_epoch_{}.pth'.format(out_dir, epoch + 1))"
      ]
    },
    {
      "cell_type": "markdown",
      "metadata": {
        "id": "gp7AlvznPwkL"
      },
      "source": [
        "### 学習済みモデルの推論画像表示"
      ]
    },
    {
      "cell_type": "code",
      "execution_count": 32,
      "metadata": {
        "colab": {
          "base_uri": "https://localhost:8080/",
          "height": 283
        },
        "id": "oOpwCkjhPvSS",
        "outputId": "ccb309a3-2836-471b-fb66-bd10fa1d0333"
      },
      "outputs": [
        {
          "data": {
            "text/plain": [
              "<matplotlib.image.AxesImage at 0x7fcd6ac9b4d0>"
            ]
          },
          "execution_count": 32,
          "metadata": {},
          "output_type": "execute_result"
        },
        {
          "data": {
            "image/png": "[encoded data removed]",
            "text/plain": [
              "<Figure size 432x288 with 1 Axes>"
            ]
          },
          "metadata": {
            "needs_background": "light"
          },
          "output_type": "display_data"
        }
      ],
      "source": [
        "from PIL import Image\n",
        "# 標準正規分布(平均0,分散1)からノイズを生成, GPU上に転送\n",
        "noise = torch.randn(sample_size, z_dim, 1, 1, device=device)\n",
        "\n",
        "fake_image = G(noise) # 生成器Gでノイズから生成画像を生成\n",
        "fake_image = fake_image.to('cpu').detach() #Pytorch TensorをGPUからCPUに転送\n",
        "fake_image = fake_image.numpy() #numpy arrayに変換\n",
        "fake_image = fake_image.squeeze() #(B,C,H,W) -> (B,H,W)に変換\n",
        "\n",
        "plt.imshow(fake_image[0],cmap='gray')"
      ]
    },
    {
      "cell_type": "markdown",
      "metadata": {
        "id": "tZMTrMo98UDm"
      },
      "source": [
        "### 損失ロス"
      ]
    },
    {
      "cell_type": "code",
      "execution_count": 33,
      "metadata": {
        "colab": {
          "base_uri": "https://localhost:8080/",
          "height": 265
        },
        "id": "E6EUNTDR8THj",
        "outputId": "0ec6a78a-6cad-4ef1-c8c2-b0da387dbe9f"
      },
      "outputs": [
        {
          "data": {
            "image/png": "[encoded data removed]",
            "text/plain": [
              "<Figure size 432x288 with 1 Axes>"
            ]
          },
          "metadata": {
            "needs_background": "light"
          },
          "output_type": "display_data"
        }
      ],
      "source": [
        "from matplotlib import pyplot as plt\n",
        "\n",
        "\n",
        "plt.plot(G_losses, label='Generator_Losses')\n",
        "plt.plot(D_losses, label='Discriminator Losses')\n",
        "plt.legend()\n",
        "plt.savefig('loss.png')"
      ]
    },
    {
      "cell_type": "markdown",
      "metadata": {
        "id": "Nv-pJFfg8Oys"
      },
      "source": [
        "## 重みのロード & 推論"
      ]
    },
    {
      "cell_type": "code",
      "execution_count": 35,
      "metadata": {
        "id": "3iAX3Q5Q8NO8"
      },
      "outputs": [],
      "source": [
        "model_path = \"/content/result_2-DCGAN/G_epoch_10.pth\"\n",
        "\n",
        "# 生成器G　ランダムベクトルから生成画像を作成する\n",
        "G_infer = Generator(z_dim=z_dim, g_dim=g_dim).to(device)\n",
        "G_infer.load_state_dict(torch.load(model_path))\n",
        "\n",
        "# 生成器の画像生成に使用する確認用の固定ノイズ\n",
        "fixed_noise = torch.randn(batch_size, z_dim, 1, 1, device=device)\n",
        "\n",
        "fake_image = G_infer(fixed_noise)  #確認用の画像を生成する\n",
        "vutils.save_image(fake_image.detach(), '{}/Generator_sample.png'.format(out_dir),\n",
        "                  normalize=True, nrow=10)\n",
        "\n",
        "#画像の表示\n",
        "gird_fake_images = vutils.make_grid(fake_image.detach(),normalize=True,nrow=10)\n",
        "gird_fake_images = gird_fake_images.to('cpu').numpy()\n",
        "gird_fake_images = np.transpose(gird_fake_images, [1,2,0]) #軸の入れ替え\n",
        "plt.imshow(gird_fake_images)"
      ]
    }
  ],
  "metadata": {
    "accelerator": "GPU",
    "colab": {
      "collapsed_sections": [],
      "name": "Section5_1_DCGAN_MNIST_pytorch.ipynb",
      "provenance": []
    },
    "kernelspec": {
      "display_name": "Python 3",
      "name": "python3"
    },
    "language_info": {
      "name": "python"
    }
  },
  "nbformat": 4,
  "nbformat_minor": 0
}
