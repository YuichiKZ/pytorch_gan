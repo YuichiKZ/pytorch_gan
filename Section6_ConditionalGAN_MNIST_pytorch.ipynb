{
  "cells": [
    {
      "cell_type": "markdown",
      "metadata": {
        "id": "xWop9zHATgct"
      },
      "source": [
        "[![Open In Colab](https://colab.research.google.com/assets/colab-badge.svg)](https://colab.research.google.com/github/YuichiKZ/pytorch_gan/blob/main/Section6_ConditionalGAN_MNIST_pytorch.ipynb)\n",
        "\n",
        "#ConditionalGANのノートブック\n",
        "- このノートブックではPyTorchによるConditionalGANネットワークの実装と学習を行います。\n",
        "\n",
        "#学習目標\n",
        "- 画像を生成するGenerator(生成器)のネットワーク構造を理解する\n",
        "- 画像を識別するDiscriminator(識別器)のネットワーク構造を理解する\n",
        "- ConditionalGANの損失関数とニューラルネットワークの学習の流れを理解する\n",
        "- ConditionalGANの入力ラベルベクトルについて理解する\n",
        "- ConditionalGANのネットワークを実装できるようにする\n"
      ]
    },
    {
      "cell_type": "markdown",
      "metadata": {
        "id": "e5gfvl-sImNX"
      },
      "source": [
        "# GPU確認"
      ]
    },
    {
      "cell_type": "code",
      "execution_count": 1,
      "metadata": {
        "colab": {
          "base_uri": "https://localhost:8080/"
        },
        "id": "zaeg0L_0IGrC",
        "outputId": "6069b60e-12ce-44f5-e02e-b8565663ecfd"
      },
      "outputs": [
        {
          "name": "stdout",
          "output_type": "stream",
          "text": [
            "Mon May  9 14:49:16 2022       \n",
            "+-----------------------------------------------------------------------------+\n",
            "| NVIDIA-SMI 460.32.03    Driver Version: 460.32.03    CUDA Version: 11.2     |\n",
            "|-------------------------------+----------------------+----------------------+\n",
            "| GPU  Name        Persistence-M| Bus-Id        Disp.A | Volatile Uncorr. ECC |\n",
            "| Fan  Temp  Perf  Pwr:Usage/Cap|         Memory-Usage | GPU-Util  Compute M. |\n",
            "|                               |                      |               MIG M. |\n",
            "|===============================+======================+======================|\n",
            "|   0  Tesla V100-SXM2...  Off  | 00000000:00:04.0 Off |                    0 |\n",
            "| N/A   36C    P0    23W / 300W |      0MiB / 16160MiB |      0%      Default |\n",
            "|                               |                      |                  N/A |\n",
            "+-------------------------------+----------------------+----------------------+\n",
            "                                                                               \n",
            "+-----------------------------------------------------------------------------+\n",
            "| Processes:                                                                  |\n",
            "|  GPU   GI   CI        PID   Type   Process name                  GPU Memory |\n",
            "|        ID   ID                                                   Usage      |\n",
            "|=============================================================================|\n",
            "|  No running processes found                                                 |\n",
            "+-----------------------------------------------------------------------------+\n"
          ]
        }
      ],
      "source": [
        "!nvidia-smi"
      ]
    },
    {
      "cell_type": "markdown",
      "metadata": {
        "id": "3Re_WY_fIuMp"
      },
      "source": [
        "# PyTorch インポート & バージョン確認"
      ]
    },
    {
      "cell_type": "code",
      "execution_count": 2,
      "metadata": {
        "colab": {
          "base_uri": "https://localhost:8080/"
        },
        "id": "j9afQCGCIsrr",
        "outputId": "143b6f9a-ee3c-4873-9aee-005bbdde2703"
      },
      "outputs": [
        {
          "name": "stdout",
          "output_type": "stream",
          "text": [
            "1.11.0+cu113\n",
            "0.12.0+cu113\n"
          ]
        }
      ],
      "source": [
        "import torch\n",
        "import torchvision\n",
        "# バージョンの確認\n",
        "print(torch.__version__) \n",
        "print(torchvision.__version__) "
      ]
    },
    {
      "cell_type": "markdown",
      "metadata": {
        "id": "Dumsi8zdI4EK"
      },
      "source": [
        "# ConditionalGAN実装"
      ]
    },
    {
      "cell_type": "markdown",
      "metadata": {
        "id": "TwLo05nxUPJL"
      },
      "source": [
        "## パッケージインポート"
      ]
    },
    {
      "cell_type": "code",
      "execution_count": 3,
      "metadata": {
        "id": "899aXbifcCwu"
      },
      "outputs": [],
      "source": [
        "# パッケージのインポート\n",
        "import os\n",
        "import random\n",
        "import numpy as np\n",
        "import matplotlib.pyplot as plt\n",
        "\n",
        "import torch.nn as nn\n",
        "import torch.optim as optim\n",
        "import torch.utils.data\n",
        "import torchvision.datasets as dset\n",
        "import torchvision.transforms as transforms\n",
        "import torchvision.utils as vutils\n",
        "import torchsummary"
      ]
    },
    {
      "cell_type": "markdown",
      "metadata": {
        "id": "32MJdDAOQC1r"
      },
      "source": [
        "## パラメータ設定"
      ]
    },
    {
      "cell_type": "code",
      "execution_count": 4,
      "metadata": {
        "colab": {
          "base_uri": "https://localhost:8080/"
        },
        "id": "iJT7ERb8Kl8m",
        "outputId": "e00c238b-37b4-44bd-a309-e7d0cb07838d"
      },
      "outputs": [
        {
          "data": {
            "text/plain": [
              "<torch._C.Generator at 0x7fa5462ffef0>"
            ]
          },
          "execution_count": 4,
          "metadata": {},
          "output_type": "execute_result"
        }
      ],
      "source": [
        "batch_size=50\n",
        "z_dim = 100 #ノイズ次元\n",
        "g_dim = 128 \n",
        "d_dim = 128 \n",
        "num_epochs = 10 #エポック数\n",
        "lr = 0.0002\n",
        "beta1 = 0.5\n",
        "out_dir = './result_4-CGAN'\n",
        "loss_display_interval = 600\n",
        "\n",
        "# 保存先ディレクトリを作成\n",
        "try:\n",
        "    os.makedirs(out_dir, exist_ok=True)\n",
        "except Exception as error: \n",
        "    print(error)\n",
        "\n",
        "# 乱数のシード（種）を固定\n",
        "random.seed(0)\n",
        "np.random.seed(0)\n",
        "torch.manual_seed(0)"
      ]
    },
    {
      "cell_type": "markdown",
      "metadata": {
        "id": "PEyr0YmET6yA"
      },
      "source": [
        "##データセット定義"
      ]
    },
    {
      "cell_type": "markdown",
      "metadata": {
        "id": "ScrzEDqLWSMs"
      },
      "source": [
        "- `transforms.Compose(transforms)`\n",
        "<br>\n",
        "複数の Transform を連続して行う Transform を作成\n",
        "- `transforms.ToTensor()`\n",
        "<br>\n",
        "PIL Imageまたはnumpy ndarrayをTorch Tensorに変換\n",
        "- `transforms.Normalize((mean,...),(std,...))`\n",
        "<br>\n",
        "各チャンネルに関して標準化を行う<br>\n",
        "$output[channel] = (input[channel]-mean[channel])/std[channel]$\n",
        "<br>\n",
        "i.e. <br>\n",
        "MNISTの場合<br>\n",
        "チャンネル数: 1(白黒画像)<br>\n",
        "分布: [0,1]<br>\n",
        "より\n",
        "$std=0.5, mean=0.5$とすると\n",
        "分布は[-1,1]となる。"
      ]
    },
    {
      "cell_type": "code",
      "execution_count": 5,
      "metadata": {
        "colab": {
          "base_uri": "https://localhost:8080/",
          "height": 428,
          "referenced_widgets": [
            "409466dd5024496c86078bb57aa38b48",
            "f52e704670e648f5bcbbf8724f05c32f",
            "d00de77dd04e4d569e628953590a70c5",
            "db8b178d91ee46e89dde8a293be315d2",
            "365e271e6bf54b009bfe743e9f3c4ec8",
            "f8cda96cb1fc4fc39e45924ab81c1bcf",
            "bfc8481ca3db42889d8cec355c91bf61",
            "7ef59cd8371348a294459b0103a084a5",
            "d7bc73565e4446f99dd0c3ef1e1d719a",
            "2743c6e6244a4d998f721421233f7d6a",
            "1962077b0ecf41c095a8c75ba1c4eefc",
            "99b33178ad7c46ed98104e34b8eaa5c0",
            "b723517743d54385a775cf33ee0f8c4c",
            "deb5cb71d6454dde99b0943ca28e09d4",
            "231492af0022409584f0ed4c365c6cff",
            "a11dbbb98a9d445aa061030950b63059",
            "278dd8a4e3b1474fa46c04ebd49ff992",
            "0b87197cef10487cabacd241a849893e",
            "3d4da159970e4d0888ec80d3e22d3a71",
            "215338a165ee4132921d813f320f44b1",
            "df4e28aa6f6f410486caa7d273c6a091",
            "b643127e0b784bf08513d9edc04f1cb1",
            "7c3a97b960dc4c7d9075f71a5d1ad174",
            "be6ce0f317ab495083afee42deb57f80",
            "b90559c945e2419bbed03abfdec6c6fd",
            "47c28ba83800426d9a579f1736d8a775",
            "b9ee78904d6c43eb825aa6ecd76b2388",
            "4f0626b9f5e54ad8adf1c591d3edf4f3",
            "e30181895c90432d885b9cb24797eb92",
            "94a0efa6425b45ccac42c3c1ef8374ae",
            "98d209c1712c4982a18afae9ba89db26",
            "4db823c9d892451994f6bdd9fe668ea6",
            "1def12f3a1424f0db0bcad07dfe15541",
            "065c836d0c1e42d783d26b68e787dd10",
            "1e85dfaba8ec44eb91707d901587f3f9",
            "d8dadccbff7e466ea6eebfd510dccd9a",
            "4150c82421c242ab99df8a20d05ccbfd",
            "1281ea984ab54554832d001b0c7be38c",
            "1a5e96358b4a4b83b2cd3b474fe96880",
            "b8c406fd56024ff6aa889301c9515c37",
            "f2d24d091fd3460c9a3d33937bd9a136",
            "7db9f177d0d64ac0875aab150b5937c3",
            "7788c3708fef4c9db2bdba83f6260005",
            "d0417dacec054997a0787df4e5fd25ff"
          ]
        },
        "id": "24Nobb-kKmFK",
        "outputId": "0c3238bc-7b08-47d9-c890-a623a2b36183"
      },
      "outputs": [
        {
          "name": "stdout",
          "output_type": "stream",
          "text": [
            "Downloading http://yann.lecun.com/exdb/mnist/train-images-idx3-ubyte.gz\n",
            "Downloading http://yann.lecun.com/exdb/mnist/train-images-idx3-ubyte.gz to ./mnist_data/MNIST/raw/train-images-idx3-ubyte.gz\n"
          ]
        },
        {
          "data": {
            "application/vnd.jupyter.widget-view+json": {
              "model_id": "409466dd5024496c86078bb57aa38b48",
              "version_major": 2,
              "version_minor": 0
            },
            "text/plain": [
              "  0%|          | 0/9912422 [00:00<?, ?it/s]"
            ]
          },
          "metadata": {},
          "output_type": "display_data"
        },
        {
          "name": "stdout",
          "output_type": "stream",
          "text": [
            "Extracting ./mnist_data/MNIST/raw/train-images-idx3-ubyte.gz to ./mnist_data/MNIST/raw\n",
            "\n",
            "Downloading http://yann.lecun.com/exdb/mnist/train-labels-idx1-ubyte.gz\n",
            "Downloading http://yann.lecun.com/exdb/mnist/train-labels-idx1-ubyte.gz to ./mnist_data/MNIST/raw/train-labels-idx1-ubyte.gz\n"
          ]
        },
        {
          "data": {
            "application/vnd.jupyter.widget-view+json": {
              "model_id": "99b33178ad7c46ed98104e34b8eaa5c0",
              "version_major": 2,
              "version_minor": 0
            },
            "text/plain": [
              "  0%|          | 0/28881 [00:00<?, ?it/s]"
            ]
          },
          "metadata": {},
          "output_type": "display_data"
        },
        {
          "name": "stdout",
          "output_type": "stream",
          "text": [
            "Extracting ./mnist_data/MNIST/raw/train-labels-idx1-ubyte.gz to ./mnist_data/MNIST/raw\n",
            "\n",
            "Downloading http://yann.lecun.com/exdb/mnist/t10k-images-idx3-ubyte.gz\n",
            "Downloading http://yann.lecun.com/exdb/mnist/t10k-images-idx3-ubyte.gz to ./mnist_data/MNIST/raw/t10k-images-idx3-ubyte.gz\n"
          ]
        },
        {
          "data": {
            "application/vnd.jupyter.widget-view+json": {
              "model_id": "7c3a97b960dc4c7d9075f71a5d1ad174",
              "version_major": 2,
              "version_minor": 0
            },
            "text/plain": [
              "  0%|          | 0/1648877 [00:00<?, ?it/s]"
            ]
          },
          "metadata": {},
          "output_type": "display_data"
        },
        {
          "name": "stdout",
          "output_type": "stream",
          "text": [
            "Extracting ./mnist_data/MNIST/raw/t10k-images-idx3-ubyte.gz to ./mnist_data/MNIST/raw\n",
            "\n",
            "Downloading http://yann.lecun.com/exdb/mnist/t10k-labels-idx1-ubyte.gz\n",
            "Downloading http://yann.lecun.com/exdb/mnist/t10k-labels-idx1-ubyte.gz to ./mnist_data/MNIST/raw/t10k-labels-idx1-ubyte.gz\n"
          ]
        },
        {
          "data": {
            "application/vnd.jupyter.widget-view+json": {
              "model_id": "065c836d0c1e42d783d26b68e787dd10",
              "version_major": 2,
              "version_minor": 0
            },
            "text/plain": [
              "  0%|          | 0/4542 [00:00<?, ?it/s]"
            ]
          },
          "metadata": {},
          "output_type": "display_data"
        },
        {
          "name": "stdout",
          "output_type": "stream",
          "text": [
            "Extracting ./mnist_data/MNIST/raw/t10k-labels-idx1-ubyte.gz to ./mnist_data/MNIST/raw\n",
            "\n"
          ]
        }
      ],
      "source": [
        "# MNISTの訓練データセットを読み込む\n",
        "# transforms.ToTensor()-> Torch Tensorに変換\n",
        "# transforms.Normalize((mean,),(std)) -> テンソルの値を平均0\n",
        "dataset = dset.MNIST(root='./mnist_data', download=True, train=True,\n",
        "                      transform=transforms.Compose([\n",
        "                          transforms.ToTensor(),\n",
        "                          transforms.Normalize((0.5,), (0.5,)) ]))"
      ]
    },
    {
      "cell_type": "code",
      "execution_count": 6,
      "metadata": {
        "colab": {
          "base_uri": "https://localhost:8080/"
        },
        "id": "SaQG3jaqKplQ",
        "outputId": "7f5364ee-5fce-4e36-8902-935a12665e6e"
      },
      "outputs": [
        {
          "data": {
            "text/plain": [
              "torch.Size([1, 28, 28])"
            ]
          },
          "execution_count": 6,
          "metadata": {},
          "output_type": "execute_result"
        }
      ],
      "source": [
        "# 画像配列の形状確認\n",
        "dataset[0][0].shape"
      ]
    },
    {
      "cell_type": "code",
      "execution_count": 7,
      "metadata": {
        "colab": {
          "base_uri": "https://localhost:8080/"
        },
        "id": "t6jWFZjqKpty",
        "outputId": "ca56aae5-ec46-49d7-944f-4ed37b1080bf"
      },
      "outputs": [
        {
          "name": "stdout",
          "output_type": "stream",
          "text": [
            "device: cuda:0\n"
          ]
        }
      ],
      "source": [
        "# 訓練データをセットしたDataLoader作成\n",
        "dataloader = torch.utils.data.DataLoader(dataset, batch_size=batch_size,\n",
        "                                         shuffle=True)\n",
        "\n",
        "# 学習に使用するデバイスを指定。\n",
        "device = torch.device(\"cuda:0\" if torch.cuda.is_available() else \"cpu\")\n",
        "print('device:', device)"
      ]
    },
    {
      "cell_type": "markdown",
      "metadata": {
        "id": "apEYzaWdK7Sf"
      },
      "source": [
        "##ネットワークの定義"
      ]
    },
    {
      "cell_type": "markdown",
      "metadata": {
        "id": "MYoxMkb8bR1q"
      },
      "source": [
        "### Generatorクラス"
      ]
    },
    {
      "cell_type": "code",
      "execution_count": 8,
      "metadata": {
        "id": "GMKr-8Ryd-Nt"
      },
      "outputs": [],
      "source": [
        "class Generator(nn.Module):\n",
        "    def __init__(self, z_dim=100, g_dim=128, nch=1):\n",
        "        \"\"\"\n",
        "        z_dim: 入力ベクトルzの次元\n",
        "        g_dim: 最終層の入力チャネル数\n",
        "        nch: 出力画像のチャネル数\n",
        "        \"\"\"\n",
        "        super(Generator, self).__init__()\n",
        "\n",
        "        # ニューラルネットワークの構造を定義する\n",
        "        self.layer0 = nn.Sequential(\n",
        "            nn.ConvTranspose2d(\n",
        "                in_channels = z_dim,\n",
        "                out_channels = g_dim * 4,\n",
        "                kernel_size = 3,\n",
        "                stride = 1,\n",
        "                padding = 0\n",
        "            ),     # 転置畳み込み\n",
        "            nn.BatchNorm2d(g_dim * 4),                      # バッチノーマライゼーション\n",
        "            nn.ReLU()                                       # ReLU\n",
        "        )  # (B, z_dim, 1, 1) -> (B, g_dim*4, 3, 3)\n",
        "\n",
        "        self.layer1 = nn.Sequential(\n",
        "            nn.ConvTranspose2d(in_channels = g_dim * 4,\n",
        "                               out_channels = g_dim * 2, \n",
        "                               kernel_size = 3, \n",
        "                               stride = 2, \n",
        "                               padding = 0\n",
        "            ),     # 転置畳み込み\n",
        "            nn.BatchNorm2d(g_dim * 2),\n",
        "            nn.ReLU()\n",
        "        )  # (B, g_dim*4, 3, 3) -> (B, g_dim*2, 7, 7)\n",
        "\n",
        "        self.layer2 = nn.Sequential(\n",
        "            nn.ConvTranspose2d(\n",
        "                in_channels = g_dim * 2, \n",
        "                out_channels = g_dim, \n",
        "                kernel_size = 4, \n",
        "                stride = 2, \n",
        "                padding = 1\n",
        "            ),\n",
        "            nn.BatchNorm2d(g_dim),\n",
        "            nn.ReLU()\n",
        "        )  # (B, g_dim*2, 7, 7) -> (B, g_dim, 14, 14)\n",
        "\n",
        "        self.layer3 = nn.Sequential(\n",
        "            nn.ConvTranspose2d(\n",
        "                in_channels = g_dim, \n",
        "                out_channels = nch, \n",
        "                kernel_size = 4, \n",
        "                stride = 2, \n",
        "                padding = 1\n",
        "            ),\n",
        "            nn.Tanh()\n",
        "        )  # (B, g_dim, 14, 14) -> (B, nch, 28, 28)\n",
        "\n",
        "        self.layers = [self.layer0,\n",
        "                       self.layer1,\n",
        "                       self.layer2,\n",
        "                       self.layer3]\n",
        "\n",
        "    def forward(self, z):\n",
        "        \"\"\"\n",
        "        順方向の演算\n",
        "        z: 入力ノイズ\n",
        "        return z: 生成画像\n",
        "        \"\"\"\n",
        "        for layer in self.layers:  # self.layersの各層で演算を行う\n",
        "            z = layer(z)\n",
        "        return z"
      ]
    },
    {
      "cell_type": "markdown",
      "metadata": {
        "id": "WMn-oV5wbVYC"
      },
      "source": [
        "### Discriminatorクラス"
      ]
    },
    {
      "cell_type": "code",
      "execution_count": 9,
      "metadata": {
        "id": "-GjIzFCBeCee"
      },
      "outputs": [],
      "source": [
        "class Discriminator(nn.Module):\n",
        "    \"\"\"\n",
        "    識別器Dのクラス\n",
        "    \"\"\"\n",
        "    def __init__(self, nch=1, d_dim=128):\n",
        "        \"\"\"\n",
        "        nch: 入力画像のチャネル数\n",
        "        d_dim: 先頭層の出力チャネル数\n",
        "        \"\"\"\n",
        "        super(Discriminator, self).__init__()\n",
        "\n",
        "        # ニューラルネットワークの構造を定義する\n",
        "        self.layer0 = nn.Sequential(\n",
        "                nn.Conv2d(nch, d_dim, 4, 2, 1),     # 畳み込み\n",
        "                nn.LeakyReLU(negative_slope=0.2)    # leaky ReLU関数\n",
        "            )  # (B, nch, 28, 28) -> (B, d_dim, 14, 14)\n",
        "        self.layer1 = nn.Sequential(\n",
        "                nn.Conv2d(d_dim, d_dim * 2, 4, 2, 1),\n",
        "                nn.BatchNorm2d(d_dim * 2),\n",
        "                nn.LeakyReLU(negative_slope=0.2)\n",
        "            )\n",
        "        self.layer2 = nn.Sequential(\n",
        "                nn.Conv2d(d_dim * 2, d_dim * 4, 3, 2, 0),\n",
        "                nn.BatchNorm2d(d_dim * 4),\n",
        "                nn.LeakyReLU(negative_slope=0.2)\n",
        "            )  # (B, d_dim*2, 7, 7) -> (B, d_dim*4, 3, 3)\n",
        "        self.layer3 = nn.Sequential(\n",
        "                nn.Conv2d(d_dim * 4, 1, 3, 1, 0),\n",
        "                nn.Sigmoid()    # Sigmoid関数\n",
        "            )    # (B, d_dim*4, 3, 3) -> (B, 1, 1, 1)\n",
        "        self.layers =[self.layer0,\n",
        "                      self.layer1,\n",
        "                      self.layer2,\n",
        "                      self.layer3]\n",
        "\n",
        "    def forward(self, x):\n",
        "        \"\"\"\n",
        "        順方向演算\n",
        "        x: 本物画像または生成画像\n",
        "        return: 識別信号\n",
        "        \"\"\"\n",
        "        for layer in self.layers:  # self.layersの各層で演算を行う\n",
        "            x = layer(x)\n",
        "        return x.squeeze()     # Tensorの形状を(B,1,1,1)->(B)に変更して戻り値とする"
      ]
    },
    {
      "cell_type": "markdown",
      "metadata": {
        "id": "wqwQIKQkbdT8"
      },
      "source": [
        "### 重み初期化関数"
      ]
    },
    {
      "cell_type": "code",
      "execution_count": 10,
      "metadata": {
        "id": "_EyItmUdeD_2"
      },
      "outputs": [],
      "source": [
        "def weights_init(m):\n",
        "    \"\"\"\n",
        "    ニューラルネットワークの重みを初期化する。作成したインスタンスに対しapplyメソッドで適用する\n",
        "    m: ニューラルネットワークを構成する層\n",
        "    \"\"\"\n",
        "    classname = m.__class__.__name__\n",
        "    if classname.find('Conv') != -1:            # 畳み込み層の場合\n",
        "        m.weight.data.normal_(0.0, 0.02)\n",
        "        m.bias.data.fill_(0)\n",
        "    elif classname.find('Linear') != -1:        # 全結合層の場合\n",
        "        m.weight.data.normal_(0.0, 0.02)\n",
        "        m.bias.data.fill_(0)\n",
        "    elif classname.find('BatchNorm') != -1:     # バッチノーマライゼーションの場合\n",
        "        m.weight.data.normal_(1.0, 0.02)\n",
        "        m.bias.data.fill_(0)"
      ]
    },
    {
      "cell_type": "markdown",
      "metadata": {
        "id": "iKoJrQKXbiPT"
      },
      "source": [
        "### 生成器Gのインスタンス生成と重み初期化"
      ]
    },
    {
      "cell_type": "code",
      "execution_count": 11,
      "metadata": {
        "colab": {
          "base_uri": "https://localhost:8080/"
        },
        "id": "BjYvM9cPeFRS",
        "outputId": "a21e3673-2591-436b-8144-e7995af96f45"
      },
      "outputs": [
        {
          "data": {
            "text/plain": [
              "Generator(\n",
              "  (layer0): Sequential(\n",
              "    (0): ConvTranspose2d(110, 512, kernel_size=(3, 3), stride=(1, 1))\n",
              "    (1): BatchNorm2d(512, eps=1e-05, momentum=0.1, affine=True, track_running_stats=True)\n",
              "    (2): ReLU()\n",
              "  )\n",
              "  (layer1): Sequential(\n",
              "    (0): ConvTranspose2d(512, 256, kernel_size=(3, 3), stride=(2, 2))\n",
              "    (1): BatchNorm2d(256, eps=1e-05, momentum=0.1, affine=True, track_running_stats=True)\n",
              "    (2): ReLU()\n",
              "  )\n",
              "  (layer2): Sequential(\n",
              "    (0): ConvTranspose2d(256, 128, kernel_size=(4, 4), stride=(2, 2), padding=(1, 1))\n",
              "    (1): BatchNorm2d(128, eps=1e-05, momentum=0.1, affine=True, track_running_stats=True)\n",
              "    (2): ReLU()\n",
              "  )\n",
              "  (layer3): Sequential(\n",
              "    (0): ConvTranspose2d(128, 1, kernel_size=(4, 4), stride=(2, 2), padding=(1, 1))\n",
              "    (1): Tanh()\n",
              "  )\n",
              ")"
            ]
          },
          "execution_count": 11,
          "metadata": {},
          "output_type": "execute_result"
        }
      ],
      "source": [
        "# 生成器G　インスタンス化, GPU上に転送\n",
        "G = Generator(z_dim=z_dim+10, g_dim=g_dim).to(device) #10はn_class=10を指す。出し分けに必要なラベル情報\n",
        "G.apply(weights_init)    # weights_init関数で初期化"
      ]
    },
    {
      "cell_type": "code",
      "execution_count": 12,
      "metadata": {
        "colab": {
          "base_uri": "https://localhost:8080/"
        },
        "id": "TSyHHJT6eGvZ",
        "outputId": "e8e1ef73-177b-4c07-d6e7-75de72f2b61d"
      },
      "outputs": [
        {
          "name": "stdout",
          "output_type": "stream",
          "text": [
            "----------------------------------------------------------------\n",
            "        Layer (type)               Output Shape         Param #\n",
            "================================================================\n",
            "   ConvTranspose2d-1            [-1, 512, 3, 3]         507,392\n",
            "       BatchNorm2d-2            [-1, 512, 3, 3]           1,024\n",
            "              ReLU-3            [-1, 512, 3, 3]               0\n",
            "   ConvTranspose2d-4            [-1, 256, 7, 7]       1,179,904\n",
            "       BatchNorm2d-5            [-1, 256, 7, 7]             512\n",
            "              ReLU-6            [-1, 256, 7, 7]               0\n",
            "   ConvTranspose2d-7          [-1, 128, 14, 14]         524,416\n",
            "       BatchNorm2d-8          [-1, 128, 14, 14]             256\n",
            "              ReLU-9          [-1, 128, 14, 14]               0\n",
            "  ConvTranspose2d-10            [-1, 1, 28, 28]           2,049\n",
            "             Tanh-11            [-1, 1, 28, 28]               0\n",
            "================================================================\n",
            "Total params: 2,215,553\n",
            "Trainable params: 2,215,553\n",
            "Non-trainable params: 0\n",
            "----------------------------------------------------------------\n",
            "Input size (MB): 0.00\n",
            "Forward/backward pass size (MB): 0.98\n",
            "Params size (MB): 8.45\n",
            "Estimated Total Size (MB): 9.43\n",
            "----------------------------------------------------------------\n"
          ]
        }
      ],
      "source": [
        "# 生成器GのTensor形状\n",
        "# 100次元のランダムノイズと10次元のクラスラベルをconcatしたものを入力とする\n",
        "torchsummary.summary(G, (110, 1, 1))"
      ]
    },
    {
      "cell_type": "code",
      "execution_count": 13,
      "metadata": {
        "colab": {
          "base_uri": "https://localhost:8080/"
        },
        "id": "lXZGW9PbeJsw",
        "outputId": "d8ad26df-9bcb-455b-fcb0-2f1f368d400a"
      },
      "outputs": [
        {
          "data": {
            "text/plain": [
              "Discriminator(\n",
              "  (layer0): Sequential(\n",
              "    (0): Conv2d(11, 128, kernel_size=(4, 4), stride=(2, 2), padding=(1, 1))\n",
              "    (1): LeakyReLU(negative_slope=0.2)\n",
              "  )\n",
              "  (layer1): Sequential(\n",
              "    (0): Conv2d(128, 256, kernel_size=(4, 4), stride=(2, 2), padding=(1, 1))\n",
              "    (1): BatchNorm2d(256, eps=1e-05, momentum=0.1, affine=True, track_running_stats=True)\n",
              "    (2): LeakyReLU(negative_slope=0.2)\n",
              "  )\n",
              "  (layer2): Sequential(\n",
              "    (0): Conv2d(256, 512, kernel_size=(3, 3), stride=(2, 2))\n",
              "    (1): BatchNorm2d(512, eps=1e-05, momentum=0.1, affine=True, track_running_stats=True)\n",
              "    (2): LeakyReLU(negative_slope=0.2)\n",
              "  )\n",
              "  (layer3): Sequential(\n",
              "    (0): Conv2d(512, 1, kernel_size=(3, 3), stride=(1, 1))\n",
              "    (1): Sigmoid()\n",
              "  )\n",
              ")"
            ]
          },
          "execution_count": 13,
          "metadata": {},
          "output_type": "execute_result"
        }
      ],
      "source": [
        "# 識別器D　インスタンス化, GPU上に転送, 画像が本物か生成かを識別する\n",
        "# 画像と10クラスのラベルをconcatしたものを合わせたものを入力する\n",
        "D = Discriminator(nch=1+10, d_dim=d_dim).to(device) #10はn_class=10を指す。分類に必要なラベル情報\n",
        "D.apply(weights_init)"
      ]
    },
    {
      "cell_type": "code",
      "execution_count": 14,
      "metadata": {
        "colab": {
          "base_uri": "https://localhost:8080/"
        },
        "id": "cSljH-MNeLdw",
        "outputId": "d5e92447-b236-46ce-efa1-e9dc4f8e4c61"
      },
      "outputs": [
        {
          "name": "stdout",
          "output_type": "stream",
          "text": [
            "----------------------------------------------------------------\n",
            "        Layer (type)               Output Shape         Param #\n",
            "================================================================\n",
            "            Conv2d-1          [-1, 128, 14, 14]          22,656\n",
            "         LeakyReLU-2          [-1, 128, 14, 14]               0\n",
            "            Conv2d-3            [-1, 256, 7, 7]         524,544\n",
            "       BatchNorm2d-4            [-1, 256, 7, 7]             512\n",
            "         LeakyReLU-5            [-1, 256, 7, 7]               0\n",
            "            Conv2d-6            [-1, 512, 3, 3]       1,180,160\n",
            "       BatchNorm2d-7            [-1, 512, 3, 3]           1,024\n",
            "         LeakyReLU-8            [-1, 512, 3, 3]               0\n",
            "            Conv2d-9              [-1, 1, 1, 1]           4,609\n",
            "          Sigmoid-10              [-1, 1, 1, 1]               0\n",
            "================================================================\n",
            "Total params: 1,733,505\n",
            "Trainable params: 1,733,505\n",
            "Non-trainable params: 0\n",
            "----------------------------------------------------------------\n",
            "Input size (MB): 0.03\n",
            "Forward/backward pass size (MB): 0.78\n",
            "Params size (MB): 6.61\n",
            "Estimated Total Size (MB): 7.42\n",
            "----------------------------------------------------------------\n"
          ]
        }
      ],
      "source": [
        "# 識別器DのTensor形状\n",
        "torchsummary.summary(D, (11, 28, 28))"
      ]
    },
    {
      "cell_type": "markdown",
      "metadata": {
        "id": "YPBOKJSNeRdO"
      },
      "source": [
        "##ネットワークの定義"
      ]
    },
    {
      "cell_type": "markdown",
      "metadata": {
        "id": "SJYTFLaV6s5b"
      },
      "source": [
        "## 学習の実行"
      ]
    },
    {
      "cell_type": "code",
      "execution_count": 15,
      "metadata": {
        "id": "BPY91YHJ6veV"
      },
      "outputs": [],
      "source": [
        "criterion = nn.BCELoss()    # バイナリークロスエントロピー\n",
        "\n",
        "# 生成器のエポックごとの画像生成に使用する確認用の固定ノイズ\n",
        "fixed_noise = torch.randn(batch_size, z_dim, 1, 1, device=device)  \n",
        "\n",
        "# オプティマイザの用意\n",
        "optimizerD = optim.Adam(D.parameters(), lr=lr, betas=(beta1, 0.999), weight_decay=1e-5)  # 識別器D用\n",
        "optimizerG = optim.Adam(G.parameters(), lr=lr, betas=(beta1, 0.999), weight_decay=1e-5)  # 生成器G用"
      ]
    },
    {
      "cell_type": "markdown",
      "metadata": {
        "id": "4e9CzLiiip0L"
      },
      "source": [
        "## onehotラベルの生成"
      ]
    },
    {
      "cell_type": "markdown",
      "metadata": {
        "id": "sxQHHLwjRfa9"
      },
      "source": [
        "- Step1: 単位行列の作成<br>\n",
        "`torch.eye(n,m=None)`<br>\n",
        "parameters: クラスの次元<br>\n",
        "n : 行数,\n",
        "m : 列数(default, m=n)<br>\n",
        "output: n行m列の単位行列\n",
        "\\begin{bmatrix}\n",
        "  1       & 0     & 0  & 0 \\\\\n",
        "  0       & 1     & 0  & 0 \\\\\n",
        "  \\vdots  & \\vdots  & \\cdots & \\vdots    \\\\\n",
        "  0       & 0      & \\dots  & 1\n",
        "\\end{bmatrix}\n",
        "\n",
        "- Step2: 単位行列のラベルとなる行を取り出しonehotラベルを作成\n",
        "\n"
      ]
    },
    {
      "cell_type": "code",
      "execution_count": 16,
      "metadata": {
        "id": "2jDQYMNkh6fV"
      },
      "outputs": [],
      "source": [
        "def onehot_encode(label, device, n_class=10):\n",
        "    \"\"\"\n",
        "    カテゴリカル変数のラベルをOne-Hot形式に変換する\n",
        "    label: 変換対象のラベル\n",
        "    device: 学習に使用するデバイス。CPUあるいはGPU\n",
        "    n_class: ラベルのクラス数\n",
        "    return:\n",
        "    \"\"\"\n",
        "    eye = torch.eye(n_class, device=device)\n",
        "    # ランダムベクトルあるいは画像と連結するために(B, c_class, 1, 1)のTensorにして戻す\n",
        "    return eye[label].view(-1, n_class, 1, 1) "
      ]
    },
    {
      "cell_type": "markdown",
      "metadata": {
        "id": "ZZXhGwqMi_14"
      },
      "source": [
        "### 画像とラベルの連結\n",
        "\n",
        "- Step1<br>\n",
        "カテゴリカル変数をonehotラベルに変換<br>\n",
        "前段で定義した`onehot_encode()`を用いる<br>\n",
        "例:<br>\n",
        "0: [1,0,0,0,0,0,0,0,0,0] <br>\n",
        "1: [0,1,0,0,0,0,0,0,0,0] <br>\n",
        "... <br>\n",
        "9: [0,0,0,0,0,0,0,0,0,1] <br>\n",
        "\n",
        "- Step2<br>\n",
        "Step1で作成したonehotラベルをMNIST画像テンソル(BATCH_SIZE, 1, 28, 28)と結合できる形状に変換する。<br>\n",
        "`torch.expand()`を用いて<br>\n",
        "(BATCH_SIZE, 10, 1, 1) -> (BATCH_SIZE, 10, 28, 28)\n",
        "に拡張する。\n",
        "\n",
        "- Step3<br>\n",
        "Step2で作成した<br>\n",
        "ラベルテンソル(BATCH_SIZE, 10, 28, 28)と<br>\n",
        "MNIST画像テンソル(BATCH_SIZE, 1, 28, 28)を<br>\n",
        "`torch.cat((img,label),dim)`\n",
        "で結合する。結合する次元は1。"
      ]
    },
    {
      "cell_type": "code",
      "execution_count": 17,
      "metadata": {
        "id": "17STP1svh8BO"
      },
      "outputs": [],
      "source": [
        "def concat_image_label(image, label, device, n_class=10):\n",
        "    \"\"\"\n",
        "    image:　画像\n",
        "    label: ラベル\n",
        "    device: 学習に使用するデバイス。CPUまたはGPU\n",
        "    n_class: ラベルのクラス数\n",
        "    return:　画像とラベルをChannel方向に連結したTensor\n",
        "    \"\"\"\n",
        "    B, C, H, W = image.shape    # 画像Tensorの大きさを取得\n",
        "    \n",
        "    onehot_label = onehot_encode(label, device)         # ラベルをOne-Hotベクトル化\n",
        "    onehot_label = onehot_label.expand(B, n_class, H, W)    # 画像のサイズに合わせるようラベルを拡張する\n",
        "    return torch.cat((image, onehot_label), dim=1)      # 画像とラベルをチャネル方向（dim=1）で連結する"
      ]
    },
    {
      "cell_type": "markdown",
      "metadata": {
        "id": "dDRZ1Bp3kGk8"
      },
      "source": [
        "### ノイズとラベルの連結\n",
        "- Step1<br>\n",
        "カテゴリカル変数をonehotラベルに変換<br>\n",
        "前段で定義した`onehot_encode()`を用いる<br>\n",
        "例:<br>\n",
        "0: [1,0,0,0,0,0,0,0,0,0] <br>\n",
        "1: [0,1,0,0,0,0,0,0,0,0] <br>\n",
        "... <br>\n",
        "9: [0,0,0,0,0,0,0,0,0,1] <br>\n",
        "- Step2<br>\n",
        "noise: (BATCH_SIZE,100,1,1)と<br>\n",
        "onehotラベル: (BATCH_SIZE,10,1,1)を連結\n"
      ]
    },
    {
      "cell_type": "code",
      "execution_count": 18,
      "metadata": {
        "id": "BVkkpeX8h-wu"
      },
      "outputs": [],
      "source": [
        "def concat_noise_label(noise, label, device):\n",
        "    \"\"\"\n",
        "    noise: ノイズ\n",
        "    label: ラベル\n",
        "    device: 学習に使用するデバイス。CPUあるいはGPU\n",
        "    return:　ノイズとラベルを連結したTensor\n",
        "    \"\"\"\n",
        "    onehot_label = onehot_encode(label, device)     # ラベルをOne-Hotベクトル化\n",
        "    return torch.cat((noise, onehot_label), dim=1)  # ノイズとラベルをチャネル方向（dim=1）で連結する"
      ]
    },
    {
      "cell_type": "code",
      "execution_count": 19,
      "metadata": {
        "colab": {
          "base_uri": "https://localhost:8080/"
        },
        "id": "P163BRAXncQV",
        "outputId": "6d004bf6-1f1f-4984-f85e-1b067e3476f7"
      },
      "outputs": [
        {
          "name": "stdout",
          "output_type": "stream",
          "text": [
            "torch.Size([50, 100, 1, 1])\n",
            "tensor([0, 1, 2, 3, 4, 5, 6, 7, 8, 9, 0, 1, 2, 3, 4, 5, 6, 7, 8, 9, 0, 1, 2, 3,\n",
            "        4, 5, 6, 7, 8, 9, 0, 1, 2, 3, 4, 5, 6, 7, 8, 9, 0, 1, 2, 3, 4, 5, 6, 7,\n",
            "        8, 9], device='cuda:0')\n",
            "torch.Size([50, 110, 1, 1])\n"
          ]
        }
      ],
      "source": [
        "# 生成器のエポックごとの画像生成に使用する確認用の固定ノイズ\n",
        "fixed_noise = torch.randn(batch_size, z_dim, 1, 1, device=device) \n",
        "# 確認用のラベル。0-9のラベルの繰り返し\n",
        "fixed_label = [i for i in range(10)] * (batch_size // 10)\n",
        "fixed_label = torch.tensor(fixed_label, dtype=torch.long, device=device)\n",
        "# 確認用のノイズとラベルを連結\n",
        "fixed_noise_label = concat_noise_label(fixed_noise, fixed_label, device) \n",
        "print(fixed_noise.shape)\n",
        "print(fixed_label)\n",
        "print(fixed_noise_label.shape)"
      ]
    },
    {
      "cell_type": "code",
      "execution_count": 20,
      "metadata": {
        "colab": {
          "base_uri": "https://localhost:8080/"
        },
        "id": "uqiuFjF6iAeu",
        "outputId": "4a567253-0331-4710-ea86-98b4c9619d5e"
      },
      "outputs": [
        {
          "name": "stdout",
          "output_type": "stream",
          "text": [
            "epoch:[1/10],num_images:[1/1200] Loss_D: 1.429 Loss_G: 1.731\n",
            "epoch:[1/10],num_images:[601/1200] Loss_D: 0.757 Loss_G: 2.044\n",
            "epoch:[2/10],num_images:[1/1200] Loss_D: 1.489 Loss_G: 1.001\n",
            "epoch:[2/10],num_images:[601/1200] Loss_D: 0.944 Loss_G: 1.318\n",
            "epoch:[3/10],num_images:[1/1200] Loss_D: 1.129 Loss_G: 1.802\n",
            "epoch:[3/10],num_images:[601/1200] Loss_D: 1.485 Loss_G: 0.980\n",
            "epoch:[4/10],num_images:[1/1200] Loss_D: 1.288 Loss_G: 1.050\n",
            "epoch:[4/10],num_images:[601/1200] Loss_D: 1.165 Loss_G: 1.106\n",
            "epoch:[5/10],num_images:[1/1200] Loss_D: 0.962 Loss_G: 1.472\n",
            "epoch:[5/10],num_images:[601/1200] Loss_D: 1.060 Loss_G: 1.246\n",
            "epoch:[6/10],num_images:[1/1200] Loss_D: 1.552 Loss_G: 1.007\n",
            "epoch:[6/10],num_images:[601/1200] Loss_D: 0.647 Loss_G: 2.086\n",
            "epoch:[7/10],num_images:[1/1200] Loss_D: 1.239 Loss_G: 0.773\n",
            "epoch:[7/10],num_images:[601/1200] Loss_D: 1.165 Loss_G: 1.303\n",
            "epoch:[8/10],num_images:[1/1200] Loss_D: 1.324 Loss_G: 1.189\n",
            "epoch:[8/10],num_images:[601/1200] Loss_D: 0.989 Loss_G: 1.400\n",
            "epoch:[9/10],num_images:[1/1200] Loss_D: 1.618 Loss_G: 0.581\n",
            "epoch:[9/10],num_images:[601/1200] Loss_D: 1.488 Loss_G: 1.176\n",
            "epoch:[10/10],num_images:[1/1200] Loss_D: 1.049 Loss_G: 1.226\n",
            "epoch:[10/10],num_images:[601/1200] Loss_D: 1.128 Loss_G: 1.397\n"
          ]
        }
      ],
      "source": [
        "G_losses = []\n",
        "D_losses = []\n",
        "\n",
        "#最初の画像の保存\n",
        "fake_image = G(fixed_noise_label)\n",
        "vutils.save_image(fake_image.detach(), '{}/fake_samples_epoch_{:03d}.png'.format(out_dir, 0),\n",
        "                      normalize=True, nrow=10)\n",
        "\n",
        "# 学習のループ\n",
        "for epoch in range(num_epochs):\n",
        "    for n, data in enumerate(dataloader):\n",
        "        real_image = data[0].to(device)     # 本物画像\n",
        "        real_label = data[1].to(device)     # 本物画像に対応するラベル\n",
        "        # 本物画像とラベルを連結\n",
        "        real_image_label = concat_image_label(real_image, real_label, device) \n",
        "        sample_size = real_image.size(0)    # 画像枚数\n",
        "\n",
        "        # 標準正規分布(平均:0,分散:1)からノイズを生成\n",
        "        noise = torch.randn(sample_size, z_dim, 1, 1, device=device)\n",
        "        # 生成画像生成用のラベル\n",
        "        fake_label = torch.randint(10, (sample_size,), dtype=torch.long, device=device)\n",
        "        # ノイズとラベルを連結\n",
        "        fake_noise_label = concat_noise_label(noise, fake_label, device)        \n",
        "        # 本物画像に対する正解ラベル:1 , GPU上に転送\n",
        "        real_target = torch.full((sample_size,), 1., device=device)\n",
        "        # 生成画像に対する正解ラベル:0 , GPU上に転送\n",
        "        fake_target = torch.full((sample_size,), 0., device=device)\n",
        "        \n",
        "        \"\"\"\n",
        "        識別器Dの更新\n",
        "        \"\"\"\n",
        "        D.zero_grad()    # 勾配の初期化\n",
        "\n",
        "        ########################\n",
        "        # 本物画像に対する損失計算\n",
        "        ########################        \n",
        "        output = D(real_image_label) # 識別器Dで本物画像とラベルの組み合わせに対する識別信号を出力\n",
        "        lossD_real = criterion(output, real_target) # 本物画像に対する識別信号の損失値\n",
        "\n",
        "\n",
        "        ########################\n",
        "        # 偽物画像に対する損失計算\n",
        "        ########################\n",
        "        fake_image = G(fake_noise_label)  # 生成器Gでラベルに対応した生成画像を生成        \n",
        "        fake_image_label = concat_image_label(fake_image, fake_label, device)   # 生成画像とラベルを連結\n",
        "        \n",
        "        output = D(fake_image_label.detach()) # 識別器Dで本物画像に対する識別信号を出力        \n",
        "        lossD_fake = criterion(output, fake_target)  # 生成画像に対する識別信号の損失値\n",
        "\n",
        "        ########################\n",
        "        # 損失計算し,誤差逆伝播\n",
        "        ########################\n",
        "        lossD = lossD_real + lossD_fake    # 識別器Dの全体の損失\n",
        "        lossD.backward()    # 誤差逆伝播\n",
        "        optimizerD.step()   # Dのパラメーターを更新\n",
        "\n",
        "        \"\"\"\n",
        "        生成器Gの更新\n",
        "        \"\"\"\n",
        "        G.zero_grad()    # 勾配の初期化\n",
        "        \n",
        "        output = D(fake_image_label)     # 更新した識別器Dで改めて生成画像とラベルの組み合わせに対する識別信号を出力\n",
        "        lossG = criterion(output, real_target)   # 生成器Gの損失値。Dに生成画像を本物画像と誤認させたいため目標値は「1」\n",
        "        lossG.backward()     # 誤差逆伝播\n",
        "\n",
        "        optimizerG.step()   # Gのパラメータを更新\n",
        "\n",
        "        \"\"\"\n",
        "        DとGのロス表示\n",
        "        \"\"\"\n",
        "        if n % loss_display_interval == 0: \n",
        "            print('epoch:[{}/{}],num_images:[{}/{}] Loss_D: {:.3f} Loss_G: {:.3f}'\n",
        "                  .format(epoch + 1, num_epochs,\n",
        "                          n + 1, len(dataloader),\n",
        "                          lossD.item(), lossG.item()))\n",
        "            \n",
        "        if epoch == 0 and n == 0:     # 初回に本物画像を保存する\n",
        "            vutils.save_image(real_image, '{}/real_samples.png'.format(out_dir),\n",
        "                              normalize=True, nrow=10)\n",
        "\n",
        "        # ログ出力用データの保存\n",
        "        D_losses.append(lossD.item())\n",
        "        G_losses.append(lossG.item())\n",
        "\n",
        "    \"\"\"\n",
        "    確認用画像の生成\n",
        "    \"\"\"\n",
        "    fake_image = G(fixed_noise_label)  # 1エポック終了ごとに確認用の生成画像を生成する\n",
        "    vutils.save_image(fake_image.detach(), '{}/fake_samples_epoch_{:03d}.png'.format(out_dir, epoch + 1),\n",
        "                      normalize=True, nrow=10)\n",
        "\n",
        "    \"\"\"\n",
        "    モデルの保存\n",
        "    \"\"\"\n",
        "    if (epoch + 1) % 10 == 0:   # 10エポックごとにモデルを保存する\n",
        "        torch.save(G.state_dict(), '{}/G_epoch_{}.pth'.format(out_dir, epoch + 1))\n",
        "        torch.save(D.state_dict(), '{}/D_epoch_{}.pth'.format(out_dir, epoch + 1))"
      ]
    },
    {
      "cell_type": "markdown",
      "metadata": {
        "id": "gp7AlvznPwkL"
      },
      "source": [
        "### 学習済みモデルの推論画像表示"
      ]
    },
    {
      "cell_type": "code",
      "execution_count": 28,
      "metadata": {
        "colab": {
          "base_uri": "https://localhost:8080/",
          "height": 283
        },
        "id": "oOpwCkjhPvSS",
        "outputId": "b7f45be1-29f3-4bd1-d59b-d6311dc61e83"
      },
      "outputs": [
        {
          "data": {
            "text/plain": [
              "<matplotlib.image.AxesImage at 0x7fa53b902850>"
            ]
          },
          "execution_count": 28,
          "metadata": {},
          "output_type": "execute_result"
        },
        {
          "data": {
            "image/png": "[encoded data removed]",
            "text/plain": [
              "<Figure size 432x288 with 1 Axes>"
            ]
          },
          "metadata": {
            "needs_background": "light"
          },
          "output_type": "display_data"
        }
      ],
      "source": [
        "from PIL import Image\n",
        "\n",
        "number = '4' #@param [0,1,2,3,4,5,6,7,8,9] {allow-input: true}\n",
        "number = int(number) #int型に変換\n",
        "\n",
        "# 標準正規分布(平均:0,分散:1)からノイズを生成\n",
        "noise = torch.randn(sample_size, z_dim, 1, 1, device=device)\n",
        "# 生成画像生成用のラベル\n",
        "fake_label = torch.full((sample_size,),number, dtype=torch.long, device=device)\n",
        "# ノイズとラベルを連結\n",
        "fake_noise_label = concat_noise_label(noise, fake_label, device)\n",
        "\n",
        "fake_image = G(fake_noise_label) # 生成器Gでノイズから生成画像を生成\n",
        "fake_image = fake_image.to('cpu').detach() #Pytorch TensorをGPUからCPUに転送\n",
        "fake_image = fake_image.numpy() #numpy arrayに変換\n",
        "fake_image = fake_image.squeeze() #(B,C,H,W) -> (B,H,W)に変換\n",
        "\n",
        "plt.imshow(fake_image[0],cmap='gray')"
      ]
    },
    {
      "cell_type": "code",
      "execution_count": 29,
      "metadata": {
        "colab": {
          "base_uri": "https://localhost:8080/",
          "height": 265
        },
        "id": "TEPMUIhH_lh8",
        "outputId": "80dd0fa5-b4e5-4780-96cb-8916db736246"
      },
      "outputs": [
        {
          "data": {
            "image/png": "[encoded data removed]",
            "text/plain": [
              "<Figure size 432x288 with 1 Axes>"
            ]
          },
          "metadata": {
            "needs_background": "light"
          },
          "output_type": "display_data"
        }
      ],
      "source": [
        "from matplotlib import pyplot as plt\n",
        "\n",
        "plt.plot(G_losses, label='Generator_Losses')\n",
        "plt.plot(D_losses, label='Discriminator Losses')\n",
        "plt.legend()\n",
        "plt.savefig('loss.png')"
      ]
    },
    {
      "cell_type": "markdown",
      "metadata": {
        "id": "-axFBEHYUQAS"
      },
      "source": [
        "### 学習過程のアニメーション"
      ]
    },
    {
      "cell_type": "code",
      "execution_count": 23,
      "metadata": {
        "id": "Q_33u8i5UPBX"
      },
      "outputs": [],
      "source": [
        "from PIL import Image, ImageDraw\n",
        "\n",
        "images = []\n",
        "\n",
        "for epoch in range(num_epochs+1):\n",
        "  img = Image.open('{}/fake_samples_epoch_{:03d}.png'.format(out_dir, epoch))\n",
        "  images.append(img)\n",
        "\n",
        "images[0].save('/content/mnist_cgan_animation.gif',\n",
        "               save_all=True, append_images=images[1:], optimize=False, duration=200, loop=0)"
      ]
    },
    {
      "cell_type": "markdown",
      "metadata": {
        "id": "Nv-pJFfg8Oys"
      },
      "source": [
        "## 重みのロード & 推論"
      ]
    },
    {
      "cell_type": "code",
      "execution_count": 24,
      "metadata": {
        "id": "3iAX3Q5Q8NO8"
      },
      "outputs": [],
      "source": [
        "model_path = os.path.join(out_dir,\"G_epoch_10.pth\")\n",
        "\n",
        "# 生成器G　ランダムベクトルから生成画像を作成する\n",
        "G_infer = Generator(z_dim=z_dim+10, g_dim=g_dim).to(device)  #10はn_class=10を指す。\n",
        "G_infer.load_state_dict(torch.load(model_path))\n",
        "\n",
        "# 生成器ごとの画像生成に使用する確認用の固定ノイズ\n",
        "fixed_noise = torch.randn(batch_size, z_dim, 1, 1, device=device) \n",
        "# 確認用のラベル。0-9のラベルの繰り返し\n",
        "fixed_label = [i for i in range(10)] * (batch_size // 10)\n",
        "fixed_label = torch.tensor(fixed_label, dtype=torch.long, device=device)\n",
        "# 確認用のノイズとラベルを連結\n",
        "fixed_noise_label = concat_noise_label(fixed_noise, fixed_label, device) \n",
        "\n",
        "fake_image = G_infer(fixed_noise_label)  #確認用の画像を生成する\n",
        "vutils.save_image(fake_image.detach(), '{}/Generator_sample.png'.format(out_dir),\n",
        "                  normalize=True, nrow=10)"
      ]
    }
  ],
  "metadata": {
    "accelerator": "GPU",
    "colab": {
      "collapsed_sections": [],
      "name": "Section6_ConditionalGAN_MNIST_pytorch.ipynb",
      "provenance": []
    },
    "kernelspec": {
      "display_name": "Python 3",
      "name": "python3"
    },
    "language_info": {
      "name": "python"
    },
    "widgets": {
      "application/vnd.jupyter.widget-state+json": {
        "065c836d0c1e42d783d26b68e787dd10": {
          "model_module": "@jupyter-widgets/controls",
          "model_module_version": "1.5.0",
          "model_name": "HBoxModel",
          "state": {
            "_dom_classes": [],
            "_model_module": "@jupyter-widgets/controls",
            "_model_module_version": "1.5.0",
            "_model_name": "HBoxModel",
            "_view_count": null,
            "_view_module": "@jupyter-widgets/controls",
            "_view_module_version": "1.5.0",
            "_view_name": "HBoxView",
            "box_style": "",
            "children": [
              "IPY_MODEL_1e85dfaba8ec44eb91707d901587f3f9",
              "IPY_MODEL_d8dadccbff7e466ea6eebfd510dccd9a",
              "IPY_MODEL_4150c82421c242ab99df8a20d05ccbfd"
            ],
            "layout": "IPY_MODEL_1281ea984ab54554832d001b0c7be38c"
          }
        },
        "0b87197cef10487cabacd241a849893e": {
          "model_module": "@jupyter-widgets/controls",
          "model_module_version": "1.5.0",
          "model_name": "DescriptionStyleModel",
          "state": {
            "_model_module": "@jupyter-widgets/controls",
            "_model_module_version": "1.5.0",
            "_model_name": "DescriptionStyleModel",
            "_view_count": null,
            "_view_module": "@jupyter-widgets/base",
            "_view_module_version": "1.2.0",
            "_view_name": "StyleView",
            "description_width": ""
          }
        },
        "1281ea984ab54554832d001b0c7be38c": {
          "model_module": "@jupyter-widgets/base",
          "model_module_version": "1.2.0",
          "model_name": "LayoutModel",
          "state": {
            "_model_module": "@jupyter-widgets/base",
            "_model_module_version": "1.2.0",
            "_model_name": "LayoutModel",
            "_view_count": null,
            "_view_module": "@jupyter-widgets/base",
            "_view_module_version": "1.2.0",
            "_view_name": "LayoutView",
            "align_content": null,
            "align_items": null,
            "align_self": null,
            "border": null,
            "bottom": null,
            "display": null,
            "flex": null,
            "flex_flow": null,
            "grid_area": null,
            "grid_auto_columns": null,
            "grid_auto_flow": null,
            "grid_auto_rows": null,
            "grid_column": null,
            "grid_gap": null,
            "grid_row": null,
            "grid_template_areas": null,
            "grid_template_columns": null,
            "grid_template_rows": null,
            "height": null,
            "justify_content": null,
            "justify_items": null,
            "left": null,
            "margin": null,
            "max_height": null,
            "max_width": null,
            "min_height": null,
            "min_width": null,
            "object_fit": null,
            "object_position": null,
            "order": null,
            "overflow": null,
            "overflow_x": null,
            "overflow_y": null,
            "padding": null,
            "right": null,
            "top": null,
            "visibility": null,
            "width": null
          }
        },
        "1962077b0ecf41c095a8c75ba1c4eefc": {
          "model_module": "@jupyter-widgets/controls",
          "model_module_version": "1.5.0",
          "model_name": "DescriptionStyleModel",
          "state": {
            "_model_module": "@jupyter-widgets/controls",
            "_model_module_version": "1.5.0",
            "_model_name": "DescriptionStyleModel",
            "_view_count": null,
            "_view_module": "@jupyter-widgets/base",
            "_view_module_version": "1.2.0",
            "_view_name": "StyleView",
            "description_width": ""
          }
        },
        "1a5e96358b4a4b83b2cd3b474fe96880": {
          "model_module": "@jupyter-widgets/base",
          "model_module_version": "1.2.0",
          "model_name": "LayoutModel",
          "state": {
            "_model_module": "@jupyter-widgets/base",
            "_model_module_version": "1.2.0",
            "_model_name": "LayoutModel",
            "_view_count": null,
            "_view_module": "@jupyter-widgets/base",
            "_view_module_version": "1.2.0",
            "_view_name": "LayoutView",
            "align_content": null,
            "align_items": null,
            "align_self": null,
            "border": null,
            "bottom": null,
            "display": null,
            "flex": null,
            "flex_flow": null,
            "grid_area": null,
            "grid_auto_columns": null,
            "grid_auto_flow": null,
            "grid_auto_rows": null,
            "grid_column": null,
            "grid_gap": null,
            "grid_row": null,
            "grid_template_areas": null,
            "grid_template_columns": null,
            "grid_template_rows": null,
            "height": null,
            "justify_content": null,
            "justify_items": null,
            "left": null,
            "margin": null,
            "max_height": null,
            "max_width": null,
            "min_height": null,
            "min_width": null,
            "object_fit": null,
            "object_position": null,
            "order": null,
            "overflow": null,
            "overflow_x": null,
            "overflow_y": null,
            "padding": null,
            "right": null,
            "top": null,
            "visibility": null,
            "width": null
          }
        },
        "1def12f3a1424f0db0bcad07dfe15541": {
          "model_module": "@jupyter-widgets/controls",
          "model_module_version": "1.5.0",
          "model_name": "DescriptionStyleModel",
          "state": {
            "_model_module": "@jupyter-widgets/controls",
            "_model_module_version": "1.5.0",
            "_model_name": "DescriptionStyleModel",
            "_view_count": null,
            "_view_module": "@jupyter-widgets/base",
            "_view_module_version": "1.2.0",
            "_view_name": "StyleView",
            "description_width": ""
          }
        },
        "1e85dfaba8ec44eb91707d901587f3f9": {
          "model_module": "@jupyter-widgets/controls",
          "model_module_version": "1.5.0",
          "model_name": "HTMLModel",
          "state": {
            "_dom_classes": [],
            "_model_module": "@jupyter-widgets/controls",
            "_model_module_version": "1.5.0",
            "_model_name": "HTMLModel",
            "_view_count": null,
            "_view_module": "@jupyter-widgets/controls",
            "_view_module_version": "1.5.0",
            "_view_name": "HTMLView",
            "description": "",
            "description_tooltip": null,
            "layout": "IPY_MODEL_1a5e96358b4a4b83b2cd3b474fe96880",
            "placeholder": "​",
            "style": "IPY_MODEL_b8c406fd56024ff6aa889301c9515c37",
            "value": ""
          }
        },
        "215338a165ee4132921d813f320f44b1": {
          "model_module": "@jupyter-widgets/controls",
          "model_module_version": "1.5.0",
          "model_name": "ProgressStyleModel",
          "state": {
            "_model_module": "@jupyter-widgets/controls",
            "_model_module_version": "1.5.0",
            "_model_name": "ProgressStyleModel",
            "_view_count": null,
            "_view_module": "@jupyter-widgets/base",
            "_view_module_version": "1.2.0",
            "_view_name": "StyleView",
            "bar_color": null,
            "description_width": ""
          }
        },
        "231492af0022409584f0ed4c365c6cff": {
          "model_module": "@jupyter-widgets/controls",
          "model_module_version": "1.5.0",
          "model_name": "HTMLModel",
          "state": {
            "_dom_classes": [],
            "_model_module": "@jupyter-widgets/controls",
            "_model_module_version": "1.5.0",
            "_model_name": "HTMLModel",
            "_view_count": null,
            "_view_module": "@jupyter-widgets/controls",
            "_view_module_version": "1.5.0",
            "_view_name": "HTMLView",
            "description": "",
            "description_tooltip": null,
            "layout": "IPY_MODEL_df4e28aa6f6f410486caa7d273c6a091",
            "placeholder": "​",
            "style": "IPY_MODEL_b643127e0b784bf08513d9edc04f1cb1",
            "value": " 29696/? [00:00&lt;00:00, 1083521.54it/s]"
          }
        },
        "2743c6e6244a4d998f721421233f7d6a": {
          "model_module": "@jupyter-widgets/base",
          "model_module_version": "1.2.0",
          "model_name": "LayoutModel",
          "state": {
            "_model_module": "@jupyter-widgets/base",
            "_model_module_version": "1.2.0",
            "_model_name": "LayoutModel",
            "_view_count": null,
            "_view_module": "@jupyter-widgets/base",
            "_view_module_version": "1.2.0",
            "_view_name": "LayoutView",
            "align_content": null,
            "align_items": null,
            "align_self": null,
            "border": null,
            "bottom": null,
            "display": null,
            "flex": null,
            "flex_flow": null,
            "grid_area": null,
            "grid_auto_columns": null,
            "grid_auto_flow": null,
            "grid_auto_rows": null,
            "grid_column": null,
            "grid_gap": null,
            "grid_row": null,
            "grid_template_areas": null,
            "grid_template_columns": null,
            "grid_template_rows": null,
            "height": null,
            "justify_content": null,
            "justify_items": null,
            "left": null,
            "margin": null,
            "max_height": null,
            "max_width": null,
            "min_height": null,
            "min_width": null,
            "object_fit": null,
            "object_position": null,
            "order": null,
            "overflow": null,
            "overflow_x": null,
            "overflow_y": null,
            "padding": null,
            "right": null,
            "top": null,
            "visibility": null,
            "width": null
          }
        },
        "278dd8a4e3b1474fa46c04ebd49ff992": {
          "model_module": "@jupyter-widgets/base",
          "model_module_version": "1.2.0",
          "model_name": "LayoutModel",
          "state": {
            "_model_module": "@jupyter-widgets/base",
            "_model_module_version": "1.2.0",
            "_model_name": "LayoutModel",
            "_view_count": null,
            "_view_module": "@jupyter-widgets/base",
            "_view_module_version": "1.2.0",
            "_view_name": "LayoutView",
            "align_content": null,
            "align_items": null,
            "align_self": null,
            "border": null,
            "bottom": null,
            "display": null,
            "flex": null,
            "flex_flow": null,
            "grid_area": null,
            "grid_auto_columns": null,
            "grid_auto_flow": null,
            "grid_auto_rows": null,
            "grid_column": null,
            "grid_gap": null,
            "grid_row": null,
            "grid_template_areas": null,
            "grid_template_columns": null,
            "grid_template_rows": null,
            "height": null,
            "justify_content": null,
            "justify_items": null,
            "left": null,
            "margin": null,
            "max_height": null,
            "max_width": null,
            "min_height": null,
            "min_width": null,
            "object_fit": null,
            "object_position": null,
            "order": null,
            "overflow": null,
            "overflow_x": null,
            "overflow_y": null,
            "padding": null,
            "right": null,
            "top": null,
            "visibility": null,
            "width": null
          }
        },
        "365e271e6bf54b009bfe743e9f3c4ec8": {
          "model_module": "@jupyter-widgets/base",
          "model_module_version": "1.2.0",
          "model_name": "LayoutModel",
          "state": {
            "_model_module": "@jupyter-widgets/base",
            "_model_module_version": "1.2.0",
            "_model_name": "LayoutModel",
            "_view_count": null,
            "_view_module": "@jupyter-widgets/base",
            "_view_module_version": "1.2.0",
            "_view_name": "LayoutView",
            "align_content": null,
            "align_items": null,
            "align_self": null,
            "border": null,
            "bottom": null,
            "display": null,
            "flex": null,
            "flex_flow": null,
            "grid_area": null,
            "grid_auto_columns": null,
            "grid_auto_flow": null,
            "grid_auto_rows": null,
            "grid_column": null,
            "grid_gap": null,
            "grid_row": null,
            "grid_template_areas": null,
            "grid_template_columns": null,
            "grid_template_rows": null,
            "height": null,
            "justify_content": null,
            "justify_items": null,
            "left": null,
            "margin": null,
            "max_height": null,
            "max_width": null,
            "min_height": null,
            "min_width": null,
            "object_fit": null,
            "object_position": null,
            "order": null,
            "overflow": null,
            "overflow_x": null,
            "overflow_y": null,
            "padding": null,
            "right": null,
            "top": null,
            "visibility": null,
            "width": null
          }
        },
        "3d4da159970e4d0888ec80d3e22d3a71": {
          "model_module": "@jupyter-widgets/base",
          "model_module_version": "1.2.0",
          "model_name": "LayoutModel",
          "state": {
            "_model_module": "@jupyter-widgets/base",
            "_model_module_version": "1.2.0",
            "_model_name": "LayoutModel",
            "_view_count": null,
            "_view_module": "@jupyter-widgets/base",
            "_view_module_version": "1.2.0",
            "_view_name": "LayoutView",
            "align_content": null,
            "align_items": null,
            "align_self": null,
            "border": null,
            "bottom": null,
            "display": null,
            "flex": null,
            "flex_flow": null,
            "grid_area": null,
            "grid_auto_columns": null,
            "grid_auto_flow": null,
            "grid_auto_rows": null,
            "grid_column": null,
            "grid_gap": null,
            "grid_row": null,
            "grid_template_areas": null,
            "grid_template_columns": null,
            "grid_template_rows": null,
            "height": null,
            "justify_content": null,
            "justify_items": null,
            "left": null,
            "margin": null,
            "max_height": null,
            "max_width": null,
            "min_height": null,
            "min_width": null,
            "object_fit": null,
            "object_position": null,
            "order": null,
            "overflow": null,
            "overflow_x": null,
            "overflow_y": null,
            "padding": null,
            "right": null,
            "top": null,
            "visibility": null,
            "width": null
          }
        },
        "409466dd5024496c86078bb57aa38b48": {
          "model_module": "@jupyter-widgets/controls",
          "model_module_version": "1.5.0",
          "model_name": "HBoxModel",
          "state": {
            "_dom_classes": [],
            "_model_module": "@jupyter-widgets/controls",
            "_model_module_version": "1.5.0",
            "_model_name": "HBoxModel",
            "_view_count": null,
            "_view_module": "@jupyter-widgets/controls",
            "_view_module_version": "1.5.0",
            "_view_name": "HBoxView",
            "box_style": "",
            "children": [
              "IPY_MODEL_f52e704670e648f5bcbbf8724f05c32f",
              "IPY_MODEL_d00de77dd04e4d569e628953590a70c5",
              "IPY_MODEL_db8b178d91ee46e89dde8a293be315d2"
            ],
            "layout": "IPY_MODEL_365e271e6bf54b009bfe743e9f3c4ec8"
          }
        },
        "4150c82421c242ab99df8a20d05ccbfd": {
          "model_module": "@jupyter-widgets/controls",
          "model_module_version": "1.5.0",
          "model_name": "HTMLModel",
          "state": {
            "_dom_classes": [],
            "_model_module": "@jupyter-widgets/controls",
            "_model_module_version": "1.5.0",
            "_model_name": "HTMLModel",
            "_view_count": null,
            "_view_module": "@jupyter-widgets/controls",
            "_view_module_version": "1.5.0",
            "_view_name": "HTMLView",
            "description": "",
            "description_tooltip": null,
            "layout": "IPY_MODEL_7788c3708fef4c9db2bdba83f6260005",
            "placeholder": "​",
            "style": "IPY_MODEL_d0417dacec054997a0787df4e5fd25ff",
            "value": " 5120/? [00:00&lt;00:00, 170666.83it/s]"
          }
        },
        "47c28ba83800426d9a579f1736d8a775": {
          "model_module": "@jupyter-widgets/controls",
          "model_module_version": "1.5.0",
          "model_name": "HTMLModel",
          "state": {
            "_dom_classes": [],
            "_model_module": "@jupyter-widgets/controls",
            "_model_module_version": "1.5.0",
            "_model_name": "HTMLModel",
            "_view_count": null,
            "_view_module": "@jupyter-widgets/controls",
            "_view_module_version": "1.5.0",
            "_view_name": "HTMLView",
            "description": "",
            "description_tooltip": null,
            "layout": "IPY_MODEL_4db823c9d892451994f6bdd9fe668ea6",
            "placeholder": "​",
            "style": "IPY_MODEL_1def12f3a1424f0db0bcad07dfe15541",
            "value": " 1649664/? [00:00&lt;00:00, 21628964.67it/s]"
          }
        },
        "4db823c9d892451994f6bdd9fe668ea6": {
          "model_module": "@jupyter-widgets/base",
          "model_module_version": "1.2.0",
          "model_name": "LayoutModel",
          "state": {
            "_model_module": "@jupyter-widgets/base",
            "_model_module_version": "1.2.0",
            "_model_name": "LayoutModel",
            "_view_count": null,
            "_view_module": "@jupyter-widgets/base",
            "_view_module_version": "1.2.0",
            "_view_name": "LayoutView",
            "align_content": null,
            "align_items": null,
            "align_self": null,
            "border": null,
            "bottom": null,
            "display": null,
            "flex": null,
            "flex_flow": null,
            "grid_area": null,
            "grid_auto_columns": null,
            "grid_auto_flow": null,
            "grid_auto_rows": null,
            "grid_column": null,
            "grid_gap": null,
            "grid_row": null,
            "grid_template_areas": null,
            "grid_template_columns": null,
            "grid_template_rows": null,
            "height": null,
            "justify_content": null,
            "justify_items": null,
            "left": null,
            "margin": null,
            "max_height": null,
            "max_width": null,
            "min_height": null,
            "min_width": null,
            "object_fit": null,
            "object_position": null,
            "order": null,
            "overflow": null,
            "overflow_x": null,
            "overflow_y": null,
            "padding": null,
            "right": null,
            "top": null,
            "visibility": null,
            "width": null
          }
        },
        "4f0626b9f5e54ad8adf1c591d3edf4f3": {
          "model_module": "@jupyter-widgets/base",
          "model_module_version": "1.2.0",
          "model_name": "LayoutModel",
          "state": {
            "_model_module": "@jupyter-widgets/base",
            "_model_module_version": "1.2.0",
            "_model_name": "LayoutModel",
            "_view_count": null,
            "_view_module": "@jupyter-widgets/base",
            "_view_module_version": "1.2.0",
            "_view_name": "LayoutView",
            "align_content": null,
            "align_items": null,
            "align_self": null,
            "border": null,
            "bottom": null,
            "display": null,
            "flex": null,
            "flex_flow": null,
            "grid_area": null,
            "grid_auto_columns": null,
            "grid_auto_flow": null,
            "grid_auto_rows": null,
            "grid_column": null,
            "grid_gap": null,
            "grid_row": null,
            "grid_template_areas": null,
            "grid_template_columns": null,
            "grid_template_rows": null,
            "height": null,
            "justify_content": null,
            "justify_items": null,
            "left": null,
            "margin": null,
            "max_height": null,
            "max_width": null,
            "min_height": null,
            "min_width": null,
            "object_fit": null,
            "object_position": null,
            "order": null,
            "overflow": null,
            "overflow_x": null,
            "overflow_y": null,
            "padding": null,
            "right": null,
            "top": null,
            "visibility": null,
            "width": null
          }
        },
        "7788c3708fef4c9db2bdba83f6260005": {
          "model_module": "@jupyter-widgets/base",
          "model_module_version": "1.2.0",
          "model_name": "LayoutModel",
          "state": {
            "_model_module": "@jupyter-widgets/base",
            "_model_module_version": "1.2.0",
            "_model_name": "LayoutModel",
            "_view_count": null,
            "_view_module": "@jupyter-widgets/base",
            "_view_module_version": "1.2.0",
            "_view_name": "LayoutView",
            "align_content": null,
            "align_items": null,
            "align_self": null,
            "border": null,
            "bottom": null,
            "display": null,
            "flex": null,
            "flex_flow": null,
            "grid_area": null,
            "grid_auto_columns": null,
            "grid_auto_flow": null,
            "grid_auto_rows": null,
            "grid_column": null,
            "grid_gap": null,
            "grid_row": null,
            "grid_template_areas": null,
            "grid_template_columns": null,
            "grid_template_rows": null,
            "height": null,
            "justify_content": null,
            "justify_items": null,
            "left": null,
            "margin": null,
            "max_height": null,
            "max_width": null,
            "min_height": null,
            "min_width": null,
            "object_fit": null,
            "object_position": null,
            "order": null,
            "overflow": null,
            "overflow_x": null,
            "overflow_y": null,
            "padding": null,
            "right": null,
            "top": null,
            "visibility": null,
            "width": null
          }
        },
        "7c3a97b960dc4c7d9075f71a5d1ad174": {
          "model_module": "@jupyter-widgets/controls",
          "model_module_version": "1.5.0",
          "model_name": "HBoxModel",
          "state": {
            "_dom_classes": [],
            "_model_module": "@jupyter-widgets/controls",
            "_model_module_version": "1.5.0",
            "_model_name": "HBoxModel",
            "_view_count": null,
            "_view_module": "@jupyter-widgets/controls",
            "_view_module_version": "1.5.0",
            "_view_name": "HBoxView",
            "box_style": "",
            "children": [
              "IPY_MODEL_be6ce0f317ab495083afee42deb57f80",
              "IPY_MODEL_b90559c945e2419bbed03abfdec6c6fd",
              "IPY_MODEL_47c28ba83800426d9a579f1736d8a775"
            ],
            "layout": "IPY_MODEL_b9ee78904d6c43eb825aa6ecd76b2388"
          }
        },
        "7db9f177d0d64ac0875aab150b5937c3": {
          "model_module": "@jupyter-widgets/controls",
          "model_module_version": "1.5.0",
          "model_name": "ProgressStyleModel",
          "state": {
            "_model_module": "@jupyter-widgets/controls",
            "_model_module_version": "1.5.0",
            "_model_name": "ProgressStyleModel",
            "_view_count": null,
            "_view_module": "@jupyter-widgets/base",
            "_view_module_version": "1.2.0",
            "_view_name": "StyleView",
            "bar_color": null,
            "description_width": ""
          }
        },
        "7ef59cd8371348a294459b0103a084a5": {
          "model_module": "@jupyter-widgets/base",
          "model_module_version": "1.2.0",
          "model_name": "LayoutModel",
          "state": {
            "_model_module": "@jupyter-widgets/base",
            "_model_module_version": "1.2.0",
            "_model_name": "LayoutModel",
            "_view_count": null,
            "_view_module": "@jupyter-widgets/base",
            "_view_module_version": "1.2.0",
            "_view_name": "LayoutView",
            "align_content": null,
            "align_items": null,
            "align_self": null,
            "border": null,
            "bottom": null,
            "display": null,
            "flex": null,
            "flex_flow": null,
            "grid_area": null,
            "grid_auto_columns": null,
            "grid_auto_flow": null,
            "grid_auto_rows": null,
            "grid_column": null,
            "grid_gap": null,
            "grid_row": null,
            "grid_template_areas": null,
            "grid_template_columns": null,
            "grid_template_rows": null,
            "height": null,
            "justify_content": null,
            "justify_items": null,
            "left": null,
            "margin": null,
            "max_height": null,
            "max_width": null,
            "min_height": null,
            "min_width": null,
            "object_fit": null,
            "object_position": null,
            "order": null,
            "overflow": null,
            "overflow_x": null,
            "overflow_y": null,
            "padding": null,
            "right": null,
            "top": null,
            "visibility": null,
            "width": null
          }
        },
        "94a0efa6425b45ccac42c3c1ef8374ae": {
          "model_module": "@jupyter-widgets/base",
          "model_module_version": "1.2.0",
          "model_name": "LayoutModel",
          "state": {
            "_model_module": "@jupyter-widgets/base",
            "_model_module_version": "1.2.0",
            "_model_name": "LayoutModel",
            "_view_count": null,
            "_view_module": "@jupyter-widgets/base",
            "_view_module_version": "1.2.0",
            "_view_name": "LayoutView",
            "align_content": null,
            "align_items": null,
            "align_self": null,
            "border": null,
            "bottom": null,
            "display": null,
            "flex": null,
            "flex_flow": null,
            "grid_area": null,
            "grid_auto_columns": null,
            "grid_auto_flow": null,
            "grid_auto_rows": null,
            "grid_column": null,
            "grid_gap": null,
            "grid_row": null,
            "grid_template_areas": null,
            "grid_template_columns": null,
            "grid_template_rows": null,
            "height": null,
            "justify_content": null,
            "justify_items": null,
            "left": null,
            "margin": null,
            "max_height": null,
            "max_width": null,
            "min_height": null,
            "min_width": null,
            "object_fit": null,
            "object_position": null,
            "order": null,
            "overflow": null,
            "overflow_x": null,
            "overflow_y": null,
            "padding": null,
            "right": null,
            "top": null,
            "visibility": null,
            "width": null
          }
        },
        "98d209c1712c4982a18afae9ba89db26": {
          "model_module": "@jupyter-widgets/controls",
          "model_module_version": "1.5.0",
          "model_name": "ProgressStyleModel",
          "state": {
            "_model_module": "@jupyter-widgets/controls",
            "_model_module_version": "1.5.0",
            "_model_name": "ProgressStyleModel",
            "_view_count": null,
            "_view_module": "@jupyter-widgets/base",
            "_view_module_version": "1.2.0",
            "_view_name": "StyleView",
            "bar_color": null,
            "description_width": ""
          }
        },
        "99b33178ad7c46ed98104e34b8eaa5c0": {
          "model_module": "@jupyter-widgets/controls",
          "model_module_version": "1.5.0",
          "model_name": "HBoxModel",
          "state": {
            "_dom_classes": [],
            "_model_module": "@jupyter-widgets/controls",
            "_model_module_version": "1.5.0",
            "_model_name": "HBoxModel",
            "_view_count": null,
            "_view_module": "@jupyter-widgets/controls",
            "_view_module_version": "1.5.0",
            "_view_name": "HBoxView",
            "box_style": "",
            "children": [
              "IPY_MODEL_b723517743d54385a775cf33ee0f8c4c",
              "IPY_MODEL_deb5cb71d6454dde99b0943ca28e09d4",
              "IPY_MODEL_231492af0022409584f0ed4c365c6cff"
            ],
            "layout": "IPY_MODEL_a11dbbb98a9d445aa061030950b63059"
          }
        },
        "a11dbbb98a9d445aa061030950b63059": {
          "model_module": "@jupyter-widgets/base",
          "model_module_version": "1.2.0",
          "model_name": "LayoutModel",
          "state": {
            "_model_module": "@jupyter-widgets/base",
            "_model_module_version": "1.2.0",
            "_model_name": "LayoutModel",
            "_view_count": null,
            "_view_module": "@jupyter-widgets/base",
            "_view_module_version": "1.2.0",
            "_view_name": "LayoutView",
            "align_content": null,
            "align_items": null,
            "align_self": null,
            "border": null,
            "bottom": null,
            "display": null,
            "flex": null,
            "flex_flow": null,
            "grid_area": null,
            "grid_auto_columns": null,
            "grid_auto_flow": null,
            "grid_auto_rows": null,
            "grid_column": null,
            "grid_gap": null,
            "grid_row": null,
            "grid_template_areas": null,
            "grid_template_columns": null,
            "grid_template_rows": null,
            "height": null,
            "justify_content": null,
            "justify_items": null,
            "left": null,
            "margin": null,
            "max_height": null,
            "max_width": null,
            "min_height": null,
            "min_width": null,
            "object_fit": null,
            "object_position": null,
            "order": null,
            "overflow": null,
            "overflow_x": null,
            "overflow_y": null,
            "padding": null,
            "right": null,
            "top": null,
            "visibility": null,
            "width": null
          }
        },
        "b643127e0b784bf08513d9edc04f1cb1": {
          "model_module": "@jupyter-widgets/controls",
          "model_module_version": "1.5.0",
          "model_name": "DescriptionStyleModel",
          "state": {
            "_model_module": "@jupyter-widgets/controls",
            "_model_module_version": "1.5.0",
            "_model_name": "DescriptionStyleModel",
            "_view_count": null,
            "_view_module": "@jupyter-widgets/base",
            "_view_module_version": "1.2.0",
            "_view_name": "StyleView",
            "description_width": ""
          }
        },
        "b723517743d54385a775cf33ee0f8c4c": {
          "model_module": "@jupyter-widgets/controls",
          "model_module_version": "1.5.0",
          "model_name": "HTMLModel",
          "state": {
            "_dom_classes": [],
            "_model_module": "@jupyter-widgets/controls",
            "_model_module_version": "1.5.0",
            "_model_name": "HTMLModel",
            "_view_count": null,
            "_view_module": "@jupyter-widgets/controls",
            "_view_module_version": "1.5.0",
            "_view_name": "HTMLView",
            "description": "",
            "description_tooltip": null,
            "layout": "IPY_MODEL_278dd8a4e3b1474fa46c04ebd49ff992",
            "placeholder": "​",
            "style": "IPY_MODEL_0b87197cef10487cabacd241a849893e",
            "value": ""
          }
        },
        "b8c406fd56024ff6aa889301c9515c37": {
          "model_module": "@jupyter-widgets/controls",
          "model_module_version": "1.5.0",
          "model_name": "DescriptionStyleModel",
          "state": {
            "_model_module": "@jupyter-widgets/controls",
            "_model_module_version": "1.5.0",
            "_model_name": "DescriptionStyleModel",
            "_view_count": null,
            "_view_module": "@jupyter-widgets/base",
            "_view_module_version": "1.2.0",
            "_view_name": "StyleView",
            "description_width": ""
          }
        },
        "b90559c945e2419bbed03abfdec6c6fd": {
          "model_module": "@jupyter-widgets/controls",
          "model_module_version": "1.5.0",
          "model_name": "FloatProgressModel",
          "state": {
            "_dom_classes": [],
            "_model_module": "@jupyter-widgets/controls",
            "_model_module_version": "1.5.0",
            "_model_name": "FloatProgressModel",
            "_view_count": null,
            "_view_module": "@jupyter-widgets/controls",
            "_view_module_version": "1.5.0",
            "_view_name": "ProgressView",
            "bar_style": "success",
            "description": "",
            "description_tooltip": null,
            "layout": "IPY_MODEL_94a0efa6425b45ccac42c3c1ef8374ae",
            "max": 1648877,
            "min": 0,
            "orientation": "horizontal",
            "style": "IPY_MODEL_98d209c1712c4982a18afae9ba89db26",
            "value": 1648877
          }
        },
        "b9ee78904d6c43eb825aa6ecd76b2388": {
          "model_module": "@jupyter-widgets/base",
          "model_module_version": "1.2.0",
          "model_name": "LayoutModel",
          "state": {
            "_model_module": "@jupyter-widgets/base",
            "_model_module_version": "1.2.0",
            "_model_name": "LayoutModel",
            "_view_count": null,
            "_view_module": "@jupyter-widgets/base",
            "_view_module_version": "1.2.0",
            "_view_name": "LayoutView",
            "align_content": null,
            "align_items": null,
            "align_self": null,
            "border": null,
            "bottom": null,
            "display": null,
            "flex": null,
            "flex_flow": null,
            "grid_area": null,
            "grid_auto_columns": null,
            "grid_auto_flow": null,
            "grid_auto_rows": null,
            "grid_column": null,
            "grid_gap": null,
            "grid_row": null,
            "grid_template_areas": null,
            "grid_template_columns": null,
            "grid_template_rows": null,
            "height": null,
            "justify_content": null,
            "justify_items": null,
            "left": null,
            "margin": null,
            "max_height": null,
            "max_width": null,
            "min_height": null,
            "min_width": null,
            "object_fit": null,
            "object_position": null,
            "order": null,
            "overflow": null,
            "overflow_x": null,
            "overflow_y": null,
            "padding": null,
            "right": null,
            "top": null,
            "visibility": null,
            "width": null
          }
        },
        "be6ce0f317ab495083afee42deb57f80": {
          "model_module": "@jupyter-widgets/controls",
          "model_module_version": "1.5.0",
          "model_name": "HTMLModel",
          "state": {
            "_dom_classes": [],
            "_model_module": "@jupyter-widgets/controls",
            "_model_module_version": "1.5.0",
            "_model_name": "HTMLModel",
            "_view_count": null,
            "_view_module": "@jupyter-widgets/controls",
            "_view_module_version": "1.5.0",
            "_view_name": "HTMLView",
            "description": "",
            "description_tooltip": null,
            "layout": "IPY_MODEL_4f0626b9f5e54ad8adf1c591d3edf4f3",
            "placeholder": "​",
            "style": "IPY_MODEL_e30181895c90432d885b9cb24797eb92",
            "value": ""
          }
        },
        "bfc8481ca3db42889d8cec355c91bf61": {
          "model_module": "@jupyter-widgets/controls",
          "model_module_version": "1.5.0",
          "model_name": "DescriptionStyleModel",
          "state": {
            "_model_module": "@jupyter-widgets/controls",
            "_model_module_version": "1.5.0",
            "_model_name": "DescriptionStyleModel",
            "_view_count": null,
            "_view_module": "@jupyter-widgets/base",
            "_view_module_version": "1.2.0",
            "_view_name": "StyleView",
            "description_width": ""
          }
        },
        "d00de77dd04e4d569e628953590a70c5": {
          "model_module": "@jupyter-widgets/controls",
          "model_module_version": "1.5.0",
          "model_name": "FloatProgressModel",
          "state": {
            "_dom_classes": [],
            "_model_module": "@jupyter-widgets/controls",
            "_model_module_version": "1.5.0",
            "_model_name": "FloatProgressModel",
            "_view_count": null,
            "_view_module": "@jupyter-widgets/controls",
            "_view_module_version": "1.5.0",
            "_view_name": "ProgressView",
            "bar_style": "success",
            "description": "",
            "description_tooltip": null,
            "layout": "IPY_MODEL_7ef59cd8371348a294459b0103a084a5",
            "max": 9912422,
            "min": 0,
            "orientation": "horizontal",
            "style": "IPY_MODEL_d7bc73565e4446f99dd0c3ef1e1d719a",
            "value": 9912422
          }
        },
        "d0417dacec054997a0787df4e5fd25ff": {
          "model_module": "@jupyter-widgets/controls",
          "model_module_version": "1.5.0",
          "model_name": "DescriptionStyleModel",
          "state": {
            "_model_module": "@jupyter-widgets/controls",
            "_model_module_version": "1.5.0",
            "_model_name": "DescriptionStyleModel",
            "_view_count": null,
            "_view_module": "@jupyter-widgets/base",
            "_view_module_version": "1.2.0",
            "_view_name": "StyleView",
            "description_width": ""
          }
        },
        "d7bc73565e4446f99dd0c3ef1e1d719a": {
          "model_module": "@jupyter-widgets/controls",
          "model_module_version": "1.5.0",
          "model_name": "ProgressStyleModel",
          "state": {
            "_model_module": "@jupyter-widgets/controls",
            "_model_module_version": "1.5.0",
            "_model_name": "ProgressStyleModel",
            "_view_count": null,
            "_view_module": "@jupyter-widgets/base",
            "_view_module_version": "1.2.0",
            "_view_name": "StyleView",
            "bar_color": null,
            "description_width": ""
          }
        },
        "d8dadccbff7e466ea6eebfd510dccd9a": {
          "model_module": "@jupyter-widgets/controls",
          "model_module_version": "1.5.0",
          "model_name": "FloatProgressModel",
          "state": {
            "_dom_classes": [],
            "_model_module": "@jupyter-widgets/controls",
            "_model_module_version": "1.5.0",
            "_model_name": "FloatProgressModel",
            "_view_count": null,
            "_view_module": "@jupyter-widgets/controls",
            "_view_module_version": "1.5.0",
            "_view_name": "ProgressView",
            "bar_style": "success",
            "description": "",
            "description_tooltip": null,
            "layout": "IPY_MODEL_f2d24d091fd3460c9a3d33937bd9a136",
            "max": 4542,
            "min": 0,
            "orientation": "horizontal",
            "style": "IPY_MODEL_7db9f177d0d64ac0875aab150b5937c3",
            "value": 4542
          }
        },
        "db8b178d91ee46e89dde8a293be315d2": {
          "model_module": "@jupyter-widgets/controls",
          "model_module_version": "1.5.0",
          "model_name": "HTMLModel",
          "state": {
            "_dom_classes": [],
            "_model_module": "@jupyter-widgets/controls",
            "_model_module_version": "1.5.0",
            "_model_name": "HTMLModel",
            "_view_count": null,
            "_view_module": "@jupyter-widgets/controls",
            "_view_module_version": "1.5.0",
            "_view_name": "HTMLView",
            "description": "",
            "description_tooltip": null,
            "layout": "IPY_MODEL_2743c6e6244a4d998f721421233f7d6a",
            "placeholder": "​",
            "style": "IPY_MODEL_1962077b0ecf41c095a8c75ba1c4eefc",
            "value": " 9913344/? [00:00&lt;00:00, 56985382.62it/s]"
          }
        },
        "deb5cb71d6454dde99b0943ca28e09d4": {
          "model_module": "@jupyter-widgets/controls",
          "model_module_version": "1.5.0",
          "model_name": "FloatProgressModel",
          "state": {
            "_dom_classes": [],
            "_model_module": "@jupyter-widgets/controls",
            "_model_module_version": "1.5.0",
            "_model_name": "FloatProgressModel",
            "_view_count": null,
            "_view_module": "@jupyter-widgets/controls",
            "_view_module_version": "1.5.0",
            "_view_name": "ProgressView",
            "bar_style": "success",
            "description": "",
            "description_tooltip": null,
            "layout": "IPY_MODEL_3d4da159970e4d0888ec80d3e22d3a71",
            "max": 28881,
            "min": 0,
            "orientation": "horizontal",
            "style": "IPY_MODEL_215338a165ee4132921d813f320f44b1",
            "value": 28881
          }
        },
        "df4e28aa6f6f410486caa7d273c6a091": {
          "model_module": "@jupyter-widgets/base",
          "model_module_version": "1.2.0",
          "model_name": "LayoutModel",
          "state": {
            "_model_module": "@jupyter-widgets/base",
            "_model_module_version": "1.2.0",
            "_model_name": "LayoutModel",
            "_view_count": null,
            "_view_module": "@jupyter-widgets/base",
            "_view_module_version": "1.2.0",
            "_view_name": "LayoutView",
            "align_content": null,
            "align_items": null,
            "align_self": null,
            "border": null,
            "bottom": null,
            "display": null,
            "flex": null,
            "flex_flow": null,
            "grid_area": null,
            "grid_auto_columns": null,
            "grid_auto_flow": null,
            "grid_auto_rows": null,
            "grid_column": null,
            "grid_gap": null,
            "grid_row": null,
            "grid_template_areas": null,
            "grid_template_columns": null,
            "grid_template_rows": null,
            "height": null,
            "justify_content": null,
            "justify_items": null,
            "left": null,
            "margin": null,
            "max_height": null,
            "max_width": null,
            "min_height": null,
            "min_width": null,
            "object_fit": null,
            "object_position": null,
            "order": null,
            "overflow": null,
            "overflow_x": null,
            "overflow_y": null,
            "padding": null,
            "right": null,
            "top": null,
            "visibility": null,
            "width": null
          }
        },
        "e30181895c90432d885b9cb24797eb92": {
          "model_module": "@jupyter-widgets/controls",
          "model_module_version": "1.5.0",
          "model_name": "DescriptionStyleModel",
          "state": {
            "_model_module": "@jupyter-widgets/controls",
            "_model_module_version": "1.5.0",
            "_model_name": "DescriptionStyleModel",
            "_view_count": null,
            "_view_module": "@jupyter-widgets/base",
            "_view_module_version": "1.2.0",
            "_view_name": "StyleView",
            "description_width": ""
          }
        },
        "f2d24d091fd3460c9a3d33937bd9a136": {
          "model_module": "@jupyter-widgets/base",
          "model_module_version": "1.2.0",
          "model_name": "LayoutModel",
          "state": {
            "_model_module": "@jupyter-widgets/base",
            "_model_module_version": "1.2.0",
            "_model_name": "LayoutModel",
            "_view_count": null,
            "_view_module": "@jupyter-widgets/base",
            "_view_module_version": "1.2.0",
            "_view_name": "LayoutView",
            "align_content": null,
            "align_items": null,
            "align_self": null,
            "border": null,
            "bottom": null,
            "display": null,
            "flex": null,
            "flex_flow": null,
            "grid_area": null,
            "grid_auto_columns": null,
            "grid_auto_flow": null,
            "grid_auto_rows": null,
            "grid_column": null,
            "grid_gap": null,
            "grid_row": null,
            "grid_template_areas": null,
            "grid_template_columns": null,
            "grid_template_rows": null,
            "height": null,
            "justify_content": null,
            "justify_items": null,
            "left": null,
            "margin": null,
            "max_height": null,
            "max_width": null,
            "min_height": null,
            "min_width": null,
            "object_fit": null,
            "object_position": null,
            "order": null,
            "overflow": null,
            "overflow_x": null,
            "overflow_y": null,
            "padding": null,
            "right": null,
            "top": null,
            "visibility": null,
            "width": null
          }
        },
        "f52e704670e648f5bcbbf8724f05c32f": {
          "model_module": "@jupyter-widgets/controls",
          "model_module_version": "1.5.0",
          "model_name": "HTMLModel",
          "state": {
            "_dom_classes": [],
            "_model_module": "@jupyter-widgets/controls",
            "_model_module_version": "1.5.0",
            "_model_name": "HTMLModel",
            "_view_count": null,
            "_view_module": "@jupyter-widgets/controls",
            "_view_module_version": "1.5.0",
            "_view_name": "HTMLView",
            "description": "",
            "description_tooltip": null,
            "layout": "IPY_MODEL_f8cda96cb1fc4fc39e45924ab81c1bcf",
            "placeholder": "​",
            "style": "IPY_MODEL_bfc8481ca3db42889d8cec355c91bf61",
            "value": ""
          }
        },
        "f8cda96cb1fc4fc39e45924ab81c1bcf": {
          "model_module": "@jupyter-widgets/base",
          "model_module_version": "1.2.0",
          "model_name": "LayoutModel",
          "state": {
            "_model_module": "@jupyter-widgets/base",
            "_model_module_version": "1.2.0",
            "_model_name": "LayoutModel",
            "_view_count": null,
            "_view_module": "@jupyter-widgets/base",
            "_view_module_version": "1.2.0",
            "_view_name": "LayoutView",
            "align_content": null,
            "align_items": null,
            "align_self": null,
            "border": null,
            "bottom": null,
            "display": null,
            "flex": null,
            "flex_flow": null,
            "grid_area": null,
            "grid_auto_columns": null,
            "grid_auto_flow": null,
            "grid_auto_rows": null,
            "grid_column": null,
            "grid_gap": null,
            "grid_row": null,
            "grid_template_areas": null,
            "grid_template_columns": null,
            "grid_template_rows": null,
            "height": null,
            "justify_content": null,
            "justify_items": null,
            "left": null,
            "margin": null,
            "max_height": null,
            "max_width": null,
            "min_height": null,
            "min_width": null,
            "object_fit": null,
            "object_position": null,
            "order": null,
            "overflow": null,
            "overflow_x": null,
            "overflow_y": null,
            "padding": null,
            "right": null,
            "top": null,
            "visibility": null,
            "width": null
          }
        }
      }
    }
  },
  "nbformat": 4,
  "nbformat_minor": 0
}
