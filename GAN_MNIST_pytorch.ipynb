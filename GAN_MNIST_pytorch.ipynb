{
  "cells": [
    {
      "cell_type": "markdown",
      "metadata": {
        "id": "xWop9zHATgct"
      },
      "source": [
        "[![Open In Colab](https://colab.research.google.com/assets/colab-badge.svg)](https://colab.research.google.com/github/YuichiKZ/pytorch_gan/blob/main/GAN_MNIST_pytorch.ipynb)\n",
        "\n",
        "#GANのノートブック\n",
        "- このノートブックではPyTorchによるGANネットワークの実装と学習を行います。\n",
        "\n",
        "#学習目標\n",
        "- 画像を生成するGenerator(生成器)のネットワーク構造を理解する\n",
        "- 画像を識別するDiscriminator(識別器)のネットワーク構造を理解する\n",
        "- GANの損失関数とニューラルネットワークの学習の流れを理解する\n",
        "- GANのネットワークを実装できるようにする\n"
      ]
    },
    {
      "cell_type": "markdown",
      "metadata": {
        "id": "e5gfvl-sImNX"
      },
      "source": [
        "# GPU確認"
      ]
    },
    {
      "cell_type": "code",
      "execution_count": 1,
      "metadata": {
        "colab": {
          "base_uri": "https://localhost:8080/"
        },
        "id": "zaeg0L_0IGrC",
        "outputId": "4b3a5060-cebb-47ff-d216-482648de958a"
      },
      "outputs": [
        {
          "name": "stdout",
          "output_type": "stream",
          "text": [
            "Mon May  2 15:03:49 2022       \n",
            "+-----------------------------------------------------------------------------+\n",
            "| NVIDIA-SMI 460.32.03    Driver Version: 460.32.03    CUDA Version: 11.2     |\n",
            "|-------------------------------+----------------------+----------------------+\n",
            "| GPU  Name        Persistence-M| Bus-Id        Disp.A | Volatile Uncorr. ECC |\n",
            "| Fan  Temp  Perf  Pwr:Usage/Cap|         Memory-Usage | GPU-Util  Compute M. |\n",
            "|                               |                      |               MIG M. |\n",
            "|===============================+======================+======================|\n",
            "|   0  A100-SXM4-40GB      Off  | 00000000:00:04.0 Off |                    0 |\n",
            "| N/A   32C    P0    46W / 400W |      0MiB / 40536MiB |      0%      Default |\n",
            "|                               |                      |             Disabled |\n",
            "+-------------------------------+----------------------+----------------------+\n",
            "                                                                               \n",
            "+-----------------------------------------------------------------------------+\n",
            "| Processes:                                                                  |\n",
            "|  GPU   GI   CI        PID   Type   Process name                  GPU Memory |\n",
            "|        ID   ID                                                   Usage      |\n",
            "|=============================================================================|\n",
            "|  No running processes found                                                 |\n",
            "+-----------------------------------------------------------------------------+\n"
          ]
        }
      ],
      "source": [
        "!nvidia-smi"
      ]
    },
    {
      "cell_type": "markdown",
      "metadata": {
        "id": "3Re_WY_fIuMp"
      },
      "source": [
        "# PyTorch インポート & バージョン確認"
      ]
    },
    {
      "cell_type": "code",
      "execution_count": 2,
      "metadata": {
        "colab": {
          "base_uri": "https://localhost:8080/"
        },
        "id": "j9afQCGCIsrr",
        "outputId": "cc719ad3-10fe-47d6-a811-4745e403695e"
      },
      "outputs": [
        {
          "name": "stdout",
          "output_type": "stream",
          "text": [
            "1.11.0+cu113\n",
            "0.12.0+cu113\n"
          ]
        }
      ],
      "source": [
        "import torch\n",
        "import torchvision\n",
        "# バージョンの確認\n",
        "print(torch.__version__) \n",
        "print(torchvision.__version__) "
      ]
    },
    {
      "cell_type": "markdown",
      "metadata": {
        "id": "Dumsi8zdI4EK"
      },
      "source": [
        "# GAN実装"
      ]
    },
    {
      "cell_type": "markdown",
      "metadata": {
        "id": "TwLo05nxUPJL"
      },
      "source": [
        "## パッケージインポート"
      ]
    },
    {
      "cell_type": "code",
      "execution_count": 3,
      "metadata": {
        "id": "XYDq2LLZKad7"
      },
      "outputs": [],
      "source": [
        "import os\n",
        "import random\n",
        "import numpy as np\n",
        "import matplotlib.pyplot as plt\n",
        "\n",
        "import torch.nn as nn\n",
        "import torch.optim as optim\n",
        "import torch.utils.data\n",
        "import torchvision.datasets as dset\n",
        "import torchvision.transforms as transforms\n",
        "import torchvision.utils as vutils\n",
        "import torchsummary"
      ]
    },
    {
      "cell_type": "markdown",
      "metadata": {
        "id": "32MJdDAOQC1r"
      },
      "source": [
        "## パラメータ設定"
      ]
    },
    {
      "cell_type": "code",
      "execution_count": 4,
      "metadata": {
        "colab": {
          "base_uri": "https://localhost:8080/"
        },
        "id": "iJT7ERb8Kl8m",
        "outputId": "be611c31-4169-4a60-aaf5-41fa753319c2"
      },
      "outputs": [
        {
          "data": {
            "text/plain": [
              "<torch._C.Generator at 0x7f2a4d365b30>"
            ]
          },
          "execution_count": 4,
          "metadata": {},
          "output_type": "execute_result"
        }
      ],
      "source": [
        "batch_size=50\n",
        "z_dim = 100 #ノイズ次元\n",
        "g_dim = 128 \n",
        "d_dim = 128 \n",
        "num_epochs = 20 #エポック数\n",
        "lr = 0.0002\n",
        "beta1 = 0.5\n",
        "out_dir = './result_1-VanillaGAN'\n",
        "loss_display_interval = 600\n",
        "\n",
        "# 保存先ディレクトリを作成\n",
        "try:\n",
        "    os.makedirs(out_dir, exist_ok=True)\n",
        "except Exception as error: \n",
        "    print(error)\n",
        "\n",
        "# 乱数のシード（種）を固定\n",
        "random.seed(0)\n",
        "np.random.seed(0)\n",
        "torch.manual_seed(0)"
      ]
    },
    {
      "cell_type": "markdown",
      "metadata": {
        "id": "PEyr0YmET6yA"
      },
      "source": [
        "##データセット定義"
      ]
    },
    {
      "cell_type": "markdown",
      "metadata": {
        "id": "ScrzEDqLWSMs"
      },
      "source": [
        "- `transforms.Compose(transforms)`\n",
        "<br>\n",
        "複数の Transform を連続して行う Transform を作成\n",
        "- `transforms.ToTensor()`\n",
        "<br>\n",
        "PIL Imageまたはnumpy ndarrayをTorch Tensorに変換\n",
        "- `transforms.Normalize((mean,...),(std,...))`\n",
        "<br>\n",
        "各チャンネルに関して標準化を行う<br>\n",
        "$output[channel] = (input[channel]-mean[channel])/std[channel]$\n",
        "<br>\n",
        "i.e. <br>\n",
        "MNISTの場合<br>\n",
        "チャンネル数: 1(白黒画像)<br>\n",
        "分布: [0,1]<br>\n",
        "より\n",
        "$std=0.5, mean=0.5$とすると\n",
        "分布は[-1,1]となる。"
      ]
    },
    {
      "cell_type": "code",
      "execution_count": 5,
      "metadata": {
        "colab": {
          "base_uri": "https://localhost:8080/",
          "height": 448,
          "referenced_widgets": [
            "fcffac270218407d8f8e02e34cc364b3",
            "e2bc2ce364764e6597f830fba3fe9079",
            "c195599c4d54434b8ccefa56a6bfa076",
            "7729b97f28e84b2494fc0fbd0ded0856",
            "2a582de302bd48dc9319750c7fc587eb",
            "b599898d6ba64b8f8db9547b17b223ef",
            "6c3796d957d440a793def68f5b86ecac",
            "5bf1b2d1ae084021a40510a45f259938",
            "6f1ab6e3024e44ccae27191c8b99aa0b",
            "4922d36c15024336815588587dc23449",
            "c92389ae429d4e4789c6c3a5de05e8f3",
            "33050e83d64a49919b6b9b22c635f20d",
            "5e25923cbf8d459bb5cbe394d60a00b1",
            "61815ef1959846eb8efd422ac8844060",
            "db86e76abbd24a6fb76380ce7b337973",
            "94903e71e3244494988d1100c7338e64",
            "f382f0c0c6af4628983bd88c0ebc9d14",
            "c4af203206b5480c8871e61f9e38ecbd",
            "8adca93af6cb4492b32414c3596e80b4",
            "1d522d5f5b0341f0aa97fd438a8b2947",
            "e7789da87e9e43478c205bf2f7644926",
            "b309cdd2c85c4380a65b0a9edb7829e1",
            "c8f7bbf391b545738c86922f0e30cf96",
            "8e54cdfc9b6e4c05b68051d6c61937c6",
            "84f44dd1ac7f4a42ac715f865f3bc071",
            "a3ef52411a7b4e4894c6f0b0e715def1",
            "2067ac0cfc4042978cbcaa9124f5d53b",
            "3bcb212e936b47c5890924c8b35c2ac5",
            "c2b96ff526484603bea9b4a5aa3509a4",
            "ddf7b236ca2649c59ae10de36462a2d2",
            "db134215cbe04b0f9f47f597c3f35282",
            "ac521bfcab534a81b198a7d76da3cc6b",
            "891d202b78134926aef5a5364dd8134e",
            "d682243dfa154742861bfcb47b526a92",
            "11a04eca77c744baac012da97abfede9",
            "db883ba9df0b4596bc370afe8b3e38d3",
            "5f2d3147d9374804884a6c5921c253a7",
            "c69afc67bcb04050a7c4f1e78b34ddc9",
            "65fd0b8af3be45a6914f836d8309f985",
            "67fa0e47ec294a88afd75de9240e280e",
            "2d07d7968f9649a099623295c7d9f277",
            "f25519a151fd4837860f3762f4bb5139",
            "e06e1cfa47cf420b96b805f056b175b3",
            "b6eef5f42cfb465885c4203316ba3bf0"
          ]
        },
        "id": "24Nobb-kKmFK",
        "outputId": "9dde6a5a-3074-4cd2-965e-9b67f35c6df5"
      },
      "outputs": [
        {
          "name": "stdout",
          "output_type": "stream",
          "text": [
            "Downloading http://yann.lecun.com/exdb/mnist/train-images-idx3-ubyte.gz\n",
            "Downloading http://yann.lecun.com/exdb/mnist/train-images-idx3-ubyte.gz to ./mnist_data/MNIST/raw/train-images-idx3-ubyte.gz\n"
          ]
        },
        {
          "data": {
            "application/vnd.jupyter.widget-view+json": {
              "model_id": "fcffac270218407d8f8e02e34cc364b3",
              "version_major": 2,
              "version_minor": 0
            },
            "text/plain": [
              "  0%|          | 0/9912422 [00:00<?, ?it/s]"
            ]
          },
          "metadata": {},
          "output_type": "display_data"
        },
        {
          "name": "stdout",
          "output_type": "stream",
          "text": [
            "Extracting ./mnist_data/MNIST/raw/train-images-idx3-ubyte.gz to ./mnist_data/MNIST/raw\n",
            "\n",
            "Downloading http://yann.lecun.com/exdb/mnist/train-labels-idx1-ubyte.gz\n",
            "Downloading http://yann.lecun.com/exdb/mnist/train-labels-idx1-ubyte.gz to ./mnist_data/MNIST/raw/train-labels-idx1-ubyte.gz\n"
          ]
        },
        {
          "data": {
            "application/vnd.jupyter.widget-view+json": {
              "model_id": "33050e83d64a49919b6b9b22c635f20d",
              "version_major": 2,
              "version_minor": 0
            },
            "text/plain": [
              "  0%|          | 0/28881 [00:00<?, ?it/s]"
            ]
          },
          "metadata": {},
          "output_type": "display_data"
        },
        {
          "name": "stdout",
          "output_type": "stream",
          "text": [
            "Extracting ./mnist_data/MNIST/raw/train-labels-idx1-ubyte.gz to ./mnist_data/MNIST/raw\n",
            "\n",
            "Downloading http://yann.lecun.com/exdb/mnist/t10k-images-idx3-ubyte.gz\n",
            "Downloading http://yann.lecun.com/exdb/mnist/t10k-images-idx3-ubyte.gz to ./mnist_data/MNIST/raw/t10k-images-idx3-ubyte.gz\n"
          ]
        },
        {
          "data": {
            "application/vnd.jupyter.widget-view+json": {
              "model_id": "c8f7bbf391b545738c86922f0e30cf96",
              "version_major": 2,
              "version_minor": 0
            },
            "text/plain": [
              "  0%|          | 0/1648877 [00:00<?, ?it/s]"
            ]
          },
          "metadata": {},
          "output_type": "display_data"
        },
        {
          "name": "stdout",
          "output_type": "stream",
          "text": [
            "Extracting ./mnist_data/MNIST/raw/t10k-images-idx3-ubyte.gz to ./mnist_data/MNIST/raw\n",
            "\n",
            "Downloading http://yann.lecun.com/exdb/mnist/t10k-labels-idx1-ubyte.gz\n",
            "Downloading http://yann.lecun.com/exdb/mnist/t10k-labels-idx1-ubyte.gz to ./mnist_data/MNIST/raw/t10k-labels-idx1-ubyte.gz\n"
          ]
        },
        {
          "data": {
            "application/vnd.jupyter.widget-view+json": {
              "model_id": "d682243dfa154742861bfcb47b526a92",
              "version_major": 2,
              "version_minor": 0
            },
            "text/plain": [
              "  0%|          | 0/4542 [00:00<?, ?it/s]"
            ]
          },
          "metadata": {},
          "output_type": "display_data"
        },
        {
          "name": "stdout",
          "output_type": "stream",
          "text": [
            "Extracting ./mnist_data/MNIST/raw/t10k-labels-idx1-ubyte.gz to ./mnist_data/MNIST/raw\n",
            "\n"
          ]
        }
      ],
      "source": [
        "# MNISTの訓練データセットを読み込む\n",
        "# transforms.ToTensor()-> Torch Tensorに変換\n",
        "# transforms.Normalize((mean,),(std)) -> テンソルの値を平均0\n",
        "dataset = dset.MNIST(root='./mnist_data', download=True, train=True,\n",
        "                      transform=transforms.Compose([\n",
        "                          transforms.ToTensor(),\n",
        "                          transforms.Normalize((0.5,), (0.5,)) ]))"
      ]
    },
    {
      "cell_type": "code",
      "execution_count": 6,
      "metadata": {
        "colab": {
          "base_uri": "https://localhost:8080/"
        },
        "id": "SaQG3jaqKplQ",
        "outputId": "290913c3-01f8-4144-fe8e-8146a036ccef"
      },
      "outputs": [
        {
          "data": {
            "text/plain": [
              "torch.Size([1, 28, 28])"
            ]
          },
          "execution_count": 6,
          "metadata": {},
          "output_type": "execute_result"
        }
      ],
      "source": [
        "# 画像配列の形状確認\n",
        "dataset[0][0].shape"
      ]
    },
    {
      "cell_type": "code",
      "execution_count": 7,
      "metadata": {
        "colab": {
          "base_uri": "https://localhost:8080/"
        },
        "id": "t6jWFZjqKpty",
        "outputId": "5ac0d3a8-ae31-4752-f1ff-4a7a1586347e"
      },
      "outputs": [
        {
          "name": "stdout",
          "output_type": "stream",
          "text": [
            "device: cuda:0\n"
          ]
        }
      ],
      "source": [
        "# 訓練データをセットしたDataLoader作成\n",
        "dataloader = torch.utils.data.DataLoader(dataset, batch_size=batch_size,\n",
        "                                         shuffle=True)\n",
        "\n",
        "# 学習に使用するデバイスを指定。\n",
        "device = torch.device(\"cuda:0\" if torch.cuda.is_available() else \"cpu\")\n",
        "print('device:', device)"
      ]
    },
    {
      "cell_type": "markdown",
      "metadata": {
        "id": "apEYzaWdK7Sf"
      },
      "source": [
        "##ネットワークの定義"
      ]
    },
    {
      "cell_type": "markdown",
      "metadata": {
        "id": "JjDKKREYvRKK"
      },
      "source": [
        "### Generatorクラス"
      ]
    },
    {
      "cell_type": "code",
      "execution_count": 8,
      "metadata": {
        "id": "yxLyiHmUK77A"
      },
      "outputs": [],
      "source": [
        "class Generator(nn.Module):\n",
        "    def __init__(self, z_dim=100, g_dim=128, num_ch=1):\n",
        "        \"\"\"\n",
        "        :z_dim: 入力ベクトルzの次元\n",
        "        :g_dim: 最終層の入力チャネル数\n",
        "        :num_ch: 出力画像のチャネル数\n",
        "        \"\"\"\n",
        "        super(Generator, self).__init__()\n",
        "\n",
        "        # ニューラルネットワークの構造を定義する\n",
        "        self.layer = nn.Sequential(\n",
        "            nn.Linear(z_dim,g_dim*2), #(B,100) -> (B,256)\n",
        "            nn.Linear(g_dim * 2,g_dim * 4), #(B,256) -> (B,512)\n",
        "            nn.Linear(g_dim * 4,g_dim * 8), #(B,512) -> (B,1024)\n",
        "            nn.ReLU(),  #活性化関数 relu\n",
        "            nn.Linear(g_dim * 8,28*28), #(B,1024) -> (B,784)\n",
        "            nn.Tanh(),  #活性化関数 tanh\n",
        "        )\n",
        "\n",
        "\n",
        "    def forward(self, z):\n",
        "        \"\"\"\n",
        "        順方向の演算\n",
        "        z: 入力ノイズ\n",
        "        return z: 生成画像\n",
        "        \"\"\"\n",
        "        z = z.view(z.size(0), -1)\n",
        "        z = self.layer(z)\n",
        "        z = z.view(-1, 1, 28, 28)\n",
        "        return z"
      ]
    },
    {
      "cell_type": "markdown",
      "metadata": {
        "id": "R_WwNcBOvXXA"
      },
      "source": [
        "### Discriminatorクラス"
      ]
    },
    {
      "cell_type": "code",
      "execution_count": 9,
      "metadata": {
        "id": "UDl4RfofqKMj"
      },
      "outputs": [],
      "source": [
        "class Discriminator(nn.Module):\n",
        "    \"\"\"\n",
        "    識別器Dのクラス\n",
        "    \"\"\"\n",
        "    def __init__(self, num_ch=1, d_dim=128):\n",
        "        \"\"\"\n",
        "        :num_ch: 入力画像のチャネル数\n",
        "        :d_dim: 先頭層の出力チャネル数\n",
        "        \"\"\"\n",
        "        super(Discriminator, self).__init__()\n",
        "\n",
        "        # ニューラルネットワークの構造を定義する\n",
        "        self.layer0 = nn.Sequential(\n",
        "                nn.Linear(28*28, d_dim*4),     # 畳み込み\n",
        "                nn.LeakyReLU(negative_slope=0.2),    # leaky ReLU関数\n",
        "            )  # (B, 784) -> (B, 512)\n",
        "        self.layer1 = nn.Sequential(\n",
        "                nn.Linear(d_dim*4, d_dim * 2),\n",
        "                nn.LeakyReLU(negative_slope=0.2),\n",
        "            ) # (B, 512) -> (B, 256)\n",
        "        self.layer2 = nn.Sequential(\n",
        "                nn.Linear(d_dim * 2, d_dim),\n",
        "                nn.LeakyReLU(negative_slope=0.2),\n",
        "            )  # (B, 256) -> (B, 128)\n",
        "        self.layer3 = nn.Sequential(\n",
        "                nn.Linear(d_dim, 1),\n",
        "                nn.Sigmoid(),    # Sigmoid関数\n",
        "            )    # (B, 128) -> (B, 1)\n",
        "        self.layers =[self.layer0,\n",
        "                      self.layer1,\n",
        "                      self.layer2,\n",
        "                      self.layer3]\n",
        "\n",
        "    def forward(self, x):\n",
        "        \"\"\"\n",
        "        順方向演算\n",
        "        x: 本物画像または生成画像\n",
        "        return: 識別信号\n",
        "        \"\"\"\n",
        "        x = x.view(x.size(0), -1)\n",
        "        for layer in self.layers:  # self.layersの各層で演算を行う\n",
        "            x = layer(x)\n",
        "        return x.squeeze()     # Tensorの形状を(B,1,1,1)->(B)に変更して戻り値とする"
      ]
    },
    {
      "cell_type": "markdown",
      "metadata": {
        "id": "Gwm7pzRxvbQJ"
      },
      "source": [
        "### 重み初期化関数"
      ]
    },
    {
      "cell_type": "code",
      "execution_count": 10,
      "metadata": {
        "id": "KbupWFKXZO2X"
      },
      "outputs": [],
      "source": [
        "def weights_init(m):\n",
        "    \"\"\"\n",
        "    ニューラルネットワークの重みを初期化する。作成したインスタンスに対しapplyメソッドで適用する\n",
        "    m: ニューラルネットワークを構成する層\n",
        "    \"\"\"\n",
        "    classname = m.__class__.__name__\n",
        "    if classname.find('Linear') != -1:        # 全結合層の場合\n",
        "        m.weight.data.normal_(0.0, 0.02)\n",
        "        m.bias.data.fill_(0)\n",
        "    elif classname.find('BatchNorm') != -1:     # バッチノーマライゼーションの場合\n",
        "        m.weight.data.normal_(1.0, 0.02)\n",
        "        m.bias.data.fill_(0)"
      ]
    },
    {
      "cell_type": "markdown",
      "metadata": {
        "id": "1wjv7zSo-02S"
      },
      "source": [
        "### 生成器Gのインスタンス生成と重み初期化"
      ]
    },
    {
      "cell_type": "code",
      "execution_count": 11,
      "metadata": {
        "colab": {
          "base_uri": "https://localhost:8080/"
        },
        "id": "zFlZJS8zZQgO",
        "outputId": "09e21300-2f69-4cf1-c58d-5291f168506d"
      },
      "outputs": [
        {
          "data": {
            "text/plain": [
              "Generator(\n",
              "  (layer): Sequential(\n",
              "    (0): Linear(in_features=100, out_features=256, bias=True)\n",
              "    (1): Linear(in_features=256, out_features=512, bias=True)\n",
              "    (2): Linear(in_features=512, out_features=1024, bias=True)\n",
              "    (3): ReLU()\n",
              "    (4): Linear(in_features=1024, out_features=784, bias=True)\n",
              "    (5): Tanh()\n",
              "  )\n",
              ")"
            ]
          },
          "execution_count": 11,
          "metadata": {},
          "output_type": "execute_result"
        }
      ],
      "source": [
        "# 生成器G　インスタンス化, GPU上に転送\n",
        "G = Generator(z_dim=z_dim, g_dim=g_dim).to(device)\n",
        "G.apply(weights_init)    # weights_init関数で初期化"
      ]
    },
    {
      "cell_type": "markdown",
      "metadata": {
        "id": "1EdUkMeTbAKX"
      },
      "source": [
        "### 生成器のTensor形状確認"
      ]
    },
    {
      "cell_type": "code",
      "execution_count": 12,
      "metadata": {
        "colab": {
          "base_uri": "https://localhost:8080/"
        },
        "id": "VGatXcHXmdg2",
        "outputId": "2f565eb7-bb35-44cb-ef4e-3ea1480a5234"
      },
      "outputs": [
        {
          "name": "stdout",
          "output_type": "stream",
          "text": [
            "----------------------------------------------------------------\n",
            "        Layer (type)               Output Shape         Param #\n",
            "================================================================\n",
            "            Linear-1                  [-1, 256]          25,856\n",
            "            Linear-2                  [-1, 512]         131,584\n",
            "            Linear-3                 [-1, 1024]         525,312\n",
            "              ReLU-4                 [-1, 1024]               0\n",
            "            Linear-5                  [-1, 784]         803,600\n",
            "              Tanh-6                  [-1, 784]               0\n",
            "================================================================\n",
            "Total params: 1,486,352\n",
            "Trainable params: 1,486,352\n",
            "Non-trainable params: 0\n",
            "----------------------------------------------------------------\n",
            "Input size (MB): 0.00\n",
            "Forward/backward pass size (MB): 0.03\n",
            "Params size (MB): 5.67\n",
            "Estimated Total Size (MB): 5.70\n",
            "----------------------------------------------------------------\n"
          ]
        }
      ],
      "source": [
        "X = torch.rand(2, 100, 1, 1).to(device)\n",
        "G(X)\n",
        "\n",
        "# 生成器GのTensor形状\n",
        "# torchsummary.summary(network, 入力テンソル形状)\n",
        "# 入力: 100次元のノイズベクトル\n",
        "torchsummary.summary(G, (100, 1, 1))"
      ]
    },
    {
      "cell_type": "markdown",
      "metadata": {
        "id": "YwxXMImk-84F"
      },
      "source": [
        "### 識別器Dのインスタンス化と重み初期化"
      ]
    },
    {
      "cell_type": "code",
      "execution_count": 13,
      "metadata": {
        "colab": {
          "base_uri": "https://localhost:8080/"
        },
        "id": "KhotqJk45vt6",
        "outputId": "54b74bb6-11ea-4666-b9c8-78d1423fc20d"
      },
      "outputs": [
        {
          "data": {
            "text/plain": [
              "Discriminator(\n",
              "  (layer0): Sequential(\n",
              "    (0): Linear(in_features=784, out_features=512, bias=True)\n",
              "    (1): LeakyReLU(negative_slope=0.2)\n",
              "  )\n",
              "  (layer1): Sequential(\n",
              "    (0): Linear(in_features=512, out_features=256, bias=True)\n",
              "    (1): LeakyReLU(negative_slope=0.2)\n",
              "  )\n",
              "  (layer2): Sequential(\n",
              "    (0): Linear(in_features=256, out_features=128, bias=True)\n",
              "    (1): LeakyReLU(negative_slope=0.2)\n",
              "  )\n",
              "  (layer3): Sequential(\n",
              "    (0): Linear(in_features=128, out_features=1, bias=True)\n",
              "    (1): Sigmoid()\n",
              "  )\n",
              ")"
            ]
          },
          "execution_count": 13,
          "metadata": {},
          "output_type": "execute_result"
        }
      ],
      "source": [
        "# 識別器D　インスタンス化, GPU上に転送\n",
        "D = Discriminator(d_dim=d_dim).to(device)\n",
        "D.apply(weights_init)"
      ]
    },
    {
      "cell_type": "markdown",
      "metadata": {
        "id": "UQPALphlbGYX"
      },
      "source": [
        "### 識別器のTensor形状確認"
      ]
    },
    {
      "cell_type": "code",
      "execution_count": 14,
      "metadata": {
        "colab": {
          "base_uri": "https://localhost:8080/"
        },
        "id": "S3lWvc655xfy",
        "outputId": "acee10b8-b654-4c06-f3ce-89fbcb98a6f9"
      },
      "outputs": [
        {
          "name": "stdout",
          "output_type": "stream",
          "text": [
            "----------------------------------------------------------------\n",
            "        Layer (type)               Output Shape         Param #\n",
            "================================================================\n",
            "            Linear-1                  [-1, 512]         401,920\n",
            "         LeakyReLU-2                  [-1, 512]               0\n",
            "            Linear-3                  [-1, 256]         131,328\n",
            "         LeakyReLU-4                  [-1, 256]               0\n",
            "            Linear-5                  [-1, 128]          32,896\n",
            "         LeakyReLU-6                  [-1, 128]               0\n",
            "            Linear-7                    [-1, 1]             129\n",
            "           Sigmoid-8                    [-1, 1]               0\n",
            "================================================================\n",
            "Total params: 566,273\n",
            "Trainable params: 566,273\n",
            "Non-trainable params: 0\n",
            "----------------------------------------------------------------\n",
            "Input size (MB): 0.00\n",
            "Forward/backward pass size (MB): 0.01\n",
            "Params size (MB): 2.16\n",
            "Estimated Total Size (MB): 2.18\n",
            "----------------------------------------------------------------\n"
          ]
        }
      ],
      "source": [
        "X = torch.rand(2, 1, 28, 28).to(device)\n",
        "D(X)\n",
        "\n",
        "# 識別器DのTensor形状\n",
        "# torchsummary.summary(network, 入力テンソル形状)\n",
        "# 入力: 1channel*28px*28pxの画像\n",
        "torchsummary.summary(D, (1, 28, 28))"
      ]
    },
    {
      "cell_type": "markdown",
      "metadata": {
        "id": "SJYTFLaV6s5b"
      },
      "source": [
        "## 学習の実行"
      ]
    },
    {
      "cell_type": "code",
      "execution_count": 15,
      "metadata": {
        "id": "BPY91YHJ6veV"
      },
      "outputs": [],
      "source": [
        "criterion = nn.BCELoss()    # バイナリークロスエントロピー\n",
        "\n",
        "# 生成器のエポックごとの画像生成に使用する確認用の固定ノイズ\n",
        "fixed_noise = torch.randn(batch_size, z_dim, 1, 1, device=device)  \n",
        "\n",
        "# オプティマイザの用意\n",
        "optimizerD = optim.Adam(D.parameters(), lr=lr, betas=(beta1, 0.999), weight_decay=1e-5)  # 識別器D用\n",
        "optimizerG = optim.Adam(G.parameters(), lr=lr, betas=(beta1, 0.999), weight_decay=1e-5)  # 生成器G用"
      ]
    },
    {
      "cell_type": "code",
      "execution_count": 16,
      "metadata": {
        "colab": {
          "base_uri": "https://localhost:8080/"
        },
        "id": "jtLt35wJ61sR",
        "outputId": "e8832aae-2e23-42c3-83a1-54e11f2ad250"
      },
      "outputs": [
        {
          "name": "stdout",
          "output_type": "stream",
          "text": [
            "epoch:[1/20],num_images:[1/1200] Loss_D: 1.388 Loss_G: 0.693\n",
            "epoch:[1/20],num_images:[601/1200] Loss_D: 0.999 Loss_G: 1.274\n",
            "epoch:[2/20],num_images:[1/1200] Loss_D: 0.718 Loss_G: 2.105\n",
            "epoch:[2/20],num_images:[601/1200] Loss_D: 1.678 Loss_G: 4.816\n",
            "epoch:[3/20],num_images:[1/1200] Loss_D: 0.961 Loss_G: 2.760\n",
            "epoch:[3/20],num_images:[601/1200] Loss_D: 0.868 Loss_G: 2.558\n",
            "epoch:[4/20],num_images:[1/1200] Loss_D: 0.782 Loss_G: 1.933\n",
            "epoch:[4/20],num_images:[601/1200] Loss_D: 1.126 Loss_G: 1.411\n",
            "epoch:[5/20],num_images:[1/1200] Loss_D: 1.315 Loss_G: 0.603\n",
            "epoch:[5/20],num_images:[601/1200] Loss_D: 1.153 Loss_G: 0.940\n",
            "epoch:[6/20],num_images:[1/1200] Loss_D: 0.984 Loss_G: 1.290\n",
            "epoch:[6/20],num_images:[601/1200] Loss_D: 1.078 Loss_G: 1.056\n",
            "epoch:[7/20],num_images:[1/1200] Loss_D: 1.015 Loss_G: 1.024\n",
            "epoch:[7/20],num_images:[601/1200] Loss_D: 1.043 Loss_G: 0.866\n",
            "epoch:[8/20],num_images:[1/1200] Loss_D: 0.984 Loss_G: 1.110\n",
            "epoch:[8/20],num_images:[601/1200] Loss_D: 1.140 Loss_G: 2.057\n",
            "epoch:[9/20],num_images:[1/1200] Loss_D: 0.990 Loss_G: 1.570\n",
            "epoch:[9/20],num_images:[601/1200] Loss_D: 1.103 Loss_G: 1.184\n",
            "epoch:[10/20],num_images:[1/1200] Loss_D: 1.023 Loss_G: 1.500\n",
            "epoch:[10/20],num_images:[601/1200] Loss_D: 1.028 Loss_G: 2.174\n",
            "epoch:[11/20],num_images:[1/1200] Loss_D: 1.049 Loss_G: 1.173\n",
            "epoch:[11/20],num_images:[601/1200] Loss_D: 0.967 Loss_G: 1.502\n",
            "epoch:[12/20],num_images:[1/1200] Loss_D: 0.933 Loss_G: 1.526\n",
            "epoch:[12/20],num_images:[601/1200] Loss_D: 1.006 Loss_G: 1.660\n",
            "epoch:[13/20],num_images:[1/1200] Loss_D: 1.031 Loss_G: 1.776\n",
            "epoch:[13/20],num_images:[601/1200] Loss_D: 0.830 Loss_G: 1.713\n",
            "epoch:[14/20],num_images:[1/1200] Loss_D: 0.882 Loss_G: 1.565\n",
            "epoch:[14/20],num_images:[601/1200] Loss_D: 0.947 Loss_G: 1.166\n",
            "epoch:[15/20],num_images:[1/1200] Loss_D: 0.893 Loss_G: 1.126\n",
            "epoch:[15/20],num_images:[601/1200] Loss_D: 0.830 Loss_G: 1.258\n",
            "epoch:[16/20],num_images:[1/1200] Loss_D: 0.848 Loss_G: 1.697\n",
            "epoch:[16/20],num_images:[601/1200] Loss_D: 0.658 Loss_G: 2.428\n",
            "epoch:[17/20],num_images:[1/1200] Loss_D: 0.742 Loss_G: 2.141\n",
            "epoch:[17/20],num_images:[601/1200] Loss_D: 0.716 Loss_G: 1.860\n",
            "epoch:[18/20],num_images:[1/1200] Loss_D: 0.746 Loss_G: 2.052\n",
            "epoch:[18/20],num_images:[601/1200] Loss_D: 0.921 Loss_G: 1.648\n",
            "epoch:[19/20],num_images:[1/1200] Loss_D: 0.618 Loss_G: 2.334\n",
            "epoch:[19/20],num_images:[601/1200] Loss_D: 0.721 Loss_G: 2.021\n",
            "epoch:[20/20],num_images:[1/1200] Loss_D: 0.707 Loss_G: 1.799\n",
            "epoch:[20/20],num_images:[601/1200] Loss_D: 0.646 Loss_G: 1.689\n"
          ]
        }
      ],
      "source": [
        "G_losses = []\n",
        "D_losses = []\n",
        "\n",
        "#最初の画像の保存\n",
        "fake_image = G(fixed_noise)  \n",
        "vutils.save_image(fake_image.detach(), '{}/fake_samples_epoch_{:03d}.png'.format(out_dir, 0),\n",
        "                  normalize=True, nrow=10)\n",
        "\n",
        "# 学習のループ\n",
        "for epoch in range(num_epochs):\n",
        "    for n, images in enumerate(dataloader):\n",
        "        real_image = images[0].to(device)     # 本物画像, GPU上に転送\n",
        "        sample_size = real_image.size(0)    # 画像枚数\n",
        "        \n",
        "        # 標準正規分布(平均0,分散1)からノイズを生成, GPU上に転送\n",
        "        noise = torch.randn(sample_size, z_dim, 1, 1, device=device)\n",
        "        # 本物画像に対する正解ラベル:1 , GPU上に転送\n",
        "        real_target = torch.full((sample_size,), 1., device=device)\n",
        "        # 生成画像に対する正解ラベル:0 , GPU上に転送\n",
        "        fake_target = torch.full((sample_size,), 0., device=device)\n",
        "        \n",
        "        \"\"\"\n",
        "        識別器Dの更新\n",
        "        \"\"\"\n",
        "        D.zero_grad()    # 勾配初期化\n",
        "\n",
        "        ########################\n",
        "        # 本物画像に対する損失計算\n",
        "        ########################\n",
        "        output = D(real_image) # 識別器Dで本物画像に対する識別信号を出力\n",
        "        lossD_real = criterion(output, real_target) # 本物画像に対する識別信号の損失値\n",
        "        D_x = output.mean().item() # 本物画像の識別信号の平均\n",
        "\n",
        "        ########################\n",
        "        # 偽物画像に対する損失計算\n",
        "        ########################\n",
        "        fake_image = G(noise) # 生成器Gでノイズから生成画像を生成\n",
        "\n",
        "        output = D(fake_image.detach())  # 識別器Dで本物画像に対する識別信号を出力\n",
        "        lossD_fake = criterion(output, fake_target)  # 生成画像に対する識別信号の損失値\n",
        "\n",
        "        ########################\n",
        "        # 損失計算し,誤差逆伝播\n",
        "        ########################\n",
        "        lossD = lossD_real + lossD_fake    # 識別器Dの全体の損失\n",
        "        lossD.backward()    # 誤差逆伝播\n",
        "        optimizerD.step()   # Dのパラメーターを更新\n",
        "\n",
        "        \"\"\"\n",
        "        生成器Gの更新\n",
        "        \"\"\"\n",
        "        G.zero_grad()    # 勾配の初期化\n",
        "\n",
        "        output = D(fake_image)   # 更新した識別器Dで改めて生成画像に対する識別信号を出力\n",
        "        lossG = criterion(output, real_target)   # 生成器Gの損失値。Dに生成画像を本物画像と誤認させたいため目標値は「1」\n",
        "        lossG.backward()     # 誤差逆伝播\n",
        "\n",
        "        optimizerG.step()   # Gのパラメータを更新\n",
        "        \n",
        "        \"\"\"\n",
        "        DとGのロス表示\n",
        "        \"\"\"\n",
        "        if n % loss_display_interval == 0: \n",
        "            print('epoch:[{}/{}],num_images:[{}/{}] Loss_D: {:.3f} Loss_G: {:.3f}'\n",
        "                  .format(epoch + 1, num_epochs,\n",
        "                          n + 1, len(dataloader),\n",
        "                          lossD.item(), lossG.item()))\n",
        "\n",
        "\n",
        "        if epoch == 0 and n == 0:     # 初回に本物画像を保存する\n",
        "            vutils.save_image(real_image, '{}/real_samples.png'.format(out_dir),\n",
        "                              normalize=True, nrow=10)\n",
        "\n",
        "        # ログ出力用データの保存\n",
        "        D_losses.append(lossD.item())\n",
        "        G_losses.append(lossG.item())\n",
        "\n",
        "    \"\"\"\n",
        "    確認用画像の生成\n",
        "    \"\"\"\n",
        "    fake_image = G(fixed_noise)  # 1エポック終了ごとに確認用の生成画像を生成する\n",
        "    vutils.save_image(fake_image.detach(), '{}/fake_samples_epoch_{:03d}.png'.format(out_dir, epoch + 1),\n",
        "                      normalize=True, nrow=10)\n",
        "\n",
        "    \"\"\"\n",
        "    モデルの保存\n",
        "    \"\"\"\n",
        "    if (epoch + 1) % 5 == 0:   # 5エポックごとにモデルを保存\n",
        "        torch.save(G.state_dict(), '{}/G_epoch_{}.pth'.format(out_dir, epoch + 1))\n",
        "        torch.save(D.state_dict(), '{}/D_epoch_{}.pth'.format(out_dir, epoch + 1))"
      ]
    },
    {
      "cell_type": "markdown",
      "metadata": {
        "id": "lrz0WojvoPQe"
      },
      "source": [
        "### 学習時の損失のグラフ表示"
      ]
    },
    {
      "cell_type": "code",
      "execution_count": 17,
      "metadata": {
        "colab": {
          "base_uri": "https://localhost:8080/",
          "height": 267
        },
        "id": "X5yTUTi_Gdup",
        "outputId": "923f2b75-9fad-4768-db0a-7618d356229e"
      },
      "outputs": [
        {
          "data": {
            "image/png": "[encoded data removed]",
            "text/plain": [
              "<Figure size 432x288 with 1 Axes>"
            ]
          },
          "metadata": {
            "needs_background": "light"
          },
          "output_type": "display_data"
        }
      ],
      "source": [
        "from matplotlib import pyplot as plt\n",
        "\n",
        "plt.plot(G_losses, label='Generator_Losses')\n",
        "plt.plot(D_losses, label='Discriminator Losses')\n",
        "plt.legend()\n",
        "plt.savefig('loss.png')"
      ]
    },
    {
      "cell_type": "markdown",
      "metadata": {
        "id": "-axFBEHYUQAS"
      },
      "source": [
        "### 学習過程のアニメーション"
      ]
    },
    {
      "cell_type": "code",
      "execution_count": 20,
      "metadata": {
        "id": "Q_33u8i5UPBX"
      },
      "outputs": [],
      "source": [
        "from PIL import Image, ImageDraw\n",
        "\n",
        "images = []\n",
        "\n",
        "for epoch in range(num_epochs+1):\n",
        "  img = Image.open('{}/fake_samples_epoch_{:03d}.png'.format(out_dir, epoch))\n",
        "  images.append(img)\n",
        "\n",
        "images[0].save('/content/mnist_gan_animation.gif',\n",
        "               save_all=True, append_images=images[1:], optimize=False, duration=200, loop=0)"
      ]
    },
    {
      "cell_type": "markdown",
      "metadata": {
        "id": "Nv-pJFfg8Oys"
      },
      "source": [
        "## 重みのロード & 推論"
      ]
    },
    {
      "cell_type": "code",
      "execution_count": 19,
      "metadata": {
        "id": "3iAX3Q5Q8NO8"
      },
      "outputs": [],
      "source": [
        "model_path = \"/content/result_1-VanillaGAN/G_epoch_10.pth\"\n",
        "\n",
        "# 生成器G　ランダムベクトルから生成画像を作成する\n",
        "G_infer = Generator(z_dim=z_dim, g_dim=g_dim).to(device)\n",
        "G_infer.load_state_dict(torch.load(model_path))\n",
        "\n",
        "# 生成器のエポックごとの画像生成に使用する確認用の固定ノイズ\n",
        "fixed_noise = torch.randn(batch_size, z_dim, 1, 1, device=device)  \n",
        "\n",
        "fake_image = G_infer(fixed_noise)  #確認用の画像を生成する\n",
        "vutils.save_image(fake_image.detach(), '{}/Generator_sample.png'.format(out_dir),\n",
        "                  normalize=True, nrow=10)"
      ]
    }
  ],
  "metadata": {
    "accelerator": "GPU",
    "colab": {
      "collapsed_sections": [],
      "name": "GAN_MNIST_pytorch.ipynb",
      "provenance": []
    },
    "kernelspec": {
      "display_name": "Python 3",
      "name": "python3"
    },
    "language_info": {
      "name": "python"
    },
    "widgets": {
      "application/vnd.jupyter.widget-state+json": {
        "11a04eca77c744baac012da97abfede9": {
          "model_module": "@jupyter-widgets/controls",
          "model_module_version": "1.5.0",
          "model_name": "HTMLModel",
          "state": {
            "_dom_classes": [],
            "_model_module": "@jupyter-widgets/controls",
            "_model_module_version": "1.5.0",
            "_model_name": "HTMLModel",
            "_view_count": null,
            "_view_module": "@jupyter-widgets/controls",
            "_view_module_version": "1.5.0",
            "_view_name": "HTMLView",
            "description": "",
            "description_tooltip": null,
            "layout": "IPY_MODEL_65fd0b8af3be45a6914f836d8309f985",
            "placeholder": "​",
            "style": "IPY_MODEL_67fa0e47ec294a88afd75de9240e280e",
            "value": ""
          }
        },
        "1d522d5f5b0341f0aa97fd438a8b2947": {
          "model_module": "@jupyter-widgets/controls",
          "model_module_version": "1.5.0",
          "model_name": "ProgressStyleModel",
          "state": {
            "_model_module": "@jupyter-widgets/controls",
            "_model_module_version": "1.5.0",
            "_model_name": "ProgressStyleModel",
            "_view_count": null,
            "_view_module": "@jupyter-widgets/base",
            "_view_module_version": "1.2.0",
            "_view_name": "StyleView",
            "bar_color": null,
            "description_width": ""
          }
        },
        "2067ac0cfc4042978cbcaa9124f5d53b": {
          "model_module": "@jupyter-widgets/base",
          "model_module_version": "1.2.0",
          "model_name": "LayoutModel",
          "state": {
            "_model_module": "@jupyter-widgets/base",
            "_model_module_version": "1.2.0",
            "_model_name": "LayoutModel",
            "_view_count": null,
            "_view_module": "@jupyter-widgets/base",
            "_view_module_version": "1.2.0",
            "_view_name": "LayoutView",
            "align_content": null,
            "align_items": null,
            "align_self": null,
            "border": null,
            "bottom": null,
            "display": null,
            "flex": null,
            "flex_flow": null,
            "grid_area": null,
            "grid_auto_columns": null,
            "grid_auto_flow": null,
            "grid_auto_rows": null,
            "grid_column": null,
            "grid_gap": null,
            "grid_row": null,
            "grid_template_areas": null,
            "grid_template_columns": null,
            "grid_template_rows": null,
            "height": null,
            "justify_content": null,
            "justify_items": null,
            "left": null,
            "margin": null,
            "max_height": null,
            "max_width": null,
            "min_height": null,
            "min_width": null,
            "object_fit": null,
            "object_position": null,
            "order": null,
            "overflow": null,
            "overflow_x": null,
            "overflow_y": null,
            "padding": null,
            "right": null,
            "top": null,
            "visibility": null,
            "width": null
          }
        },
        "2a582de302bd48dc9319750c7fc587eb": {
          "model_module": "@jupyter-widgets/base",
          "model_module_version": "1.2.0",
          "model_name": "LayoutModel",
          "state": {
            "_model_module": "@jupyter-widgets/base",
            "_model_module_version": "1.2.0",
            "_model_name": "LayoutModel",
            "_view_count": null,
            "_view_module": "@jupyter-widgets/base",
            "_view_module_version": "1.2.0",
            "_view_name": "LayoutView",
            "align_content": null,
            "align_items": null,
            "align_self": null,
            "border": null,
            "bottom": null,
            "display": null,
            "flex": null,
            "flex_flow": null,
            "grid_area": null,
            "grid_auto_columns": null,
            "grid_auto_flow": null,
            "grid_auto_rows": null,
            "grid_column": null,
            "grid_gap": null,
            "grid_row": null,
            "grid_template_areas": null,
            "grid_template_columns": null,
            "grid_template_rows": null,
            "height": null,
            "justify_content": null,
            "justify_items": null,
            "left": null,
            "margin": null,
            "max_height": null,
            "max_width": null,
            "min_height": null,
            "min_width": null,
            "object_fit": null,
            "object_position": null,
            "order": null,
            "overflow": null,
            "overflow_x": null,
            "overflow_y": null,
            "padding": null,
            "right": null,
            "top": null,
            "visibility": null,
            "width": null
          }
        },
        "2d07d7968f9649a099623295c7d9f277": {
          "model_module": "@jupyter-widgets/base",
          "model_module_version": "1.2.0",
          "model_name": "LayoutModel",
          "state": {
            "_model_module": "@jupyter-widgets/base",
            "_model_module_version": "1.2.0",
            "_model_name": "LayoutModel",
            "_view_count": null,
            "_view_module": "@jupyter-widgets/base",
            "_view_module_version": "1.2.0",
            "_view_name": "LayoutView",
            "align_content": null,
            "align_items": null,
            "align_self": null,
            "border": null,
            "bottom": null,
            "display": null,
            "flex": null,
            "flex_flow": null,
            "grid_area": null,
            "grid_auto_columns": null,
            "grid_auto_flow": null,
            "grid_auto_rows": null,
            "grid_column": null,
            "grid_gap": null,
            "grid_row": null,
            "grid_template_areas": null,
            "grid_template_columns": null,
            "grid_template_rows": null,
            "height": null,
            "justify_content": null,
            "justify_items": null,
            "left": null,
            "margin": null,
            "max_height": null,
            "max_width": null,
            "min_height": null,
            "min_width": null,
            "object_fit": null,
            "object_position": null,
            "order": null,
            "overflow": null,
            "overflow_x": null,
            "overflow_y": null,
            "padding": null,
            "right": null,
            "top": null,
            "visibility": null,
            "width": null
          }
        },
        "33050e83d64a49919b6b9b22c635f20d": {
          "model_module": "@jupyter-widgets/controls",
          "model_module_version": "1.5.0",
          "model_name": "HBoxModel",
          "state": {
            "_dom_classes": [],
            "_model_module": "@jupyter-widgets/controls",
            "_model_module_version": "1.5.0",
            "_model_name": "HBoxModel",
            "_view_count": null,
            "_view_module": "@jupyter-widgets/controls",
            "_view_module_version": "1.5.0",
            "_view_name": "HBoxView",
            "box_style": "",
            "children": [
              "IPY_MODEL_5e25923cbf8d459bb5cbe394d60a00b1",
              "IPY_MODEL_61815ef1959846eb8efd422ac8844060",
              "IPY_MODEL_db86e76abbd24a6fb76380ce7b337973"
            ],
            "layout": "IPY_MODEL_94903e71e3244494988d1100c7338e64"
          }
        },
        "3bcb212e936b47c5890924c8b35c2ac5": {
          "model_module": "@jupyter-widgets/base",
          "model_module_version": "1.2.0",
          "model_name": "LayoutModel",
          "state": {
            "_model_module": "@jupyter-widgets/base",
            "_model_module_version": "1.2.0",
            "_model_name": "LayoutModel",
            "_view_count": null,
            "_view_module": "@jupyter-widgets/base",
            "_view_module_version": "1.2.0",
            "_view_name": "LayoutView",
            "align_content": null,
            "align_items": null,
            "align_self": null,
            "border": null,
            "bottom": null,
            "display": null,
            "flex": null,
            "flex_flow": null,
            "grid_area": null,
            "grid_auto_columns": null,
            "grid_auto_flow": null,
            "grid_auto_rows": null,
            "grid_column": null,
            "grid_gap": null,
            "grid_row": null,
            "grid_template_areas": null,
            "grid_template_columns": null,
            "grid_template_rows": null,
            "height": null,
            "justify_content": null,
            "justify_items": null,
            "left": null,
            "margin": null,
            "max_height": null,
            "max_width": null,
            "min_height": null,
            "min_width": null,
            "object_fit": null,
            "object_position": null,
            "order": null,
            "overflow": null,
            "overflow_x": null,
            "overflow_y": null,
            "padding": null,
            "right": null,
            "top": null,
            "visibility": null,
            "width": null
          }
        },
        "4922d36c15024336815588587dc23449": {
          "model_module": "@jupyter-widgets/base",
          "model_module_version": "1.2.0",
          "model_name": "LayoutModel",
          "state": {
            "_model_module": "@jupyter-widgets/base",
            "_model_module_version": "1.2.0",
            "_model_name": "LayoutModel",
            "_view_count": null,
            "_view_module": "@jupyter-widgets/base",
            "_view_module_version": "1.2.0",
            "_view_name": "LayoutView",
            "align_content": null,
            "align_items": null,
            "align_self": null,
            "border": null,
            "bottom": null,
            "display": null,
            "flex": null,
            "flex_flow": null,
            "grid_area": null,
            "grid_auto_columns": null,
            "grid_auto_flow": null,
            "grid_auto_rows": null,
            "grid_column": null,
            "grid_gap": null,
            "grid_row": null,
            "grid_template_areas": null,
            "grid_template_columns": null,
            "grid_template_rows": null,
            "height": null,
            "justify_content": null,
            "justify_items": null,
            "left": null,
            "margin": null,
            "max_height": null,
            "max_width": null,
            "min_height": null,
            "min_width": null,
            "object_fit": null,
            "object_position": null,
            "order": null,
            "overflow": null,
            "overflow_x": null,
            "overflow_y": null,
            "padding": null,
            "right": null,
            "top": null,
            "visibility": null,
            "width": null
          }
        },
        "5bf1b2d1ae084021a40510a45f259938": {
          "model_module": "@jupyter-widgets/base",
          "model_module_version": "1.2.0",
          "model_name": "LayoutModel",
          "state": {
            "_model_module": "@jupyter-widgets/base",
            "_model_module_version": "1.2.0",
            "_model_name": "LayoutModel",
            "_view_count": null,
            "_view_module": "@jupyter-widgets/base",
            "_view_module_version": "1.2.0",
            "_view_name": "LayoutView",
            "align_content": null,
            "align_items": null,
            "align_self": null,
            "border": null,
            "bottom": null,
            "display": null,
            "flex": null,
            "flex_flow": null,
            "grid_area": null,
            "grid_auto_columns": null,
            "grid_auto_flow": null,
            "grid_auto_rows": null,
            "grid_column": null,
            "grid_gap": null,
            "grid_row": null,
            "grid_template_areas": null,
            "grid_template_columns": null,
            "grid_template_rows": null,
            "height": null,
            "justify_content": null,
            "justify_items": null,
            "left": null,
            "margin": null,
            "max_height": null,
            "max_width": null,
            "min_height": null,
            "min_width": null,
            "object_fit": null,
            "object_position": null,
            "order": null,
            "overflow": null,
            "overflow_x": null,
            "overflow_y": null,
            "padding": null,
            "right": null,
            "top": null,
            "visibility": null,
            "width": null
          }
        },
        "5e25923cbf8d459bb5cbe394d60a00b1": {
          "model_module": "@jupyter-widgets/controls",
          "model_module_version": "1.5.0",
          "model_name": "HTMLModel",
          "state": {
            "_dom_classes": [],
            "_model_module": "@jupyter-widgets/controls",
            "_model_module_version": "1.5.0",
            "_model_name": "HTMLModel",
            "_view_count": null,
            "_view_module": "@jupyter-widgets/controls",
            "_view_module_version": "1.5.0",
            "_view_name": "HTMLView",
            "description": "",
            "description_tooltip": null,
            "layout": "IPY_MODEL_f382f0c0c6af4628983bd88c0ebc9d14",
            "placeholder": "​",
            "style": "IPY_MODEL_c4af203206b5480c8871e61f9e38ecbd",
            "value": ""
          }
        },
        "5f2d3147d9374804884a6c5921c253a7": {
          "model_module": "@jupyter-widgets/controls",
          "model_module_version": "1.5.0",
          "model_name": "HTMLModel",
          "state": {
            "_dom_classes": [],
            "_model_module": "@jupyter-widgets/controls",
            "_model_module_version": "1.5.0",
            "_model_name": "HTMLModel",
            "_view_count": null,
            "_view_module": "@jupyter-widgets/controls",
            "_view_module_version": "1.5.0",
            "_view_name": "HTMLView",
            "description": "",
            "description_tooltip": null,
            "layout": "IPY_MODEL_e06e1cfa47cf420b96b805f056b175b3",
            "placeholder": "​",
            "style": "IPY_MODEL_b6eef5f42cfb465885c4203316ba3bf0",
            "value": " 5120/? [00:00&lt;00:00, 220069.65it/s]"
          }
        },
        "61815ef1959846eb8efd422ac8844060": {
          "model_module": "@jupyter-widgets/controls",
          "model_module_version": "1.5.0",
          "model_name": "FloatProgressModel",
          "state": {
            "_dom_classes": [],
            "_model_module": "@jupyter-widgets/controls",
            "_model_module_version": "1.5.0",
            "_model_name": "FloatProgressModel",
            "_view_count": null,
            "_view_module": "@jupyter-widgets/controls",
            "_view_module_version": "1.5.0",
            "_view_name": "ProgressView",
            "bar_style": "success",
            "description": "",
            "description_tooltip": null,
            "layout": "IPY_MODEL_8adca93af6cb4492b32414c3596e80b4",
            "max": 28881,
            "min": 0,
            "orientation": "horizontal",
            "style": "IPY_MODEL_1d522d5f5b0341f0aa97fd438a8b2947",
            "value": 28881
          }
        },
        "65fd0b8af3be45a6914f836d8309f985": {
          "model_module": "@jupyter-widgets/base",
          "model_module_version": "1.2.0",
          "model_name": "LayoutModel",
          "state": {
            "_model_module": "@jupyter-widgets/base",
            "_model_module_version": "1.2.0",
            "_model_name": "LayoutModel",
            "_view_count": null,
            "_view_module": "@jupyter-widgets/base",
            "_view_module_version": "1.2.0",
            "_view_name": "LayoutView",
            "align_content": null,
            "align_items": null,
            "align_self": null,
            "border": null,
            "bottom": null,
            "display": null,
            "flex": null,
            "flex_flow": null,
            "grid_area": null,
            "grid_auto_columns": null,
            "grid_auto_flow": null,
            "grid_auto_rows": null,
            "grid_column": null,
            "grid_gap": null,
            "grid_row": null,
            "grid_template_areas": null,
            "grid_template_columns": null,
            "grid_template_rows": null,
            "height": null,
            "justify_content": null,
            "justify_items": null,
            "left": null,
            "margin": null,
            "max_height": null,
            "max_width": null,
            "min_height": null,
            "min_width": null,
            "object_fit": null,
            "object_position": null,
            "order": null,
            "overflow": null,
            "overflow_x": null,
            "overflow_y": null,
            "padding": null,
            "right": null,
            "top": null,
            "visibility": null,
            "width": null
          }
        },
        "67fa0e47ec294a88afd75de9240e280e": {
          "model_module": "@jupyter-widgets/controls",
          "model_module_version": "1.5.0",
          "model_name": "DescriptionStyleModel",
          "state": {
            "_model_module": "@jupyter-widgets/controls",
            "_model_module_version": "1.5.0",
            "_model_name": "DescriptionStyleModel",
            "_view_count": null,
            "_view_module": "@jupyter-widgets/base",
            "_view_module_version": "1.2.0",
            "_view_name": "StyleView",
            "description_width": ""
          }
        },
        "6c3796d957d440a793def68f5b86ecac": {
          "model_module": "@jupyter-widgets/controls",
          "model_module_version": "1.5.0",
          "model_name": "DescriptionStyleModel",
          "state": {
            "_model_module": "@jupyter-widgets/controls",
            "_model_module_version": "1.5.0",
            "_model_name": "DescriptionStyleModel",
            "_view_count": null,
            "_view_module": "@jupyter-widgets/base",
            "_view_module_version": "1.2.0",
            "_view_name": "StyleView",
            "description_width": ""
          }
        },
        "6f1ab6e3024e44ccae27191c8b99aa0b": {
          "model_module": "@jupyter-widgets/controls",
          "model_module_version": "1.5.0",
          "model_name": "ProgressStyleModel",
          "state": {
            "_model_module": "@jupyter-widgets/controls",
            "_model_module_version": "1.5.0",
            "_model_name": "ProgressStyleModel",
            "_view_count": null,
            "_view_module": "@jupyter-widgets/base",
            "_view_module_version": "1.2.0",
            "_view_name": "StyleView",
            "bar_color": null,
            "description_width": ""
          }
        },
        "7729b97f28e84b2494fc0fbd0ded0856": {
          "model_module": "@jupyter-widgets/controls",
          "model_module_version": "1.5.0",
          "model_name": "HTMLModel",
          "state": {
            "_dom_classes": [],
            "_model_module": "@jupyter-widgets/controls",
            "_model_module_version": "1.5.0",
            "_model_name": "HTMLModel",
            "_view_count": null,
            "_view_module": "@jupyter-widgets/controls",
            "_view_module_version": "1.5.0",
            "_view_name": "HTMLView",
            "description": "",
            "description_tooltip": null,
            "layout": "IPY_MODEL_4922d36c15024336815588587dc23449",
            "placeholder": "​",
            "style": "IPY_MODEL_c92389ae429d4e4789c6c3a5de05e8f3",
            "value": " 9913344/? [00:00&lt;00:00, 22168986.88it/s]"
          }
        },
        "84f44dd1ac7f4a42ac715f865f3bc071": {
          "model_module": "@jupyter-widgets/controls",
          "model_module_version": "1.5.0",
          "model_name": "FloatProgressModel",
          "state": {
            "_dom_classes": [],
            "_model_module": "@jupyter-widgets/controls",
            "_model_module_version": "1.5.0",
            "_model_name": "FloatProgressModel",
            "_view_count": null,
            "_view_module": "@jupyter-widgets/controls",
            "_view_module_version": "1.5.0",
            "_view_name": "ProgressView",
            "bar_style": "success",
            "description": "",
            "description_tooltip": null,
            "layout": "IPY_MODEL_ddf7b236ca2649c59ae10de36462a2d2",
            "max": 1648877,
            "min": 0,
            "orientation": "horizontal",
            "style": "IPY_MODEL_db134215cbe04b0f9f47f597c3f35282",
            "value": 1648877
          }
        },
        "891d202b78134926aef5a5364dd8134e": {
          "model_module": "@jupyter-widgets/controls",
          "model_module_version": "1.5.0",
          "model_name": "DescriptionStyleModel",
          "state": {
            "_model_module": "@jupyter-widgets/controls",
            "_model_module_version": "1.5.0",
            "_model_name": "DescriptionStyleModel",
            "_view_count": null,
            "_view_module": "@jupyter-widgets/base",
            "_view_module_version": "1.2.0",
            "_view_name": "StyleView",
            "description_width": ""
          }
        },
        "8adca93af6cb4492b32414c3596e80b4": {
          "model_module": "@jupyter-widgets/base",
          "model_module_version": "1.2.0",
          "model_name": "LayoutModel",
          "state": {
            "_model_module": "@jupyter-widgets/base",
            "_model_module_version": "1.2.0",
            "_model_name": "LayoutModel",
            "_view_count": null,
            "_view_module": "@jupyter-widgets/base",
            "_view_module_version": "1.2.0",
            "_view_name": "LayoutView",
            "align_content": null,
            "align_items": null,
            "align_self": null,
            "border": null,
            "bottom": null,
            "display": null,
            "flex": null,
            "flex_flow": null,
            "grid_area": null,
            "grid_auto_columns": null,
            "grid_auto_flow": null,
            "grid_auto_rows": null,
            "grid_column": null,
            "grid_gap": null,
            "grid_row": null,
            "grid_template_areas": null,
            "grid_template_columns": null,
            "grid_template_rows": null,
            "height": null,
            "justify_content": null,
            "justify_items": null,
            "left": null,
            "margin": null,
            "max_height": null,
            "max_width": null,
            "min_height": null,
            "min_width": null,
            "object_fit": null,
            "object_position": null,
            "order": null,
            "overflow": null,
            "overflow_x": null,
            "overflow_y": null,
            "padding": null,
            "right": null,
            "top": null,
            "visibility": null,
            "width": null
          }
        },
        "8e54cdfc9b6e4c05b68051d6c61937c6": {
          "model_module": "@jupyter-widgets/controls",
          "model_module_version": "1.5.0",
          "model_name": "HTMLModel",
          "state": {
            "_dom_classes": [],
            "_model_module": "@jupyter-widgets/controls",
            "_model_module_version": "1.5.0",
            "_model_name": "HTMLModel",
            "_view_count": null,
            "_view_module": "@jupyter-widgets/controls",
            "_view_module_version": "1.5.0",
            "_view_name": "HTMLView",
            "description": "",
            "description_tooltip": null,
            "layout": "IPY_MODEL_3bcb212e936b47c5890924c8b35c2ac5",
            "placeholder": "​",
            "style": "IPY_MODEL_c2b96ff526484603bea9b4a5aa3509a4",
            "value": ""
          }
        },
        "94903e71e3244494988d1100c7338e64": {
          "model_module": "@jupyter-widgets/base",
          "model_module_version": "1.2.0",
          "model_name": "LayoutModel",
          "state": {
            "_model_module": "@jupyter-widgets/base",
            "_model_module_version": "1.2.0",
            "_model_name": "LayoutModel",
            "_view_count": null,
            "_view_module": "@jupyter-widgets/base",
            "_view_module_version": "1.2.0",
            "_view_name": "LayoutView",
            "align_content": null,
            "align_items": null,
            "align_self": null,
            "border": null,
            "bottom": null,
            "display": null,
            "flex": null,
            "flex_flow": null,
            "grid_area": null,
            "grid_auto_columns": null,
            "grid_auto_flow": null,
            "grid_auto_rows": null,
            "grid_column": null,
            "grid_gap": null,
            "grid_row": null,
            "grid_template_areas": null,
            "grid_template_columns": null,
            "grid_template_rows": null,
            "height": null,
            "justify_content": null,
            "justify_items": null,
            "left": null,
            "margin": null,
            "max_height": null,
            "max_width": null,
            "min_height": null,
            "min_width": null,
            "object_fit": null,
            "object_position": null,
            "order": null,
            "overflow": null,
            "overflow_x": null,
            "overflow_y": null,
            "padding": null,
            "right": null,
            "top": null,
            "visibility": null,
            "width": null
          }
        },
        "a3ef52411a7b4e4894c6f0b0e715def1": {
          "model_module": "@jupyter-widgets/controls",
          "model_module_version": "1.5.0",
          "model_name": "HTMLModel",
          "state": {
            "_dom_classes": [],
            "_model_module": "@jupyter-widgets/controls",
            "_model_module_version": "1.5.0",
            "_model_name": "HTMLModel",
            "_view_count": null,
            "_view_module": "@jupyter-widgets/controls",
            "_view_module_version": "1.5.0",
            "_view_name": "HTMLView",
            "description": "",
            "description_tooltip": null,
            "layout": "IPY_MODEL_ac521bfcab534a81b198a7d76da3cc6b",
            "placeholder": "​",
            "style": "IPY_MODEL_891d202b78134926aef5a5364dd8134e",
            "value": " 1649664/? [00:00&lt;00:00, 19472307.30it/s]"
          }
        },
        "ac521bfcab534a81b198a7d76da3cc6b": {
          "model_module": "@jupyter-widgets/base",
          "model_module_version": "1.2.0",
          "model_name": "LayoutModel",
          "state": {
            "_model_module": "@jupyter-widgets/base",
            "_model_module_version": "1.2.0",
            "_model_name": "LayoutModel",
            "_view_count": null,
            "_view_module": "@jupyter-widgets/base",
            "_view_module_version": "1.2.0",
            "_view_name": "LayoutView",
            "align_content": null,
            "align_items": null,
            "align_self": null,
            "border": null,
            "bottom": null,
            "display": null,
            "flex": null,
            "flex_flow": null,
            "grid_area": null,
            "grid_auto_columns": null,
            "grid_auto_flow": null,
            "grid_auto_rows": null,
            "grid_column": null,
            "grid_gap": null,
            "grid_row": null,
            "grid_template_areas": null,
            "grid_template_columns": null,
            "grid_template_rows": null,
            "height": null,
            "justify_content": null,
            "justify_items": null,
            "left": null,
            "margin": null,
            "max_height": null,
            "max_width": null,
            "min_height": null,
            "min_width": null,
            "object_fit": null,
            "object_position": null,
            "order": null,
            "overflow": null,
            "overflow_x": null,
            "overflow_y": null,
            "padding": null,
            "right": null,
            "top": null,
            "visibility": null,
            "width": null
          }
        },
        "b309cdd2c85c4380a65b0a9edb7829e1": {
          "model_module": "@jupyter-widgets/controls",
          "model_module_version": "1.5.0",
          "model_name": "DescriptionStyleModel",
          "state": {
            "_model_module": "@jupyter-widgets/controls",
            "_model_module_version": "1.5.0",
            "_model_name": "DescriptionStyleModel",
            "_view_count": null,
            "_view_module": "@jupyter-widgets/base",
            "_view_module_version": "1.2.0",
            "_view_name": "StyleView",
            "description_width": ""
          }
        },
        "b599898d6ba64b8f8db9547b17b223ef": {
          "model_module": "@jupyter-widgets/base",
          "model_module_version": "1.2.0",
          "model_name": "LayoutModel",
          "state": {
            "_model_module": "@jupyter-widgets/base",
            "_model_module_version": "1.2.0",
            "_model_name": "LayoutModel",
            "_view_count": null,
            "_view_module": "@jupyter-widgets/base",
            "_view_module_version": "1.2.0",
            "_view_name": "LayoutView",
            "align_content": null,
            "align_items": null,
            "align_self": null,
            "border": null,
            "bottom": null,
            "display": null,
            "flex": null,
            "flex_flow": null,
            "grid_area": null,
            "grid_auto_columns": null,
            "grid_auto_flow": null,
            "grid_auto_rows": null,
            "grid_column": null,
            "grid_gap": null,
            "grid_row": null,
            "grid_template_areas": null,
            "grid_template_columns": null,
            "grid_template_rows": null,
            "height": null,
            "justify_content": null,
            "justify_items": null,
            "left": null,
            "margin": null,
            "max_height": null,
            "max_width": null,
            "min_height": null,
            "min_width": null,
            "object_fit": null,
            "object_position": null,
            "order": null,
            "overflow": null,
            "overflow_x": null,
            "overflow_y": null,
            "padding": null,
            "right": null,
            "top": null,
            "visibility": null,
            "width": null
          }
        },
        "b6eef5f42cfb465885c4203316ba3bf0": {
          "model_module": "@jupyter-widgets/controls",
          "model_module_version": "1.5.0",
          "model_name": "DescriptionStyleModel",
          "state": {
            "_model_module": "@jupyter-widgets/controls",
            "_model_module_version": "1.5.0",
            "_model_name": "DescriptionStyleModel",
            "_view_count": null,
            "_view_module": "@jupyter-widgets/base",
            "_view_module_version": "1.2.0",
            "_view_name": "StyleView",
            "description_width": ""
          }
        },
        "c195599c4d54434b8ccefa56a6bfa076": {
          "model_module": "@jupyter-widgets/controls",
          "model_module_version": "1.5.0",
          "model_name": "FloatProgressModel",
          "state": {
            "_dom_classes": [],
            "_model_module": "@jupyter-widgets/controls",
            "_model_module_version": "1.5.0",
            "_model_name": "FloatProgressModel",
            "_view_count": null,
            "_view_module": "@jupyter-widgets/controls",
            "_view_module_version": "1.5.0",
            "_view_name": "ProgressView",
            "bar_style": "success",
            "description": "",
            "description_tooltip": null,
            "layout": "IPY_MODEL_5bf1b2d1ae084021a40510a45f259938",
            "max": 9912422,
            "min": 0,
            "orientation": "horizontal",
            "style": "IPY_MODEL_6f1ab6e3024e44ccae27191c8b99aa0b",
            "value": 9912422
          }
        },
        "c2b96ff526484603bea9b4a5aa3509a4": {
          "model_module": "@jupyter-widgets/controls",
          "model_module_version": "1.5.0",
          "model_name": "DescriptionStyleModel",
          "state": {
            "_model_module": "@jupyter-widgets/controls",
            "_model_module_version": "1.5.0",
            "_model_name": "DescriptionStyleModel",
            "_view_count": null,
            "_view_module": "@jupyter-widgets/base",
            "_view_module_version": "1.2.0",
            "_view_name": "StyleView",
            "description_width": ""
          }
        },
        "c4af203206b5480c8871e61f9e38ecbd": {
          "model_module": "@jupyter-widgets/controls",
          "model_module_version": "1.5.0",
          "model_name": "DescriptionStyleModel",
          "state": {
            "_model_module": "@jupyter-widgets/controls",
            "_model_module_version": "1.5.0",
            "_model_name": "DescriptionStyleModel",
            "_view_count": null,
            "_view_module": "@jupyter-widgets/base",
            "_view_module_version": "1.2.0",
            "_view_name": "StyleView",
            "description_width": ""
          }
        },
        "c69afc67bcb04050a7c4f1e78b34ddc9": {
          "model_module": "@jupyter-widgets/base",
          "model_module_version": "1.2.0",
          "model_name": "LayoutModel",
          "state": {
            "_model_module": "@jupyter-widgets/base",
            "_model_module_version": "1.2.0",
            "_model_name": "LayoutModel",
            "_view_count": null,
            "_view_module": "@jupyter-widgets/base",
            "_view_module_version": "1.2.0",
            "_view_name": "LayoutView",
            "align_content": null,
            "align_items": null,
            "align_self": null,
            "border": null,
            "bottom": null,
            "display": null,
            "flex": null,
            "flex_flow": null,
            "grid_area": null,
            "grid_auto_columns": null,
            "grid_auto_flow": null,
            "grid_auto_rows": null,
            "grid_column": null,
            "grid_gap": null,
            "grid_row": null,
            "grid_template_areas": null,
            "grid_template_columns": null,
            "grid_template_rows": null,
            "height": null,
            "justify_content": null,
            "justify_items": null,
            "left": null,
            "margin": null,
            "max_height": null,
            "max_width": null,
            "min_height": null,
            "min_width": null,
            "object_fit": null,
            "object_position": null,
            "order": null,
            "overflow": null,
            "overflow_x": null,
            "overflow_y": null,
            "padding": null,
            "right": null,
            "top": null,
            "visibility": null,
            "width": null
          }
        },
        "c8f7bbf391b545738c86922f0e30cf96": {
          "model_module": "@jupyter-widgets/controls",
          "model_module_version": "1.5.0",
          "model_name": "HBoxModel",
          "state": {
            "_dom_classes": [],
            "_model_module": "@jupyter-widgets/controls",
            "_model_module_version": "1.5.0",
            "_model_name": "HBoxModel",
            "_view_count": null,
            "_view_module": "@jupyter-widgets/controls",
            "_view_module_version": "1.5.0",
            "_view_name": "HBoxView",
            "box_style": "",
            "children": [
              "IPY_MODEL_8e54cdfc9b6e4c05b68051d6c61937c6",
              "IPY_MODEL_84f44dd1ac7f4a42ac715f865f3bc071",
              "IPY_MODEL_a3ef52411a7b4e4894c6f0b0e715def1"
            ],
            "layout": "IPY_MODEL_2067ac0cfc4042978cbcaa9124f5d53b"
          }
        },
        "c92389ae429d4e4789c6c3a5de05e8f3": {
          "model_module": "@jupyter-widgets/controls",
          "model_module_version": "1.5.0",
          "model_name": "DescriptionStyleModel",
          "state": {
            "_model_module": "@jupyter-widgets/controls",
            "_model_module_version": "1.5.0",
            "_model_name": "DescriptionStyleModel",
            "_view_count": null,
            "_view_module": "@jupyter-widgets/base",
            "_view_module_version": "1.2.0",
            "_view_name": "StyleView",
            "description_width": ""
          }
        },
        "d682243dfa154742861bfcb47b526a92": {
          "model_module": "@jupyter-widgets/controls",
          "model_module_version": "1.5.0",
          "model_name": "HBoxModel",
          "state": {
            "_dom_classes": [],
            "_model_module": "@jupyter-widgets/controls",
            "_model_module_version": "1.5.0",
            "_model_name": "HBoxModel",
            "_view_count": null,
            "_view_module": "@jupyter-widgets/controls",
            "_view_module_version": "1.5.0",
            "_view_name": "HBoxView",
            "box_style": "",
            "children": [
              "IPY_MODEL_11a04eca77c744baac012da97abfede9",
              "IPY_MODEL_db883ba9df0b4596bc370afe8b3e38d3",
              "IPY_MODEL_5f2d3147d9374804884a6c5921c253a7"
            ],
            "layout": "IPY_MODEL_c69afc67bcb04050a7c4f1e78b34ddc9"
          }
        },
        "db134215cbe04b0f9f47f597c3f35282": {
          "model_module": "@jupyter-widgets/controls",
          "model_module_version": "1.5.0",
          "model_name": "ProgressStyleModel",
          "state": {
            "_model_module": "@jupyter-widgets/controls",
            "_model_module_version": "1.5.0",
            "_model_name": "ProgressStyleModel",
            "_view_count": null,
            "_view_module": "@jupyter-widgets/base",
            "_view_module_version": "1.2.0",
            "_view_name": "StyleView",
            "bar_color": null,
            "description_width": ""
          }
        },
        "db86e76abbd24a6fb76380ce7b337973": {
          "model_module": "@jupyter-widgets/controls",
          "model_module_version": "1.5.0",
          "model_name": "HTMLModel",
          "state": {
            "_dom_classes": [],
            "_model_module": "@jupyter-widgets/controls",
            "_model_module_version": "1.5.0",
            "_model_name": "HTMLModel",
            "_view_count": null,
            "_view_module": "@jupyter-widgets/controls",
            "_view_module_version": "1.5.0",
            "_view_name": "HTMLView",
            "description": "",
            "description_tooltip": null,
            "layout": "IPY_MODEL_e7789da87e9e43478c205bf2f7644926",
            "placeholder": "​",
            "style": "IPY_MODEL_b309cdd2c85c4380a65b0a9edb7829e1",
            "value": " 29696/? [00:00&lt;00:00, 1255901.70it/s]"
          }
        },
        "db883ba9df0b4596bc370afe8b3e38d3": {
          "model_module": "@jupyter-widgets/controls",
          "model_module_version": "1.5.0",
          "model_name": "FloatProgressModel",
          "state": {
            "_dom_classes": [],
            "_model_module": "@jupyter-widgets/controls",
            "_model_module_version": "1.5.0",
            "_model_name": "FloatProgressModel",
            "_view_count": null,
            "_view_module": "@jupyter-widgets/controls",
            "_view_module_version": "1.5.0",
            "_view_name": "ProgressView",
            "bar_style": "success",
            "description": "",
            "description_tooltip": null,
            "layout": "IPY_MODEL_2d07d7968f9649a099623295c7d9f277",
            "max": 4542,
            "min": 0,
            "orientation": "horizontal",
            "style": "IPY_MODEL_f25519a151fd4837860f3762f4bb5139",
            "value": 4542
          }
        },
        "ddf7b236ca2649c59ae10de36462a2d2": {
          "model_module": "@jupyter-widgets/base",
          "model_module_version": "1.2.0",
          "model_name": "LayoutModel",
          "state": {
            "_model_module": "@jupyter-widgets/base",
            "_model_module_version": "1.2.0",
            "_model_name": "LayoutModel",
            "_view_count": null,
            "_view_module": "@jupyter-widgets/base",
            "_view_module_version": "1.2.0",
            "_view_name": "LayoutView",
            "align_content": null,
            "align_items": null,
            "align_self": null,
            "border": null,
            "bottom": null,
            "display": null,
            "flex": null,
            "flex_flow": null,
            "grid_area": null,
            "grid_auto_columns": null,
            "grid_auto_flow": null,
            "grid_auto_rows": null,
            "grid_column": null,
            "grid_gap": null,
            "grid_row": null,
            "grid_template_areas": null,
            "grid_template_columns": null,
            "grid_template_rows": null,
            "height": null,
            "justify_content": null,
            "justify_items": null,
            "left": null,
            "margin": null,
            "max_height": null,
            "max_width": null,
            "min_height": null,
            "min_width": null,
            "object_fit": null,
            "object_position": null,
            "order": null,
            "overflow": null,
            "overflow_x": null,
            "overflow_y": null,
            "padding": null,
            "right": null,
            "top": null,
            "visibility": null,
            "width": null
          }
        },
        "e06e1cfa47cf420b96b805f056b175b3": {
          "model_module": "@jupyter-widgets/base",
          "model_module_version": "1.2.0",
          "model_name": "LayoutModel",
          "state": {
            "_model_module": "@jupyter-widgets/base",
            "_model_module_version": "1.2.0",
            "_model_name": "LayoutModel",
            "_view_count": null,
            "_view_module": "@jupyter-widgets/base",
            "_view_module_version": "1.2.0",
            "_view_name": "LayoutView",
            "align_content": null,
            "align_items": null,
            "align_self": null,
            "border": null,
            "bottom": null,
            "display": null,
            "flex": null,
            "flex_flow": null,
            "grid_area": null,
            "grid_auto_columns": null,
            "grid_auto_flow": null,
            "grid_auto_rows": null,
            "grid_column": null,
            "grid_gap": null,
            "grid_row": null,
            "grid_template_areas": null,
            "grid_template_columns": null,
            "grid_template_rows": null,
            "height": null,
            "justify_content": null,
            "justify_items": null,
            "left": null,
            "margin": null,
            "max_height": null,
            "max_width": null,
            "min_height": null,
            "min_width": null,
            "object_fit": null,
            "object_position": null,
            "order": null,
            "overflow": null,
            "overflow_x": null,
            "overflow_y": null,
            "padding": null,
            "right": null,
            "top": null,
            "visibility": null,
            "width": null
          }
        },
        "e2bc2ce364764e6597f830fba3fe9079": {
          "model_module": "@jupyter-widgets/controls",
          "model_module_version": "1.5.0",
          "model_name": "HTMLModel",
          "state": {
            "_dom_classes": [],
            "_model_module": "@jupyter-widgets/controls",
            "_model_module_version": "1.5.0",
            "_model_name": "HTMLModel",
            "_view_count": null,
            "_view_module": "@jupyter-widgets/controls",
            "_view_module_version": "1.5.0",
            "_view_name": "HTMLView",
            "description": "",
            "description_tooltip": null,
            "layout": "IPY_MODEL_b599898d6ba64b8f8db9547b17b223ef",
            "placeholder": "​",
            "style": "IPY_MODEL_6c3796d957d440a793def68f5b86ecac",
            "value": ""
          }
        },
        "e7789da87e9e43478c205bf2f7644926": {
          "model_module": "@jupyter-widgets/base",
          "model_module_version": "1.2.0",
          "model_name": "LayoutModel",
          "state": {
            "_model_module": "@jupyter-widgets/base",
            "_model_module_version": "1.2.0",
            "_model_name": "LayoutModel",
            "_view_count": null,
            "_view_module": "@jupyter-widgets/base",
            "_view_module_version": "1.2.0",
            "_view_name": "LayoutView",
            "align_content": null,
            "align_items": null,
            "align_self": null,
            "border": null,
            "bottom": null,
            "display": null,
            "flex": null,
            "flex_flow": null,
            "grid_area": null,
            "grid_auto_columns": null,
            "grid_auto_flow": null,
            "grid_auto_rows": null,
            "grid_column": null,
            "grid_gap": null,
            "grid_row": null,
            "grid_template_areas": null,
            "grid_template_columns": null,
            "grid_template_rows": null,
            "height": null,
            "justify_content": null,
            "justify_items": null,
            "left": null,
            "margin": null,
            "max_height": null,
            "max_width": null,
            "min_height": null,
            "min_width": null,
            "object_fit": null,
            "object_position": null,
            "order": null,
            "overflow": null,
            "overflow_x": null,
            "overflow_y": null,
            "padding": null,
            "right": null,
            "top": null,
            "visibility": null,
            "width": null
          }
        },
        "f25519a151fd4837860f3762f4bb5139": {
          "model_module": "@jupyter-widgets/controls",
          "model_module_version": "1.5.0",
          "model_name": "ProgressStyleModel",
          "state": {
            "_model_module": "@jupyter-widgets/controls",
            "_model_module_version": "1.5.0",
            "_model_name": "ProgressStyleModel",
            "_view_count": null,
            "_view_module": "@jupyter-widgets/base",
            "_view_module_version": "1.2.0",
            "_view_name": "StyleView",
            "bar_color": null,
            "description_width": ""
          }
        },
        "f382f0c0c6af4628983bd88c0ebc9d14": {
          "model_module": "@jupyter-widgets/base",
          "model_module_version": "1.2.0",
          "model_name": "LayoutModel",
          "state": {
            "_model_module": "@jupyter-widgets/base",
            "_model_module_version": "1.2.0",
            "_model_name": "LayoutModel",
            "_view_count": null,
            "_view_module": "@jupyter-widgets/base",
            "_view_module_version": "1.2.0",
            "_view_name": "LayoutView",
            "align_content": null,
            "align_items": null,
            "align_self": null,
            "border": null,
            "bottom": null,
            "display": null,
            "flex": null,
            "flex_flow": null,
            "grid_area": null,
            "grid_auto_columns": null,
            "grid_auto_flow": null,
            "grid_auto_rows": null,
            "grid_column": null,
            "grid_gap": null,
            "grid_row": null,
            "grid_template_areas": null,
            "grid_template_columns": null,
            "grid_template_rows": null,
            "height": null,
            "justify_content": null,
            "justify_items": null,
            "left": null,
            "margin": null,
            "max_height": null,
            "max_width": null,
            "min_height": null,
            "min_width": null,
            "object_fit": null,
            "object_position": null,
            "order": null,
            "overflow": null,
            "overflow_x": null,
            "overflow_y": null,
            "padding": null,
            "right": null,
            "top": null,
            "visibility": null,
            "width": null
          }
        },
        "fcffac270218407d8f8e02e34cc364b3": {
          "model_module": "@jupyter-widgets/controls",
          "model_module_version": "1.5.0",
          "model_name": "HBoxModel",
          "state": {
            "_dom_classes": [],
            "_model_module": "@jupyter-widgets/controls",
            "_model_module_version": "1.5.0",
            "_model_name": "HBoxModel",
            "_view_count": null,
            "_view_module": "@jupyter-widgets/controls",
            "_view_module_version": "1.5.0",
            "_view_name": "HBoxView",
            "box_style": "",
            "children": [
              "IPY_MODEL_e2bc2ce364764e6597f830fba3fe9079",
              "IPY_MODEL_c195599c4d54434b8ccefa56a6bfa076",
              "IPY_MODEL_7729b97f28e84b2494fc0fbd0ded0856"
            ],
            "layout": "IPY_MODEL_2a582de302bd48dc9319750c7fc587eb"
          }
        }
      }
    }
  },
  "nbformat": 4,
  "nbformat_minor": 0
}
