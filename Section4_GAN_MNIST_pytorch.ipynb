{
  "cells": [
    {
      "cell_type": "markdown",
      "metadata": {
        "id": "xWop9zHATgct"
      },
      "source": [
        "[![Open In Colab](https://colab.research.google.com/assets/colab-badge.svg)](https://colab.research.google.com/github/YuichiKZ/pytorch_gan/blob/main/Section4_GAN_MNIST_pytorch.ipynb)\n",
        "\n",
        "#GANのノートブック\n",
        "- このノートブックではPyTorchによるGANネットワークの実装と学習を行います。\n",
        "\n",
        "#学習目標\n",
        "- 画像を生成するGenerator(生成器)のネットワーク構造を理解する\n",
        "- 画像を識別するDiscriminator(識別器)のネットワーク構造を理解する\n",
        "- GANの損失関数とニューラルネットワークの学習の流れを理解する\n",
        "- GANのネットワークを実装できるようにする\n"
      ]
    },
    {
      "cell_type": "markdown",
      "metadata": {
        "id": "e5gfvl-sImNX"
      },
      "source": [
        "# GPU確認"
      ]
    },
    {
      "cell_type": "code",
      "execution_count": null,
      "metadata": {
        "id": "zaeg0L_0IGrC"
      },
      "outputs": [],
      "source": [
        "!nvidia-smi"
      ]
    },
    {
      "cell_type": "markdown",
      "metadata": {
        "id": "3Re_WY_fIuMp"
      },
      "source": [
        "# PyTorch インポート & バージョン確認"
      ]
    },
    {
      "cell_type": "code",
      "execution_count": null,
      "metadata": {
        "id": "j9afQCGCIsrr"
      },
      "outputs": [],
      "source": [
        "import torch\n",
        "import torchvision\n",
        "# バージョンの確認\n",
        "print(torch.__version__) \n",
        "print(torchvision.__version__) "
      ]
    },
    {
      "cell_type": "markdown",
      "metadata": {
        "id": "Dumsi8zdI4EK"
      },
      "source": [
        "# GAN実装"
      ]
    },
    {
      "cell_type": "markdown",
      "metadata": {
        "id": "TwLo05nxUPJL"
      },
      "source": [
        "## パッケージインポート"
      ]
    },
    {
      "cell_type": "code",
      "execution_count": null,
      "metadata": {
        "id": "XYDq2LLZKad7"
      },
      "outputs": [],
      "source": [
        "import os\n",
        "import random\n",
        "import numpy as np\n",
        "import matplotlib.pyplot as plt\n",
        "\n",
        "import torch.nn as nn\n",
        "import torch.optim as optim\n",
        "import torch.utils.data\n",
        "import torchvision.datasets as dset\n",
        "import torchvision.transforms as transforms\n",
        "import torchvision.utils as vutils\n",
        "import torchsummary"
      ]
    },
    {
      "cell_type": "markdown",
      "metadata": {
        "id": "32MJdDAOQC1r"
      },
      "source": [
        "## パラメータ設定"
      ]
    },
    {
      "cell_type": "code",
      "execution_count": null,
      "metadata": {
        "colab": {
          "base_uri": "https://localhost:8080/"
        },
        "id": "iJT7ERb8Kl8m",
        "outputId": "39e25eff-febe-48bd-8926-7bc7a96f5e9c"
      },
      "outputs": [
        {
          "data": {
            "text/plain": [
              "<torch._C.Generator at 0x7f986fc19430>"
            ]
          },
          "execution_count": 4,
          "metadata": {},
          "output_type": "execute_result"
        }
      ],
      "source": [
        "batch_size=50\n",
        "z_dim = 100 #ノイズ次元\n",
        "g_dim = 128 \n",
        "d_dim = 128 \n",
        "num_epochs = 20 #エポック数\n",
        "lr = 0.0002 #学習率\n",
        "beta1 = 0.5\n",
        "out_dir = './result_1-VanillaGAN'\n",
        "loss_display_interval = 600\n",
        "\n",
        "# 保存先ディレクトリを作成\n",
        "try:\n",
        "    os.makedirs(out_dir, exist_ok=True)\n",
        "except Exception as error: \n",
        "    print(error)\n",
        "\n",
        "# 乱数のシード（種）を固定\n",
        "random.seed(0)\n",
        "np.random.seed(0)\n",
        "torch.manual_seed(0)"
      ]
    },
    {
      "cell_type": "markdown",
      "metadata": {
        "id": "PEyr0YmET6yA"
      },
      "source": [
        "##データセット定義"
      ]
    },
    {
      "cell_type": "markdown",
      "metadata": {
        "id": "ScrzEDqLWSMs"
      },
      "source": [
        "- `transforms.Compose(transforms)`\n",
        "<br>\n",
        "複数の Transform を連続して行う Transform を作成\n",
        "- `transforms.ToTensor()`\n",
        "<br>\n",
        "PIL Imageまたはnumpy ndarrayをTorch Tensorに変換\n",
        "- `transforms.Normalize((mean,...),(std,...))`\n",
        "<br>\n",
        "各チャンネルに関して標準化を行う<br>\n",
        "$output[channel] = (input[channel]-mean[channel])/std[channel]$\n",
        "<br>\n",
        "i.e. <br>\n",
        "MNISTの場合<br>\n",
        "チャンネル数: 1(白黒画像)<br>\n",
        "分布: [0,1]<br>\n",
        "より\n",
        "$std=0.5, mean=0.5$とすると\n",
        "分布は[-1,1]となる。"
      ]
    },
    {
      "cell_type": "code",
      "execution_count": null,
      "metadata": {
        "colab": {
          "base_uri": "https://localhost:8080/",
          "height": 448,
          "referenced_widgets": [
            "cfb6aa4dca944ca98c65b2bcd7f664b0",
            "75fb6ae23a0443b88335f4d944aaecbb",
            "4ae855a9382c4b3dba832f7ba38d52ac",
            "756bb2f2782f446abdbec01bb25a576f",
            "8ef49fa568734d55bcc28917453f202a",
            "4456e4c84ad443c683a2aaea7002ff6c",
            "164353bc195d4c18b8ac52dc5baba2e7",
            "8ce2457b656648c7a6ab23dc12afc630",
            "57dd4d5c06554282820e1edc3f85de01",
            "9fe430c689fe487f99f5fd19a131d8ab",
            "7e4b03c290ae4d65b2b3319654fb56d8",
            "cd5e8bca27d04c7e8e437d844ae586d2",
            "ecbacd40f267435fa7c32d452cc893c8",
            "d19c792480494b67869fadab047467d0",
            "b0677645e3ef4e6a8363e708bf3e0dc4",
            "975340de540b4350939d6b9fc418faad",
            "d7e6385f098f4dbaab24e1be3922ad27",
            "f6e2ca44c9d44aeb8b7c8e3479ff966e",
            "0121809063b84e26b5d1298db9239ba0",
            "8aecccf6a05746c68cde09e2e0536296",
            "5a7552e5ea814b61ad99d7e58140e2c9",
            "fdae267be22348a494df9510288d25ed",
            "e915d087f72a471d9a5c7910006430a8",
            "52095eaf5ebf4463b47a56fc660e6475",
            "77b455aa98f34000b8f4b8715bc74b87",
            "78281038b1ff49d7822d61b2bd58464d",
            "80e58fd968b14eb28f2ab88aa0d16df3",
            "ad6e75477d004b9d955d702c2b287654",
            "13a236f599f94b5aa69fe3b8d07cd016",
            "226393c35a8f4bc182802cac837913fb",
            "edc77c1979ca4659a1b41825c143915b",
            "93951dc44e7e4e3dbc3f7d739e91a530",
            "5f8f10bdb47e488bb9915c3e7281f051",
            "5f8ddcb4fac64f1cae66a4b5703a345e",
            "72853862da594426a9191899aa690008",
            "f4ba576dd9c44f8b8e0395e027226223",
            "2905d581b8c44497a136c96cac2a4ceb",
            "e2be683cfde8406bbb537c7b46b392d9",
            "6d9a5ea241ac4c868e01f26e1b249eb1",
            "86a3b0df7b0745d499434ca58c664f7f",
            "5da7e7b373d74247899d8672d766e554",
            "a6800db4221e486984d2ea7c4c3c61ea",
            "2f9df1e5208f4bccb22339ccc252589b",
            "cfbddb1268e143f6b184f959200b50e8"
          ]
        },
        "id": "24Nobb-kKmFK",
        "outputId": "8ae887f6-fdcc-4a20-c2fa-c8c89d264980"
      },
      "outputs": [
        {
          "name": "stdout",
          "output_type": "stream",
          "text": [
            "Downloading http://yann.lecun.com/exdb/mnist/train-images-idx3-ubyte.gz\n",
            "Downloading http://yann.lecun.com/exdb/mnist/train-images-idx3-ubyte.gz to ./mnist_data/MNIST/raw/train-images-idx3-ubyte.gz\n"
          ]
        },
        {
          "data": {
            "application/vnd.jupyter.widget-view+json": {
              "model_id": "cfb6aa4dca944ca98c65b2bcd7f664b0",
              "version_major": 2,
              "version_minor": 0
            },
            "text/plain": [
              "  0%|          | 0/9912422 [00:00<?, ?it/s]"
            ]
          },
          "metadata": {},
          "output_type": "display_data"
        },
        {
          "name": "stdout",
          "output_type": "stream",
          "text": [
            "Extracting ./mnist_data/MNIST/raw/train-images-idx3-ubyte.gz to ./mnist_data/MNIST/raw\n",
            "\n",
            "Downloading http://yann.lecun.com/exdb/mnist/train-labels-idx1-ubyte.gz\n",
            "Downloading http://yann.lecun.com/exdb/mnist/train-labels-idx1-ubyte.gz to ./mnist_data/MNIST/raw/train-labels-idx1-ubyte.gz\n"
          ]
        },
        {
          "data": {
            "application/vnd.jupyter.widget-view+json": {
              "model_id": "cd5e8bca27d04c7e8e437d844ae586d2",
              "version_major": 2,
              "version_minor": 0
            },
            "text/plain": [
              "  0%|          | 0/28881 [00:00<?, ?it/s]"
            ]
          },
          "metadata": {},
          "output_type": "display_data"
        },
        {
          "name": "stdout",
          "output_type": "stream",
          "text": [
            "Extracting ./mnist_data/MNIST/raw/train-labels-idx1-ubyte.gz to ./mnist_data/MNIST/raw\n",
            "\n",
            "Downloading http://yann.lecun.com/exdb/mnist/t10k-images-idx3-ubyte.gz\n",
            "Downloading http://yann.lecun.com/exdb/mnist/t10k-images-idx3-ubyte.gz to ./mnist_data/MNIST/raw/t10k-images-idx3-ubyte.gz\n"
          ]
        },
        {
          "data": {
            "application/vnd.jupyter.widget-view+json": {
              "model_id": "e915d087f72a471d9a5c7910006430a8",
              "version_major": 2,
              "version_minor": 0
            },
            "text/plain": [
              "  0%|          | 0/1648877 [00:00<?, ?it/s]"
            ]
          },
          "metadata": {},
          "output_type": "display_data"
        },
        {
          "name": "stdout",
          "output_type": "stream",
          "text": [
            "Extracting ./mnist_data/MNIST/raw/t10k-images-idx3-ubyte.gz to ./mnist_data/MNIST/raw\n",
            "\n",
            "Downloading http://yann.lecun.com/exdb/mnist/t10k-labels-idx1-ubyte.gz\n",
            "Downloading http://yann.lecun.com/exdb/mnist/t10k-labels-idx1-ubyte.gz to ./mnist_data/MNIST/raw/t10k-labels-idx1-ubyte.gz\n"
          ]
        },
        {
          "data": {
            "application/vnd.jupyter.widget-view+json": {
              "model_id": "5f8ddcb4fac64f1cae66a4b5703a345e",
              "version_major": 2,
              "version_minor": 0
            },
            "text/plain": [
              "  0%|          | 0/4542 [00:00<?, ?it/s]"
            ]
          },
          "metadata": {},
          "output_type": "display_data"
        },
        {
          "name": "stdout",
          "output_type": "stream",
          "text": [
            "Extracting ./mnist_data/MNIST/raw/t10k-labels-idx1-ubyte.gz to ./mnist_data/MNIST/raw\n",
            "\n"
          ]
        }
      ],
      "source": [
        "# MNISTの訓練データセットを読み込む\n",
        "# transforms.ToTensor()-> Torch Tensorに変換\n",
        "# transforms.Normalize((mean,),(std)) -> テンソルの値を平均mean, 分散stdに変換する\n",
        "dataset = dset.MNIST(root='./mnist_data', download=True, train=True,\n",
        "                      transform=transforms.Compose([\n",
        "                          transforms.ToTensor(),\n",
        "                          transforms.Normalize((0.5,), (0.5,)) ]))"
      ]
    },
    {
      "cell_type": "code",
      "execution_count": null,
      "metadata": {
        "colab": {
          "base_uri": "https://localhost:8080/"
        },
        "id": "SaQG3jaqKplQ",
        "outputId": "80f35555-af2e-4cd4-f53c-c110d52e9a01"
      },
      "outputs": [
        {
          "data": {
            "text/plain": [
              "torch.Size([1, 28, 28])"
            ]
          },
          "execution_count": 7,
          "metadata": {},
          "output_type": "execute_result"
        }
      ],
      "source": [
        "# 画像配列の形状確認\n",
        "dataset[0][0].shape"
      ]
    },
    {
      "cell_type": "code",
      "execution_count": null,
      "metadata": {
        "colab": {
          "base_uri": "https://localhost:8080/"
        },
        "id": "t6jWFZjqKpty",
        "outputId": "44d129eb-50e1-4ed0-a927-d40c0c068f38"
      },
      "outputs": [
        {
          "name": "stdout",
          "output_type": "stream",
          "text": [
            "device: cuda:0\n"
          ]
        }
      ],
      "source": [
        "# 訓練データをセットしたDataLoader作成\n",
        "dataloader = torch.utils.data.DataLoader(dataset, batch_size=batch_size,\n",
        "                                         shuffle=True)\n",
        "\n",
        "# 学習に使用するデバイスを指定。\n",
        "device = torch.device(\"cuda:0\" if torch.cuda.is_available() else \"cpu\")\n",
        "print('device:', device)"
      ]
    },
    {
      "cell_type": "markdown",
      "metadata": {
        "id": "apEYzaWdK7Sf"
      },
      "source": [
        "##ネットワークの定義"
      ]
    },
    {
      "cell_type": "markdown",
      "metadata": {
        "id": "JjDKKREYvRKK"
      },
      "source": [
        "### Generatorクラス"
      ]
    },
    {
      "cell_type": "code",
      "execution_count": null,
      "metadata": {
        "id": "yxLyiHmUK77A"
      },
      "outputs": [],
      "source": [
        "class Generator(nn.Module):\n",
        "    def __init__(self, z_dim=100, g_dim=128, num_ch=1):\n",
        "        \"\"\"\n",
        "        :z_dim: 入力ベクトルzの次元\n",
        "        :g_dim: 最終層の入力チャネル数\n",
        "        :num_ch: 出力画像のチャネル数\n",
        "        \"\"\"\n",
        "        super(Generator, self).__init__()\n",
        "\n",
        "        # ニューラルネットワークの構造を定義する\n",
        "        self.layer = nn.Sequential(\n",
        "            nn.Linear(z_dim,g_dim*2), #(B,100) -> (B,256) 全結合層\n",
        "            nn.Linear(g_dim * 2,g_dim * 4), #(B,256) -> (B,512)\n",
        "            nn.Linear(g_dim * 4,g_dim * 8), #(B,512) -> (B,1024)\n",
        "            nn.ReLU(),  #活性化関数 relu\n",
        "            nn.Linear(g_dim * 8,28*28), #(B,1024) -> (B,784)\n",
        "            nn.Tanh(),  #活性化関数 tanh\n",
        "        )\n",
        "\n",
        "\n",
        "    def forward(self, z):\n",
        "        \"\"\"\n",
        "        順方向の演算\n",
        "        z: 入力ノイズ\n",
        "        return z: 生成画像\n",
        "        \"\"\"\n",
        "        z = z.view(z.size(0), -1) #(B,100,1,1)->(B,100)\n",
        "        z = self.layer(z) #(B,100)->(B,28*28)\n",
        "        z = z.view(-1, 1, 28, 28) #(B,28*28)->(B,1,28,28)\n",
        "        return z"
      ]
    },
    {
      "cell_type": "markdown",
      "metadata": {
        "id": "R_WwNcBOvXXA"
      },
      "source": [
        "### Discriminatorクラス"
      ]
    },
    {
      "cell_type": "code",
      "execution_count": null,
      "metadata": {
        "id": "UDl4RfofqKMj"
      },
      "outputs": [],
      "source": [
        "class Discriminator(nn.Module):\n",
        "    \"\"\"\n",
        "    識別器Dのクラス\n",
        "    \"\"\"\n",
        "    def __init__(self, num_ch=1, d_dim=128):\n",
        "        \"\"\"\n",
        "        :num_ch: 入力画像のチャネル数\n",
        "        :d_dim: 先頭層の出力チャネル数\n",
        "        \"\"\"\n",
        "        super(Discriminator, self).__init__()\n",
        "\n",
        "        # ニューラルネットワークの構造を定義する\n",
        "        self.layer0 = nn.Sequential(\n",
        "                nn.Linear(28*28, d_dim*4),     # 全結合層\n",
        "                nn.LeakyReLU(negative_slope=0.2),    # leaky ReLU関数\n",
        "            )  # (B, 784) -> (B, 512)\n",
        "        self.layer1 = nn.Sequential(\n",
        "                nn.Linear(d_dim*4, d_dim * 2),\n",
        "                nn.LeakyReLU(negative_slope=0.2),\n",
        "            ) # (B, 512) -> (B, 256)\n",
        "        self.layer2 = nn.Sequential(\n",
        "                nn.Linear(d_dim * 2, d_dim),\n",
        "                nn.LeakyReLU(negative_slope=0.2),\n",
        "            )  # (B, 256) -> (B, 128)\n",
        "        self.layer3 = nn.Sequential(\n",
        "                nn.Linear(d_dim, 1),\n",
        "                nn.Sigmoid(),    # Sigmoid関数\n",
        "            )    # (B, 128) -> (B, 1)\n",
        "        self.layers =[self.layer0,\n",
        "                      self.layer1,\n",
        "                      self.layer2,\n",
        "                      self.layer3]\n",
        "\n",
        "    def forward(self, x):\n",
        "        \"\"\"\n",
        "        順方向演算\n",
        "        x: 本物画像または生成画像\n",
        "        return: 識別信号\n",
        "        \"\"\"\n",
        "        x = x.view(x.size(0), -1) #(B,1,28,28)->(B,784)\n",
        "        #(B,784)->(B,1)\n",
        "        for layer in self.layers:  # self.layersの各層で演算を行う\n",
        "            x = layer(x)\n",
        "        return x.squeeze()     # Tensorの形状を(B,1)->(B)に変更して戻り値とする"
      ]
    },
    {
      "cell_type": "markdown",
      "metadata": {
        "id": "Gwm7pzRxvbQJ"
      },
      "source": [
        "### 重み初期化関数"
      ]
    },
    {
      "cell_type": "code",
      "execution_count": null,
      "metadata": {
        "id": "KbupWFKXZO2X"
      },
      "outputs": [],
      "source": [
        "def weights_init(m):\n",
        "    \"\"\"\n",
        "    ニューラルネットワークの重みを初期化する。作成したインスタンスに対しapplyメソッドで適用する\n",
        "    m: ニューラルネットワークを構成する層\n",
        "    \"\"\"\n",
        "    classname = m.__class__.__name__\n",
        "    if classname.find('Linear') != -1:        # 全結合層の場合\n",
        "        m.weight.data.normal_(0.0, 0.02)\n",
        "        m.bias.data.fill_(0)\n",
        "    elif classname.find('BatchNorm') != -1:     # バッチノーマライゼーションの場合\n",
        "        m.weight.data.normal_(1.0, 0.02)\n",
        "        m.bias.data.fill_(0)"
      ]
    },
    {
      "cell_type": "markdown",
      "metadata": {
        "id": "1wjv7zSo-02S"
      },
      "source": [
        "### 生成器Gのインスタンス生成と重み初期化"
      ]
    },
    {
      "cell_type": "code",
      "execution_count": null,
      "metadata": {
        "colab": {
          "base_uri": "https://localhost:8080/"
        },
        "id": "zFlZJS8zZQgO",
        "outputId": "77427f6f-64ef-41f4-d7cf-846904b35b38"
      },
      "outputs": [
        {
          "data": {
            "text/plain": [
              "Generator(\n",
              "  (layer): Sequential(\n",
              "    (0): Linear(in_features=100, out_features=256, bias=True)\n",
              "    (1): Linear(in_features=256, out_features=512, bias=True)\n",
              "    (2): Linear(in_features=512, out_features=1024, bias=True)\n",
              "    (3): ReLU()\n",
              "    (4): Linear(in_features=1024, out_features=784, bias=True)\n",
              "    (5): Tanh()\n",
              "  )\n",
              ")"
            ]
          },
          "execution_count": 16,
          "metadata": {},
          "output_type": "execute_result"
        }
      ],
      "source": [
        "# 生成器G　インスタンス化, GPU上に転送\n",
        "G = Generator(z_dim=z_dim, g_dim=g_dim).to(device)\n",
        "G.apply(weights_init)    # weights_init関数で初期化"
      ]
    },
    {
      "cell_type": "markdown",
      "metadata": {
        "id": "1EdUkMeTbAKX"
      },
      "source": [
        "### 生成器のTensor形状確認"
      ]
    },
    {
      "cell_type": "code",
      "execution_count": null,
      "metadata": {
        "colab": {
          "base_uri": "https://localhost:8080/"
        },
        "id": "VGatXcHXmdg2",
        "outputId": "2cf91778-84ad-474d-c160-17efa5b78c9c"
      },
      "outputs": [
        {
          "name": "stdout",
          "output_type": "stream",
          "text": [
            "----------------------------------------------------------------\n",
            "        Layer (type)               Output Shape         Param #\n",
            "================================================================\n",
            "            Linear-1                  [-1, 256]          25,856\n",
            "            Linear-2                  [-1, 512]         131,584\n",
            "            Linear-3                 [-1, 1024]         525,312\n",
            "              ReLU-4                 [-1, 1024]               0\n",
            "            Linear-5                  [-1, 784]         803,600\n",
            "              Tanh-6                  [-1, 784]               0\n",
            "================================================================\n",
            "Total params: 1,486,352\n",
            "Trainable params: 1,486,352\n",
            "Non-trainable params: 0\n",
            "----------------------------------------------------------------\n",
            "Input size (MB): 0.00\n",
            "Forward/backward pass size (MB): 0.03\n",
            "Params size (MB): 5.67\n",
            "Estimated Total Size (MB): 5.70\n",
            "----------------------------------------------------------------\n"
          ]
        }
      ],
      "source": [
        "# 生成器GのTensor形状\n",
        "# torchsummary.summary(network, 入力テンソル形状)\n",
        "# 入力: 100次元のノイズベクトル\n",
        "torchsummary.summary(G, (100, 1, 1))"
      ]
    },
    {
      "cell_type": "markdown",
      "metadata": {
        "id": "YwxXMImk-84F"
      },
      "source": [
        "### 識別器Dのインスタンス化と重み初期化"
      ]
    },
    {
      "cell_type": "code",
      "execution_count": null,
      "metadata": {
        "colab": {
          "base_uri": "https://localhost:8080/"
        },
        "id": "KhotqJk45vt6",
        "outputId": "cd1d7f7f-a5dc-4146-d7d6-4ae9a1604ac2"
      },
      "outputs": [
        {
          "data": {
            "text/plain": [
              "Discriminator(\n",
              "  (layer0): Sequential(\n",
              "    (0): Linear(in_features=784, out_features=512, bias=True)\n",
              "    (1): LeakyReLU(negative_slope=0.2)\n",
              "  )\n",
              "  (layer1): Sequential(\n",
              "    (0): Linear(in_features=512, out_features=256, bias=True)\n",
              "    (1): LeakyReLU(negative_slope=0.2)\n",
              "  )\n",
              "  (layer2): Sequential(\n",
              "    (0): Linear(in_features=256, out_features=128, bias=True)\n",
              "    (1): LeakyReLU(negative_slope=0.2)\n",
              "  )\n",
              "  (layer3): Sequential(\n",
              "    (0): Linear(in_features=128, out_features=1, bias=True)\n",
              "    (1): Sigmoid()\n",
              "  )\n",
              ")"
            ]
          },
          "execution_count": 19,
          "metadata": {},
          "output_type": "execute_result"
        }
      ],
      "source": [
        "# 識別器D　インスタンス化, GPU上に転送\n",
        "D = Discriminator(d_dim=d_dim).to(device)\n",
        "D.apply(weights_init)"
      ]
    },
    {
      "cell_type": "markdown",
      "metadata": {
        "id": "UQPALphlbGYX"
      },
      "source": [
        "### 識別器のTensor形状確認"
      ]
    },
    {
      "cell_type": "code",
      "execution_count": null,
      "metadata": {
        "colab": {
          "base_uri": "https://localhost:8080/"
        },
        "id": "S3lWvc655xfy",
        "outputId": "0a1c3cec-4b90-4730-f1b7-36b41192959a"
      },
      "outputs": [
        {
          "name": "stdout",
          "output_type": "stream",
          "text": [
            "----------------------------------------------------------------\n",
            "        Layer (type)               Output Shape         Param #\n",
            "================================================================\n",
            "            Linear-1                  [-1, 512]         401,920\n",
            "         LeakyReLU-2                  [-1, 512]               0\n",
            "            Linear-3                  [-1, 256]         131,328\n",
            "         LeakyReLU-4                  [-1, 256]               0\n",
            "            Linear-5                  [-1, 128]          32,896\n",
            "         LeakyReLU-6                  [-1, 128]               0\n",
            "            Linear-7                    [-1, 1]             129\n",
            "           Sigmoid-8                    [-1, 1]               0\n",
            "================================================================\n",
            "Total params: 566,273\n",
            "Trainable params: 566,273\n",
            "Non-trainable params: 0\n",
            "----------------------------------------------------------------\n",
            "Input size (MB): 0.00\n",
            "Forward/backward pass size (MB): 0.01\n",
            "Params size (MB): 2.16\n",
            "Estimated Total Size (MB): 2.18\n",
            "----------------------------------------------------------------\n"
          ]
        }
      ],
      "source": [
        "# 識別器DのTensor形状\n",
        "# torchsummary.summary(network, 入力テンソル形状)\n",
        "# 入力: 1channel*28px*28pxの画像\n",
        "torchsummary.summary(D, (1, 28, 28))"
      ]
    },
    {
      "cell_type": "markdown",
      "metadata": {
        "id": "SJYTFLaV6s5b"
      },
      "source": [
        "## 学習の実行"
      ]
    },
    {
      "cell_type": "code",
      "execution_count": null,
      "metadata": {
        "id": "BPY91YHJ6veV"
      },
      "outputs": [],
      "source": [
        "criterion = nn.BCELoss()    # バイナリークロスエントロピー\n",
        "\n",
        "# 生成器のエポックごとの画像生成に使用する確認用の固定ノイズ\n",
        "fixed_noise = torch.randn(batch_size, z_dim, 1, 1, device=device)  \n",
        "\n",
        "# オプティマイザの用意\n",
        "optimizerD = optim.Adam(D.parameters(), lr=lr, betas=(beta1, 0.999), weight_decay=1e-5)  # 識別器D用\n",
        "optimizerG = optim.Adam(G.parameters(), lr=lr, betas=(beta1, 0.999), weight_decay=1e-5)  # 生成器G用"
      ]
    },
    {
      "cell_type": "code",
      "execution_count": null,
      "metadata": {
        "colab": {
          "base_uri": "https://localhost:8080/"
        },
        "id": "jtLt35wJ61sR",
        "outputId": "4c2812b9-0bf7-439a-e6da-7e7af5ae1ddd"
      },
      "outputs": [
        {
          "name": "stdout",
          "output_type": "stream",
          "text": [
            "epoch:[1/20],num_images:[1/1200] Loss_D: 1.387 Loss_G: 0.693\n",
            "epoch:[1/20],num_images:[601/1200] Loss_D: 0.659 Loss_G: 2.947\n",
            "epoch:[2/20],num_images:[1/1200] Loss_D: 0.977 Loss_G: 2.949\n",
            "epoch:[2/20],num_images:[601/1200] Loss_D: 0.668 Loss_G: 1.934\n",
            "epoch:[3/20],num_images:[1/1200] Loss_D: 0.712 Loss_G: 2.725\n",
            "epoch:[3/20],num_images:[601/1200] Loss_D: 0.574 Loss_G: 2.207\n",
            "epoch:[4/20],num_images:[1/1200] Loss_D: 0.938 Loss_G: 1.443\n",
            "epoch:[4/20],num_images:[601/1200] Loss_D: 0.579 Loss_G: 3.632\n",
            "epoch:[5/20],num_images:[1/1200] Loss_D: 0.959 Loss_G: 1.645\n",
            "epoch:[5/20],num_images:[601/1200] Loss_D: 0.922 Loss_G: 1.608\n",
            "epoch:[6/20],num_images:[1/1200] Loss_D: 0.904 Loss_G: 1.522\n",
            "epoch:[6/20],num_images:[601/1200] Loss_D: 0.909 Loss_G: 1.769\n",
            "epoch:[7/20],num_images:[1/1200] Loss_D: 0.951 Loss_G: 1.524\n",
            "epoch:[7/20],num_images:[601/1200] Loss_D: 1.057 Loss_G: 1.315\n",
            "epoch:[8/20],num_images:[1/1200] Loss_D: 1.046 Loss_G: 1.879\n",
            "epoch:[8/20],num_images:[601/1200] Loss_D: 1.111 Loss_G: 0.979\n",
            "epoch:[9/20],num_images:[1/1200] Loss_D: 1.038 Loss_G: 1.191\n",
            "epoch:[9/20],num_images:[601/1200] Loss_D: 1.245 Loss_G: 0.814\n",
            "epoch:[10/20],num_images:[1/1200] Loss_D: 0.815 Loss_G: 1.664\n",
            "epoch:[10/20],num_images:[601/1200] Loss_D: 1.008 Loss_G: 1.152\n",
            "epoch:[11/20],num_images:[1/1200] Loss_D: 1.030 Loss_G: 1.647\n",
            "epoch:[11/20],num_images:[601/1200] Loss_D: 1.042 Loss_G: 1.261\n",
            "epoch:[12/20],num_images:[1/1200] Loss_D: 1.244 Loss_G: 0.791\n",
            "epoch:[12/20],num_images:[601/1200] Loss_D: 0.926 Loss_G: 1.607\n",
            "epoch:[13/20],num_images:[1/1200] Loss_D: 0.828 Loss_G: 1.607\n",
            "epoch:[13/20],num_images:[601/1200] Loss_D: 0.939 Loss_G: 2.355\n",
            "epoch:[14/20],num_images:[1/1200] Loss_D: 0.981 Loss_G: 2.345\n",
            "epoch:[14/20],num_images:[601/1200] Loss_D: 1.095 Loss_G: 0.833\n",
            "epoch:[15/20],num_images:[1/1200] Loss_D: 0.842 Loss_G: 1.564\n",
            "epoch:[15/20],num_images:[601/1200] Loss_D: 0.919 Loss_G: 1.374\n",
            "epoch:[16/20],num_images:[1/1200] Loss_D: 0.716 Loss_G: 1.204\n",
            "epoch:[16/20],num_images:[601/1200] Loss_D: 0.880 Loss_G: 1.357\n",
            "epoch:[17/20],num_images:[1/1200] Loss_D: 0.961 Loss_G: 1.550\n",
            "epoch:[17/20],num_images:[601/1200] Loss_D: 0.884 Loss_G: 1.552\n",
            "epoch:[18/20],num_images:[1/1200] Loss_D: 0.904 Loss_G: 1.164\n",
            "epoch:[18/20],num_images:[601/1200] Loss_D: 0.790 Loss_G: 1.512\n",
            "epoch:[19/20],num_images:[1/1200] Loss_D: 0.813 Loss_G: 1.905\n",
            "epoch:[19/20],num_images:[601/1200] Loss_D: 0.834 Loss_G: 2.004\n",
            "epoch:[20/20],num_images:[1/1200] Loss_D: 0.837 Loss_G: 1.494\n",
            "epoch:[20/20],num_images:[601/1200] Loss_D: 0.710 Loss_G: 1.761\n"
          ]
        }
      ],
      "source": [
        "G_losses = []\n",
        "D_losses = []\n",
        "\n",
        "#最初の画像の保存\n",
        "fake_image = G(fixed_noise)  \n",
        "vutils.save_image(fake_image.detach(), '{}/fake_samples_epoch_{:03d}.png'.format(out_dir, 0),\n",
        "                  normalize=True, nrow=10)\n",
        "\n",
        "# 学習のループ\n",
        "for epoch in range(num_epochs):\n",
        "    for n, images in enumerate(dataloader):\n",
        "        real_image = images[0].to(device)     # 本物画像, GPU上に転送\n",
        "        sample_size = real_image.size(0)    # 画像枚数\n",
        "        \n",
        "        # 標準正規分布(平均0,分散1)からノイズを生成, GPU上に転送\n",
        "        noise = torch.randn(sample_size, z_dim, 1, 1, device=device)\n",
        "        # 本物画像に対する正解ラベル:1 , GPU上に転送\n",
        "        real_target = torch.full((sample_size,), 1., device=device)\n",
        "        # 生成画像に対する正解ラベル:0 , GPU上に転送\n",
        "        fake_target = torch.full((sample_size,), 0., device=device)\n",
        "        \n",
        "        \"\"\"\n",
        "        識別器Dの更新\n",
        "        \"\"\"\n",
        "        D.zero_grad()    # 勾配初期化\n",
        "\n",
        "        ########################\n",
        "        # 本物画像に対する損失計算\n",
        "        ########################\n",
        "        output = D(real_image) # 識別器Dで本物画像に対する識別信号を出力\n",
        "        lossD_real = criterion(output, real_target) # 本物画像に対する識別信号の損失値\n",
        "        D_x = output.mean().item() # 本物画像の識別信号の平均\n",
        "\n",
        "        ########################\n",
        "        # 偽物画像に対する損失計算\n",
        "        ########################\n",
        "        fake_image = G(noise) # 生成器Gでノイズから生成画像を生成\n",
        "\n",
        "        output = D(fake_image.detach())  # 識別器Dで本物画像に対する識別信号を出力\n",
        "        lossD_fake = criterion(output, fake_target)  # 生成画像に対する識別信号の損失値\n",
        "\n",
        "        ########################\n",
        "        # 損失計算し,誤差逆伝播\n",
        "        ########################\n",
        "        lossD = lossD_real + lossD_fake    # 識別器Dの全体の損失\n",
        "        lossD.backward()    # 誤差逆伝播\n",
        "        optimizerD.step()   # Dのパラメーターを更新\n",
        "\n",
        "        \"\"\"\n",
        "        生成器Gの更新\n",
        "        \"\"\"\n",
        "        G.zero_grad()    # 勾配の初期化\n",
        "\n",
        "        output = D(fake_image)   # 更新した識別器Dで改めて生成画像に対する識別信号を出力\n",
        "        lossG = criterion(output, real_target)   # 生成器Gの損失値。Dに生成画像を本物画像と誤認させたいため目標値は「1」\n",
        "        lossG.backward()     # 誤差逆伝播\n",
        "\n",
        "        optimizerG.step()   # Gのパラメータを更新\n",
        "        \n",
        "        \"\"\"\n",
        "        DとGのロス表示\n",
        "        \"\"\"\n",
        "        if n % loss_display_interval == 0: \n",
        "            print('epoch:[{}/{}],num_images:[{}/{}] Loss_D: {:.3f} Loss_G: {:.3f}'\n",
        "                  .format(epoch + 1, num_epochs,\n",
        "                          n + 1, len(dataloader),\n",
        "                          lossD.item(), lossG.item()))\n",
        "\n",
        "\n",
        "        if epoch == 0 and n == 0:     # 初回に本物画像を保存する\n",
        "            vutils.save_image(real_image, '{}/real_samples.png'.format(out_dir),\n",
        "                              normalize=True, nrow=10)\n",
        "\n",
        "        # ログ出力用データの保存\n",
        "        D_losses.append(lossD.item())\n",
        "        G_losses.append(lossG.item())\n",
        "\n",
        "    \"\"\"\n",
        "    確認用画像の生成\n",
        "    \"\"\"\n",
        "    fake_image = G(fixed_noise)  # 1エポック終了ごとに確認用の生成画像を生成する\n",
        "    vutils.save_image(fake_image.detach(), '{}/fake_samples_epoch_{:03d}.png'.format(out_dir, epoch + 1),\n",
        "                      normalize=True, nrow=10)\n",
        "\n",
        "    \"\"\"\n",
        "    モデルの保存\n",
        "    \"\"\"\n",
        "    if (epoch + 1) % 5 == 0:   # 5エポックごとにモデルを保存\n",
        "        torch.save(G.state_dict(), '{}/G_epoch_{}.pth'.format(out_dir, epoch + 1))\n",
        "        torch.save(D.state_dict(), '{}/D_epoch_{}.pth'.format(out_dir, epoch + 1))"
      ]
    },
    {
      "cell_type": "markdown",
      "metadata": {
        "id": "gp7AlvznPwkL"
      },
      "source": [
        "### 学習済みモデルの推論画像表示"
      ]
    },
    {
      "cell_type": "code",
      "execution_count": 86,
      "metadata": {
        "colab": {
          "base_uri": "https://localhost:8080/",
          "height": 283
        },
        "id": "oOpwCkjhPvSS",
        "outputId": "a65b975b-6f92-426e-b2cb-c4ca7ea05c76"
      },
      "outputs": [
        {
          "data": {
            "text/plain": [
              "<matplotlib.image.AxesImage at 0x7f97ea0e08d0>"
            ]
          },
          "execution_count": 86,
          "metadata": {},
          "output_type": "execute_result"
        },
        {
          "data": {
            "image/png": "[encoded data removed]",
            "text/plain": [
              "<Figure size 432x288 with 1 Axes>"
            ]
          },
          "metadata": {
            "needs_background": "light"
          },
          "output_type": "display_data"
        }
      ],
      "source": [
        "from PIL import Image\n",
        "# 標準正規分布(平均0,分散1)からノイズを生成, GPU上に転送\n",
        "noise = torch.randn(sample_size, z_dim, 1, 1, device=device)\n",
        "\n",
        "fake_image = G(noise) # 生成器Gでノイズから生成画像を生成\n",
        "fake_image = fake_image.to('cpu').detach() #Pytorch TensorをGPUからCPUに転送\n",
        "fake_image = fake_image.numpy() #numpy arrayに変換\n",
        "fake_image = fake_image.squeeze() #(B,C,H,W) -> (B,H,W)に変換\n",
        "\n",
        "plt.imshow(fake_image[0],cmap='gray')"
      ]
    },
    {
      "cell_type": "markdown",
      "metadata": {
        "id": "lrz0WojvoPQe"
      },
      "source": [
        "### 学習時の損失のグラフ表示"
      ]
    },
    {
      "cell_type": "code",
      "execution_count": 87,
      "metadata": {
        "colab": {
          "base_uri": "https://localhost:8080/",
          "height": 265
        },
        "id": "X5yTUTi_Gdup",
        "outputId": "a9602edb-9e2b-45bd-c14d-a7ded2fd9d51"
      },
      "outputs": [
        {
          "data": {
            "image/png": "[encoded data removed]",
            "text/plain": [
              "<Figure size 432x288 with 1 Axes>"
            ]
          },
          "metadata": {
            "needs_background": "light"
          },
          "output_type": "display_data"
        }
      ],
      "source": [
        "from matplotlib import pyplot as plt\n",
        "\n",
        "plt.plot(G_losses, label='Generator_Losses')\n",
        "plt.plot(D_losses, label='Discriminator Losses')\n",
        "plt.legend()\n",
        "plt.savefig('loss.png')"
      ]
    },
    {
      "cell_type": "markdown",
      "metadata": {
        "id": "-axFBEHYUQAS"
      },
      "source": [
        "### 学習過程のアニメーション"
      ]
    },
    {
      "cell_type": "code",
      "execution_count": 88,
      "metadata": {
        "id": "Q_33u8i5UPBX"
      },
      "outputs": [],
      "source": [
        "from PIL import Image, ImageDraw\n",
        "\n",
        "images = []\n",
        "\n",
        "for epoch in range(num_epochs+1):\n",
        "  img = Image.open('{}/fake_samples_epoch_{:03d}.png'.format(out_dir, epoch))\n",
        "  images.append(img)\n",
        "\n",
        "images[0].save('/content/mnist_gan_animation.gif',\n",
        "               save_all=True, append_images=images[1:], optimize=False, duration=200, loop=0)"
      ]
    },
    {
      "cell_type": "markdown",
      "metadata": {
        "id": "Nv-pJFfg8Oys"
      },
      "source": [
        "## 重みのロード & 推論"
      ]
    },
    {
      "cell_type": "code",
      "execution_count": 91,
      "metadata": {
        "id": "3iAX3Q5Q8NO8"
      },
      "outputs": [],
      "source": [
        "model_path = os.path.join(out_dir,\"G_epoch_10.pth\")\n",
        "\n",
        "# 生成器G　ランダムベクトルから生成画像を作成する\n",
        "G_infer = Generator(z_dim=z_dim, g_dim=g_dim).to(device)\n",
        "G_infer.load_state_dict(torch.load(model_path))\n",
        "\n",
        "# 生成器の画像生成に使用する確認用の固定ノイズ\n",
        "fixed_noise = torch.randn(batch_size, z_dim, 1, 1, device=device)  \n",
        "\n",
        "fake_image = G_infer(fixed_noise)  #確認用の画像を生成する\n",
        "vutils.save_image(fake_image.detach(), '{}/Generator_sample.png'.format(out_dir),\n",
        "                  normalize=True, nrow=10)"
      ]
    }
  ],
  "metadata": {
    "accelerator": "GPU",
    "colab": {
      "collapsed_sections": [],
      "name": "Section4_GAN_MNIST_pytorch.ipynb",
      "provenance": []
    },
    "kernelspec": {
      "display_name": "Python 3",
      "name": "python3"
    },
    "language_info": {
      "name": "python"
    },
    "widgets": {
      "application/vnd.jupyter.widget-state+json": {
        "0121809063b84e26b5d1298db9239ba0": {
          "model_module": "@jupyter-widgets/base",
          "model_module_version": "1.2.0",
          "model_name": "LayoutModel",
          "state": {
            "_model_module": "@jupyter-widgets/base",
            "_model_module_version": "1.2.0",
            "_model_name": "LayoutModel",
            "_view_count": null,
            "_view_module": "@jupyter-widgets/base",
            "_view_module_version": "1.2.0",
            "_view_name": "LayoutView",
            "align_content": null,
            "align_items": null,
            "align_self": null,
            "border": null,
            "bottom": null,
            "display": null,
            "flex": null,
            "flex_flow": null,
            "grid_area": null,
            "grid_auto_columns": null,
            "grid_auto_flow": null,
            "grid_auto_rows": null,
            "grid_column": null,
            "grid_gap": null,
            "grid_row": null,
            "grid_template_areas": null,
            "grid_template_columns": null,
            "grid_template_rows": null,
            "height": null,
            "justify_content": null,
            "justify_items": null,
            "left": null,
            "margin": null,
            "max_height": null,
            "max_width": null,
            "min_height": null,
            "min_width": null,
            "object_fit": null,
            "object_position": null,
            "order": null,
            "overflow": null,
            "overflow_x": null,
            "overflow_y": null,
            "padding": null,
            "right": null,
            "top": null,
            "visibility": null,
            "width": null
          }
        },
        "13a236f599f94b5aa69fe3b8d07cd016": {
          "model_module": "@jupyter-widgets/controls",
          "model_module_version": "1.5.0",
          "model_name": "DescriptionStyleModel",
          "state": {
            "_model_module": "@jupyter-widgets/controls",
            "_model_module_version": "1.5.0",
            "_model_name": "DescriptionStyleModel",
            "_view_count": null,
            "_view_module": "@jupyter-widgets/base",
            "_view_module_version": "1.2.0",
            "_view_name": "StyleView",
            "description_width": ""
          }
        },
        "164353bc195d4c18b8ac52dc5baba2e7": {
          "model_module": "@jupyter-widgets/controls",
          "model_module_version": "1.5.0",
          "model_name": "DescriptionStyleModel",
          "state": {
            "_model_module": "@jupyter-widgets/controls",
            "_model_module_version": "1.5.0",
            "_model_name": "DescriptionStyleModel",
            "_view_count": null,
            "_view_module": "@jupyter-widgets/base",
            "_view_module_version": "1.2.0",
            "_view_name": "StyleView",
            "description_width": ""
          }
        },
        "226393c35a8f4bc182802cac837913fb": {
          "model_module": "@jupyter-widgets/base",
          "model_module_version": "1.2.0",
          "model_name": "LayoutModel",
          "state": {
            "_model_module": "@jupyter-widgets/base",
            "_model_module_version": "1.2.0",
            "_model_name": "LayoutModel",
            "_view_count": null,
            "_view_module": "@jupyter-widgets/base",
            "_view_module_version": "1.2.0",
            "_view_name": "LayoutView",
            "align_content": null,
            "align_items": null,
            "align_self": null,
            "border": null,
            "bottom": null,
            "display": null,
            "flex": null,
            "flex_flow": null,
            "grid_area": null,
            "grid_auto_columns": null,
            "grid_auto_flow": null,
            "grid_auto_rows": null,
            "grid_column": null,
            "grid_gap": null,
            "grid_row": null,
            "grid_template_areas": null,
            "grid_template_columns": null,
            "grid_template_rows": null,
            "height": null,
            "justify_content": null,
            "justify_items": null,
            "left": null,
            "margin": null,
            "max_height": null,
            "max_width": null,
            "min_height": null,
            "min_width": null,
            "object_fit": null,
            "object_position": null,
            "order": null,
            "overflow": null,
            "overflow_x": null,
            "overflow_y": null,
            "padding": null,
            "right": null,
            "top": null,
            "visibility": null,
            "width": null
          }
        },
        "2905d581b8c44497a136c96cac2a4ceb": {
          "model_module": "@jupyter-widgets/controls",
          "model_module_version": "1.5.0",
          "model_name": "HTMLModel",
          "state": {
            "_dom_classes": [],
            "_model_module": "@jupyter-widgets/controls",
            "_model_module_version": "1.5.0",
            "_model_name": "HTMLModel",
            "_view_count": null,
            "_view_module": "@jupyter-widgets/controls",
            "_view_module_version": "1.5.0",
            "_view_name": "HTMLView",
            "description": "",
            "description_tooltip": null,
            "layout": "IPY_MODEL_2f9df1e5208f4bccb22339ccc252589b",
            "placeholder": "​",
            "style": "IPY_MODEL_cfbddb1268e143f6b184f959200b50e8",
            "value": " 5120/? [00:00&lt;00:00, 167299.02it/s]"
          }
        },
        "2f9df1e5208f4bccb22339ccc252589b": {
          "model_module": "@jupyter-widgets/base",
          "model_module_version": "1.2.0",
          "model_name": "LayoutModel",
          "state": {
            "_model_module": "@jupyter-widgets/base",
            "_model_module_version": "1.2.0",
            "_model_name": "LayoutModel",
            "_view_count": null,
            "_view_module": "@jupyter-widgets/base",
            "_view_module_version": "1.2.0",
            "_view_name": "LayoutView",
            "align_content": null,
            "align_items": null,
            "align_self": null,
            "border": null,
            "bottom": null,
            "display": null,
            "flex": null,
            "flex_flow": null,
            "grid_area": null,
            "grid_auto_columns": null,
            "grid_auto_flow": null,
            "grid_auto_rows": null,
            "grid_column": null,
            "grid_gap": null,
            "grid_row": null,
            "grid_template_areas": null,
            "grid_template_columns": null,
            "grid_template_rows": null,
            "height": null,
            "justify_content": null,
            "justify_items": null,
            "left": null,
            "margin": null,
            "max_height": null,
            "max_width": null,
            "min_height": null,
            "min_width": null,
            "object_fit": null,
            "object_position": null,
            "order": null,
            "overflow": null,
            "overflow_x": null,
            "overflow_y": null,
            "padding": null,
            "right": null,
            "top": null,
            "visibility": null,
            "width": null
          }
        },
        "4456e4c84ad443c683a2aaea7002ff6c": {
          "model_module": "@jupyter-widgets/base",
          "model_module_version": "1.2.0",
          "model_name": "LayoutModel",
          "state": {
            "_model_module": "@jupyter-widgets/base",
            "_model_module_version": "1.2.0",
            "_model_name": "LayoutModel",
            "_view_count": null,
            "_view_module": "@jupyter-widgets/base",
            "_view_module_version": "1.2.0",
            "_view_name": "LayoutView",
            "align_content": null,
            "align_items": null,
            "align_self": null,
            "border": null,
            "bottom": null,
            "display": null,
            "flex": null,
            "flex_flow": null,
            "grid_area": null,
            "grid_auto_columns": null,
            "grid_auto_flow": null,
            "grid_auto_rows": null,
            "grid_column": null,
            "grid_gap": null,
            "grid_row": null,
            "grid_template_areas": null,
            "grid_template_columns": null,
            "grid_template_rows": null,
            "height": null,
            "justify_content": null,
            "justify_items": null,
            "left": null,
            "margin": null,
            "max_height": null,
            "max_width": null,
            "min_height": null,
            "min_width": null,
            "object_fit": null,
            "object_position": null,
            "order": null,
            "overflow": null,
            "overflow_x": null,
            "overflow_y": null,
            "padding": null,
            "right": null,
            "top": null,
            "visibility": null,
            "width": null
          }
        },
        "4ae855a9382c4b3dba832f7ba38d52ac": {
          "model_module": "@jupyter-widgets/controls",
          "model_module_version": "1.5.0",
          "model_name": "FloatProgressModel",
          "state": {
            "_dom_classes": [],
            "_model_module": "@jupyter-widgets/controls",
            "_model_module_version": "1.5.0",
            "_model_name": "FloatProgressModel",
            "_view_count": null,
            "_view_module": "@jupyter-widgets/controls",
            "_view_module_version": "1.5.0",
            "_view_name": "ProgressView",
            "bar_style": "success",
            "description": "",
            "description_tooltip": null,
            "layout": "IPY_MODEL_8ce2457b656648c7a6ab23dc12afc630",
            "max": 9912422,
            "min": 0,
            "orientation": "horizontal",
            "style": "IPY_MODEL_57dd4d5c06554282820e1edc3f85de01",
            "value": 9912422
          }
        },
        "52095eaf5ebf4463b47a56fc660e6475": {
          "model_module": "@jupyter-widgets/controls",
          "model_module_version": "1.5.0",
          "model_name": "HTMLModel",
          "state": {
            "_dom_classes": [],
            "_model_module": "@jupyter-widgets/controls",
            "_model_module_version": "1.5.0",
            "_model_name": "HTMLModel",
            "_view_count": null,
            "_view_module": "@jupyter-widgets/controls",
            "_view_module_version": "1.5.0",
            "_view_name": "HTMLView",
            "description": "",
            "description_tooltip": null,
            "layout": "IPY_MODEL_ad6e75477d004b9d955d702c2b287654",
            "placeholder": "​",
            "style": "IPY_MODEL_13a236f599f94b5aa69fe3b8d07cd016",
            "value": ""
          }
        },
        "57dd4d5c06554282820e1edc3f85de01": {
          "model_module": "@jupyter-widgets/controls",
          "model_module_version": "1.5.0",
          "model_name": "ProgressStyleModel",
          "state": {
            "_model_module": "@jupyter-widgets/controls",
            "_model_module_version": "1.5.0",
            "_model_name": "ProgressStyleModel",
            "_view_count": null,
            "_view_module": "@jupyter-widgets/base",
            "_view_module_version": "1.2.0",
            "_view_name": "StyleView",
            "bar_color": null,
            "description_width": ""
          }
        },
        "5a7552e5ea814b61ad99d7e58140e2c9": {
          "model_module": "@jupyter-widgets/base",
          "model_module_version": "1.2.0",
          "model_name": "LayoutModel",
          "state": {
            "_model_module": "@jupyter-widgets/base",
            "_model_module_version": "1.2.0",
            "_model_name": "LayoutModel",
            "_view_count": null,
            "_view_module": "@jupyter-widgets/base",
            "_view_module_version": "1.2.0",
            "_view_name": "LayoutView",
            "align_content": null,
            "align_items": null,
            "align_self": null,
            "border": null,
            "bottom": null,
            "display": null,
            "flex": null,
            "flex_flow": null,
            "grid_area": null,
            "grid_auto_columns": null,
            "grid_auto_flow": null,
            "grid_auto_rows": null,
            "grid_column": null,
            "grid_gap": null,
            "grid_row": null,
            "grid_template_areas": null,
            "grid_template_columns": null,
            "grid_template_rows": null,
            "height": null,
            "justify_content": null,
            "justify_items": null,
            "left": null,
            "margin": null,
            "max_height": null,
            "max_width": null,
            "min_height": null,
            "min_width": null,
            "object_fit": null,
            "object_position": null,
            "order": null,
            "overflow": null,
            "overflow_x": null,
            "overflow_y": null,
            "padding": null,
            "right": null,
            "top": null,
            "visibility": null,
            "width": null
          }
        },
        "5da7e7b373d74247899d8672d766e554": {
          "model_module": "@jupyter-widgets/base",
          "model_module_version": "1.2.0",
          "model_name": "LayoutModel",
          "state": {
            "_model_module": "@jupyter-widgets/base",
            "_model_module_version": "1.2.0",
            "_model_name": "LayoutModel",
            "_view_count": null,
            "_view_module": "@jupyter-widgets/base",
            "_view_module_version": "1.2.0",
            "_view_name": "LayoutView",
            "align_content": null,
            "align_items": null,
            "align_self": null,
            "border": null,
            "bottom": null,
            "display": null,
            "flex": null,
            "flex_flow": null,
            "grid_area": null,
            "grid_auto_columns": null,
            "grid_auto_flow": null,
            "grid_auto_rows": null,
            "grid_column": null,
            "grid_gap": null,
            "grid_row": null,
            "grid_template_areas": null,
            "grid_template_columns": null,
            "grid_template_rows": null,
            "height": null,
            "justify_content": null,
            "justify_items": null,
            "left": null,
            "margin": null,
            "max_height": null,
            "max_width": null,
            "min_height": null,
            "min_width": null,
            "object_fit": null,
            "object_position": null,
            "order": null,
            "overflow": null,
            "overflow_x": null,
            "overflow_y": null,
            "padding": null,
            "right": null,
            "top": null,
            "visibility": null,
            "width": null
          }
        },
        "5f8ddcb4fac64f1cae66a4b5703a345e": {
          "model_module": "@jupyter-widgets/controls",
          "model_module_version": "1.5.0",
          "model_name": "HBoxModel",
          "state": {
            "_dom_classes": [],
            "_model_module": "@jupyter-widgets/controls",
            "_model_module_version": "1.5.0",
            "_model_name": "HBoxModel",
            "_view_count": null,
            "_view_module": "@jupyter-widgets/controls",
            "_view_module_version": "1.5.0",
            "_view_name": "HBoxView",
            "box_style": "",
            "children": [
              "IPY_MODEL_72853862da594426a9191899aa690008",
              "IPY_MODEL_f4ba576dd9c44f8b8e0395e027226223",
              "IPY_MODEL_2905d581b8c44497a136c96cac2a4ceb"
            ],
            "layout": "IPY_MODEL_e2be683cfde8406bbb537c7b46b392d9"
          }
        },
        "5f8f10bdb47e488bb9915c3e7281f051": {
          "model_module": "@jupyter-widgets/controls",
          "model_module_version": "1.5.0",
          "model_name": "DescriptionStyleModel",
          "state": {
            "_model_module": "@jupyter-widgets/controls",
            "_model_module_version": "1.5.0",
            "_model_name": "DescriptionStyleModel",
            "_view_count": null,
            "_view_module": "@jupyter-widgets/base",
            "_view_module_version": "1.2.0",
            "_view_name": "StyleView",
            "description_width": ""
          }
        },
        "6d9a5ea241ac4c868e01f26e1b249eb1": {
          "model_module": "@jupyter-widgets/base",
          "model_module_version": "1.2.0",
          "model_name": "LayoutModel",
          "state": {
            "_model_module": "@jupyter-widgets/base",
            "_model_module_version": "1.2.0",
            "_model_name": "LayoutModel",
            "_view_count": null,
            "_view_module": "@jupyter-widgets/base",
            "_view_module_version": "1.2.0",
            "_view_name": "LayoutView",
            "align_content": null,
            "align_items": null,
            "align_self": null,
            "border": null,
            "bottom": null,
            "display": null,
            "flex": null,
            "flex_flow": null,
            "grid_area": null,
            "grid_auto_columns": null,
            "grid_auto_flow": null,
            "grid_auto_rows": null,
            "grid_column": null,
            "grid_gap": null,
            "grid_row": null,
            "grid_template_areas": null,
            "grid_template_columns": null,
            "grid_template_rows": null,
            "height": null,
            "justify_content": null,
            "justify_items": null,
            "left": null,
            "margin": null,
            "max_height": null,
            "max_width": null,
            "min_height": null,
            "min_width": null,
            "object_fit": null,
            "object_position": null,
            "order": null,
            "overflow": null,
            "overflow_x": null,
            "overflow_y": null,
            "padding": null,
            "right": null,
            "top": null,
            "visibility": null,
            "width": null
          }
        },
        "72853862da594426a9191899aa690008": {
          "model_module": "@jupyter-widgets/controls",
          "model_module_version": "1.5.0",
          "model_name": "HTMLModel",
          "state": {
            "_dom_classes": [],
            "_model_module": "@jupyter-widgets/controls",
            "_model_module_version": "1.5.0",
            "_model_name": "HTMLModel",
            "_view_count": null,
            "_view_module": "@jupyter-widgets/controls",
            "_view_module_version": "1.5.0",
            "_view_name": "HTMLView",
            "description": "",
            "description_tooltip": null,
            "layout": "IPY_MODEL_6d9a5ea241ac4c868e01f26e1b249eb1",
            "placeholder": "​",
            "style": "IPY_MODEL_86a3b0df7b0745d499434ca58c664f7f",
            "value": ""
          }
        },
        "756bb2f2782f446abdbec01bb25a576f": {
          "model_module": "@jupyter-widgets/controls",
          "model_module_version": "1.5.0",
          "model_name": "HTMLModel",
          "state": {
            "_dom_classes": [],
            "_model_module": "@jupyter-widgets/controls",
            "_model_module_version": "1.5.0",
            "_model_name": "HTMLModel",
            "_view_count": null,
            "_view_module": "@jupyter-widgets/controls",
            "_view_module_version": "1.5.0",
            "_view_name": "HTMLView",
            "description": "",
            "description_tooltip": null,
            "layout": "IPY_MODEL_9fe430c689fe487f99f5fd19a131d8ab",
            "placeholder": "​",
            "style": "IPY_MODEL_7e4b03c290ae4d65b2b3319654fb56d8",
            "value": " 9913344/? [00:00&lt;00:00, 13576437.86it/s]"
          }
        },
        "75fb6ae23a0443b88335f4d944aaecbb": {
          "model_module": "@jupyter-widgets/controls",
          "model_module_version": "1.5.0",
          "model_name": "HTMLModel",
          "state": {
            "_dom_classes": [],
            "_model_module": "@jupyter-widgets/controls",
            "_model_module_version": "1.5.0",
            "_model_name": "HTMLModel",
            "_view_count": null,
            "_view_module": "@jupyter-widgets/controls",
            "_view_module_version": "1.5.0",
            "_view_name": "HTMLView",
            "description": "",
            "description_tooltip": null,
            "layout": "IPY_MODEL_4456e4c84ad443c683a2aaea7002ff6c",
            "placeholder": "​",
            "style": "IPY_MODEL_164353bc195d4c18b8ac52dc5baba2e7",
            "value": ""
          }
        },
        "77b455aa98f34000b8f4b8715bc74b87": {
          "model_module": "@jupyter-widgets/controls",
          "model_module_version": "1.5.0",
          "model_name": "FloatProgressModel",
          "state": {
            "_dom_classes": [],
            "_model_module": "@jupyter-widgets/controls",
            "_model_module_version": "1.5.0",
            "_model_name": "FloatProgressModel",
            "_view_count": null,
            "_view_module": "@jupyter-widgets/controls",
            "_view_module_version": "1.5.0",
            "_view_name": "ProgressView",
            "bar_style": "success",
            "description": "",
            "description_tooltip": null,
            "layout": "IPY_MODEL_226393c35a8f4bc182802cac837913fb",
            "max": 1648877,
            "min": 0,
            "orientation": "horizontal",
            "style": "IPY_MODEL_edc77c1979ca4659a1b41825c143915b",
            "value": 1648877
          }
        },
        "78281038b1ff49d7822d61b2bd58464d": {
          "model_module": "@jupyter-widgets/controls",
          "model_module_version": "1.5.0",
          "model_name": "HTMLModel",
          "state": {
            "_dom_classes": [],
            "_model_module": "@jupyter-widgets/controls",
            "_model_module_version": "1.5.0",
            "_model_name": "HTMLModel",
            "_view_count": null,
            "_view_module": "@jupyter-widgets/controls",
            "_view_module_version": "1.5.0",
            "_view_name": "HTMLView",
            "description": "",
            "description_tooltip": null,
            "layout": "IPY_MODEL_93951dc44e7e4e3dbc3f7d739e91a530",
            "placeholder": "​",
            "style": "IPY_MODEL_5f8f10bdb47e488bb9915c3e7281f051",
            "value": " 1649664/? [00:00&lt;00:00, 22483597.78it/s]"
          }
        },
        "7e4b03c290ae4d65b2b3319654fb56d8": {
          "model_module": "@jupyter-widgets/controls",
          "model_module_version": "1.5.0",
          "model_name": "DescriptionStyleModel",
          "state": {
            "_model_module": "@jupyter-widgets/controls",
            "_model_module_version": "1.5.0",
            "_model_name": "DescriptionStyleModel",
            "_view_count": null,
            "_view_module": "@jupyter-widgets/base",
            "_view_module_version": "1.2.0",
            "_view_name": "StyleView",
            "description_width": ""
          }
        },
        "80e58fd968b14eb28f2ab88aa0d16df3": {
          "model_module": "@jupyter-widgets/base",
          "model_module_version": "1.2.0",
          "model_name": "LayoutModel",
          "state": {
            "_model_module": "@jupyter-widgets/base",
            "_model_module_version": "1.2.0",
            "_model_name": "LayoutModel",
            "_view_count": null,
            "_view_module": "@jupyter-widgets/base",
            "_view_module_version": "1.2.0",
            "_view_name": "LayoutView",
            "align_content": null,
            "align_items": null,
            "align_self": null,
            "border": null,
            "bottom": null,
            "display": null,
            "flex": null,
            "flex_flow": null,
            "grid_area": null,
            "grid_auto_columns": null,
            "grid_auto_flow": null,
            "grid_auto_rows": null,
            "grid_column": null,
            "grid_gap": null,
            "grid_row": null,
            "grid_template_areas": null,
            "grid_template_columns": null,
            "grid_template_rows": null,
            "height": null,
            "justify_content": null,
            "justify_items": null,
            "left": null,
            "margin": null,
            "max_height": null,
            "max_width": null,
            "min_height": null,
            "min_width": null,
            "object_fit": null,
            "object_position": null,
            "order": null,
            "overflow": null,
            "overflow_x": null,
            "overflow_y": null,
            "padding": null,
            "right": null,
            "top": null,
            "visibility": null,
            "width": null
          }
        },
        "86a3b0df7b0745d499434ca58c664f7f": {
          "model_module": "@jupyter-widgets/controls",
          "model_module_version": "1.5.0",
          "model_name": "DescriptionStyleModel",
          "state": {
            "_model_module": "@jupyter-widgets/controls",
            "_model_module_version": "1.5.0",
            "_model_name": "DescriptionStyleModel",
            "_view_count": null,
            "_view_module": "@jupyter-widgets/base",
            "_view_module_version": "1.2.0",
            "_view_name": "StyleView",
            "description_width": ""
          }
        },
        "8aecccf6a05746c68cde09e2e0536296": {
          "model_module": "@jupyter-widgets/controls",
          "model_module_version": "1.5.0",
          "model_name": "ProgressStyleModel",
          "state": {
            "_model_module": "@jupyter-widgets/controls",
            "_model_module_version": "1.5.0",
            "_model_name": "ProgressStyleModel",
            "_view_count": null,
            "_view_module": "@jupyter-widgets/base",
            "_view_module_version": "1.2.0",
            "_view_name": "StyleView",
            "bar_color": null,
            "description_width": ""
          }
        },
        "8ce2457b656648c7a6ab23dc12afc630": {
          "model_module": "@jupyter-widgets/base",
          "model_module_version": "1.2.0",
          "model_name": "LayoutModel",
          "state": {
            "_model_module": "@jupyter-widgets/base",
            "_model_module_version": "1.2.0",
            "_model_name": "LayoutModel",
            "_view_count": null,
            "_view_module": "@jupyter-widgets/base",
            "_view_module_version": "1.2.0",
            "_view_name": "LayoutView",
            "align_content": null,
            "align_items": null,
            "align_self": null,
            "border": null,
            "bottom": null,
            "display": null,
            "flex": null,
            "flex_flow": null,
            "grid_area": null,
            "grid_auto_columns": null,
            "grid_auto_flow": null,
            "grid_auto_rows": null,
            "grid_column": null,
            "grid_gap": null,
            "grid_row": null,
            "grid_template_areas": null,
            "grid_template_columns": null,
            "grid_template_rows": null,
            "height": null,
            "justify_content": null,
            "justify_items": null,
            "left": null,
            "margin": null,
            "max_height": null,
            "max_width": null,
            "min_height": null,
            "min_width": null,
            "object_fit": null,
            "object_position": null,
            "order": null,
            "overflow": null,
            "overflow_x": null,
            "overflow_y": null,
            "padding": null,
            "right": null,
            "top": null,
            "visibility": null,
            "width": null
          }
        },
        "8ef49fa568734d55bcc28917453f202a": {
          "model_module": "@jupyter-widgets/base",
          "model_module_version": "1.2.0",
          "model_name": "LayoutModel",
          "state": {
            "_model_module": "@jupyter-widgets/base",
            "_model_module_version": "1.2.0",
            "_model_name": "LayoutModel",
            "_view_count": null,
            "_view_module": "@jupyter-widgets/base",
            "_view_module_version": "1.2.0",
            "_view_name": "LayoutView",
            "align_content": null,
            "align_items": null,
            "align_self": null,
            "border": null,
            "bottom": null,
            "display": null,
            "flex": null,
            "flex_flow": null,
            "grid_area": null,
            "grid_auto_columns": null,
            "grid_auto_flow": null,
            "grid_auto_rows": null,
            "grid_column": null,
            "grid_gap": null,
            "grid_row": null,
            "grid_template_areas": null,
            "grid_template_columns": null,
            "grid_template_rows": null,
            "height": null,
            "justify_content": null,
            "justify_items": null,
            "left": null,
            "margin": null,
            "max_height": null,
            "max_width": null,
            "min_height": null,
            "min_width": null,
            "object_fit": null,
            "object_position": null,
            "order": null,
            "overflow": null,
            "overflow_x": null,
            "overflow_y": null,
            "padding": null,
            "right": null,
            "top": null,
            "visibility": null,
            "width": null
          }
        },
        "93951dc44e7e4e3dbc3f7d739e91a530": {
          "model_module": "@jupyter-widgets/base",
          "model_module_version": "1.2.0",
          "model_name": "LayoutModel",
          "state": {
            "_model_module": "@jupyter-widgets/base",
            "_model_module_version": "1.2.0",
            "_model_name": "LayoutModel",
            "_view_count": null,
            "_view_module": "@jupyter-widgets/base",
            "_view_module_version": "1.2.0",
            "_view_name": "LayoutView",
            "align_content": null,
            "align_items": null,
            "align_self": null,
            "border": null,
            "bottom": null,
            "display": null,
            "flex": null,
            "flex_flow": null,
            "grid_area": null,
            "grid_auto_columns": null,
            "grid_auto_flow": null,
            "grid_auto_rows": null,
            "grid_column": null,
            "grid_gap": null,
            "grid_row": null,
            "grid_template_areas": null,
            "grid_template_columns": null,
            "grid_template_rows": null,
            "height": null,
            "justify_content": null,
            "justify_items": null,
            "left": null,
            "margin": null,
            "max_height": null,
            "max_width": null,
            "min_height": null,
            "min_width": null,
            "object_fit": null,
            "object_position": null,
            "order": null,
            "overflow": null,
            "overflow_x": null,
            "overflow_y": null,
            "padding": null,
            "right": null,
            "top": null,
            "visibility": null,
            "width": null
          }
        },
        "975340de540b4350939d6b9fc418faad": {
          "model_module": "@jupyter-widgets/base",
          "model_module_version": "1.2.0",
          "model_name": "LayoutModel",
          "state": {
            "_model_module": "@jupyter-widgets/base",
            "_model_module_version": "1.2.0",
            "_model_name": "LayoutModel",
            "_view_count": null,
            "_view_module": "@jupyter-widgets/base",
            "_view_module_version": "1.2.0",
            "_view_name": "LayoutView",
            "align_content": null,
            "align_items": null,
            "align_self": null,
            "border": null,
            "bottom": null,
            "display": null,
            "flex": null,
            "flex_flow": null,
            "grid_area": null,
            "grid_auto_columns": null,
            "grid_auto_flow": null,
            "grid_auto_rows": null,
            "grid_column": null,
            "grid_gap": null,
            "grid_row": null,
            "grid_template_areas": null,
            "grid_template_columns": null,
            "grid_template_rows": null,
            "height": null,
            "justify_content": null,
            "justify_items": null,
            "left": null,
            "margin": null,
            "max_height": null,
            "max_width": null,
            "min_height": null,
            "min_width": null,
            "object_fit": null,
            "object_position": null,
            "order": null,
            "overflow": null,
            "overflow_x": null,
            "overflow_y": null,
            "padding": null,
            "right": null,
            "top": null,
            "visibility": null,
            "width": null
          }
        },
        "9fe430c689fe487f99f5fd19a131d8ab": {
          "model_module": "@jupyter-widgets/base",
          "model_module_version": "1.2.0",
          "model_name": "LayoutModel",
          "state": {
            "_model_module": "@jupyter-widgets/base",
            "_model_module_version": "1.2.0",
            "_model_name": "LayoutModel",
            "_view_count": null,
            "_view_module": "@jupyter-widgets/base",
            "_view_module_version": "1.2.0",
            "_view_name": "LayoutView",
            "align_content": null,
            "align_items": null,
            "align_self": null,
            "border": null,
            "bottom": null,
            "display": null,
            "flex": null,
            "flex_flow": null,
            "grid_area": null,
            "grid_auto_columns": null,
            "grid_auto_flow": null,
            "grid_auto_rows": null,
            "grid_column": null,
            "grid_gap": null,
            "grid_row": null,
            "grid_template_areas": null,
            "grid_template_columns": null,
            "grid_template_rows": null,
            "height": null,
            "justify_content": null,
            "justify_items": null,
            "left": null,
            "margin": null,
            "max_height": null,
            "max_width": null,
            "min_height": null,
            "min_width": null,
            "object_fit": null,
            "object_position": null,
            "order": null,
            "overflow": null,
            "overflow_x": null,
            "overflow_y": null,
            "padding": null,
            "right": null,
            "top": null,
            "visibility": null,
            "width": null
          }
        },
        "a6800db4221e486984d2ea7c4c3c61ea": {
          "model_module": "@jupyter-widgets/controls",
          "model_module_version": "1.5.0",
          "model_name": "ProgressStyleModel",
          "state": {
            "_model_module": "@jupyter-widgets/controls",
            "_model_module_version": "1.5.0",
            "_model_name": "ProgressStyleModel",
            "_view_count": null,
            "_view_module": "@jupyter-widgets/base",
            "_view_module_version": "1.2.0",
            "_view_name": "StyleView",
            "bar_color": null,
            "description_width": ""
          }
        },
        "ad6e75477d004b9d955d702c2b287654": {
          "model_module": "@jupyter-widgets/base",
          "model_module_version": "1.2.0",
          "model_name": "LayoutModel",
          "state": {
            "_model_module": "@jupyter-widgets/base",
            "_model_module_version": "1.2.0",
            "_model_name": "LayoutModel",
            "_view_count": null,
            "_view_module": "@jupyter-widgets/base",
            "_view_module_version": "1.2.0",
            "_view_name": "LayoutView",
            "align_content": null,
            "align_items": null,
            "align_self": null,
            "border": null,
            "bottom": null,
            "display": null,
            "flex": null,
            "flex_flow": null,
            "grid_area": null,
            "grid_auto_columns": null,
            "grid_auto_flow": null,
            "grid_auto_rows": null,
            "grid_column": null,
            "grid_gap": null,
            "grid_row": null,
            "grid_template_areas": null,
            "grid_template_columns": null,
            "grid_template_rows": null,
            "height": null,
            "justify_content": null,
            "justify_items": null,
            "left": null,
            "margin": null,
            "max_height": null,
            "max_width": null,
            "min_height": null,
            "min_width": null,
            "object_fit": null,
            "object_position": null,
            "order": null,
            "overflow": null,
            "overflow_x": null,
            "overflow_y": null,
            "padding": null,
            "right": null,
            "top": null,
            "visibility": null,
            "width": null
          }
        },
        "b0677645e3ef4e6a8363e708bf3e0dc4": {
          "model_module": "@jupyter-widgets/controls",
          "model_module_version": "1.5.0",
          "model_name": "HTMLModel",
          "state": {
            "_dom_classes": [],
            "_model_module": "@jupyter-widgets/controls",
            "_model_module_version": "1.5.0",
            "_model_name": "HTMLModel",
            "_view_count": null,
            "_view_module": "@jupyter-widgets/controls",
            "_view_module_version": "1.5.0",
            "_view_name": "HTMLView",
            "description": "",
            "description_tooltip": null,
            "layout": "IPY_MODEL_5a7552e5ea814b61ad99d7e58140e2c9",
            "placeholder": "​",
            "style": "IPY_MODEL_fdae267be22348a494df9510288d25ed",
            "value": " 29696/? [00:00&lt;00:00, 908490.53it/s]"
          }
        },
        "cd5e8bca27d04c7e8e437d844ae586d2": {
          "model_module": "@jupyter-widgets/controls",
          "model_module_version": "1.5.0",
          "model_name": "HBoxModel",
          "state": {
            "_dom_classes": [],
            "_model_module": "@jupyter-widgets/controls",
            "_model_module_version": "1.5.0",
            "_model_name": "HBoxModel",
            "_view_count": null,
            "_view_module": "@jupyter-widgets/controls",
            "_view_module_version": "1.5.0",
            "_view_name": "HBoxView",
            "box_style": "",
            "children": [
              "IPY_MODEL_ecbacd40f267435fa7c32d452cc893c8",
              "IPY_MODEL_d19c792480494b67869fadab047467d0",
              "IPY_MODEL_b0677645e3ef4e6a8363e708bf3e0dc4"
            ],
            "layout": "IPY_MODEL_975340de540b4350939d6b9fc418faad"
          }
        },
        "cfb6aa4dca944ca98c65b2bcd7f664b0": {
          "model_module": "@jupyter-widgets/controls",
          "model_module_version": "1.5.0",
          "model_name": "HBoxModel",
          "state": {
            "_dom_classes": [],
            "_model_module": "@jupyter-widgets/controls",
            "_model_module_version": "1.5.0",
            "_model_name": "HBoxModel",
            "_view_count": null,
            "_view_module": "@jupyter-widgets/controls",
            "_view_module_version": "1.5.0",
            "_view_name": "HBoxView",
            "box_style": "",
            "children": [
              "IPY_MODEL_75fb6ae23a0443b88335f4d944aaecbb",
              "IPY_MODEL_4ae855a9382c4b3dba832f7ba38d52ac",
              "IPY_MODEL_756bb2f2782f446abdbec01bb25a576f"
            ],
            "layout": "IPY_MODEL_8ef49fa568734d55bcc28917453f202a"
          }
        },
        "cfbddb1268e143f6b184f959200b50e8": {
          "model_module": "@jupyter-widgets/controls",
          "model_module_version": "1.5.0",
          "model_name": "DescriptionStyleModel",
          "state": {
            "_model_module": "@jupyter-widgets/controls",
            "_model_module_version": "1.5.0",
            "_model_name": "DescriptionStyleModel",
            "_view_count": null,
            "_view_module": "@jupyter-widgets/base",
            "_view_module_version": "1.2.0",
            "_view_name": "StyleView",
            "description_width": ""
          }
        },
        "d19c792480494b67869fadab047467d0": {
          "model_module": "@jupyter-widgets/controls",
          "model_module_version": "1.5.0",
          "model_name": "FloatProgressModel",
          "state": {
            "_dom_classes": [],
            "_model_module": "@jupyter-widgets/controls",
            "_model_module_version": "1.5.0",
            "_model_name": "FloatProgressModel",
            "_view_count": null,
            "_view_module": "@jupyter-widgets/controls",
            "_view_module_version": "1.5.0",
            "_view_name": "ProgressView",
            "bar_style": "success",
            "description": "",
            "description_tooltip": null,
            "layout": "IPY_MODEL_0121809063b84e26b5d1298db9239ba0",
            "max": 28881,
            "min": 0,
            "orientation": "horizontal",
            "style": "IPY_MODEL_8aecccf6a05746c68cde09e2e0536296",
            "value": 28881
          }
        },
        "d7e6385f098f4dbaab24e1be3922ad27": {
          "model_module": "@jupyter-widgets/base",
          "model_module_version": "1.2.0",
          "model_name": "LayoutModel",
          "state": {
            "_model_module": "@jupyter-widgets/base",
            "_model_module_version": "1.2.0",
            "_model_name": "LayoutModel",
            "_view_count": null,
            "_view_module": "@jupyter-widgets/base",
            "_view_module_version": "1.2.0",
            "_view_name": "LayoutView",
            "align_content": null,
            "align_items": null,
            "align_self": null,
            "border": null,
            "bottom": null,
            "display": null,
            "flex": null,
            "flex_flow": null,
            "grid_area": null,
            "grid_auto_columns": null,
            "grid_auto_flow": null,
            "grid_auto_rows": null,
            "grid_column": null,
            "grid_gap": null,
            "grid_row": null,
            "grid_template_areas": null,
            "grid_template_columns": null,
            "grid_template_rows": null,
            "height": null,
            "justify_content": null,
            "justify_items": null,
            "left": null,
            "margin": null,
            "max_height": null,
            "max_width": null,
            "min_height": null,
            "min_width": null,
            "object_fit": null,
            "object_position": null,
            "order": null,
            "overflow": null,
            "overflow_x": null,
            "overflow_y": null,
            "padding": null,
            "right": null,
            "top": null,
            "visibility": null,
            "width": null
          }
        },
        "e2be683cfde8406bbb537c7b46b392d9": {
          "model_module": "@jupyter-widgets/base",
          "model_module_version": "1.2.0",
          "model_name": "LayoutModel",
          "state": {
            "_model_module": "@jupyter-widgets/base",
            "_model_module_version": "1.2.0",
            "_model_name": "LayoutModel",
            "_view_count": null,
            "_view_module": "@jupyter-widgets/base",
            "_view_module_version": "1.2.0",
            "_view_name": "LayoutView",
            "align_content": null,
            "align_items": null,
            "align_self": null,
            "border": null,
            "bottom": null,
            "display": null,
            "flex": null,
            "flex_flow": null,
            "grid_area": null,
            "grid_auto_columns": null,
            "grid_auto_flow": null,
            "grid_auto_rows": null,
            "grid_column": null,
            "grid_gap": null,
            "grid_row": null,
            "grid_template_areas": null,
            "grid_template_columns": null,
            "grid_template_rows": null,
            "height": null,
            "justify_content": null,
            "justify_items": null,
            "left": null,
            "margin": null,
            "max_height": null,
            "max_width": null,
            "min_height": null,
            "min_width": null,
            "object_fit": null,
            "object_position": null,
            "order": null,
            "overflow": null,
            "overflow_x": null,
            "overflow_y": null,
            "padding": null,
            "right": null,
            "top": null,
            "visibility": null,
            "width": null
          }
        },
        "e915d087f72a471d9a5c7910006430a8": {
          "model_module": "@jupyter-widgets/controls",
          "model_module_version": "1.5.0",
          "model_name": "HBoxModel",
          "state": {
            "_dom_classes": [],
            "_model_module": "@jupyter-widgets/controls",
            "_model_module_version": "1.5.0",
            "_model_name": "HBoxModel",
            "_view_count": null,
            "_view_module": "@jupyter-widgets/controls",
            "_view_module_version": "1.5.0",
            "_view_name": "HBoxView",
            "box_style": "",
            "children": [
              "IPY_MODEL_52095eaf5ebf4463b47a56fc660e6475",
              "IPY_MODEL_77b455aa98f34000b8f4b8715bc74b87",
              "IPY_MODEL_78281038b1ff49d7822d61b2bd58464d"
            ],
            "layout": "IPY_MODEL_80e58fd968b14eb28f2ab88aa0d16df3"
          }
        },
        "ecbacd40f267435fa7c32d452cc893c8": {
          "model_module": "@jupyter-widgets/controls",
          "model_module_version": "1.5.0",
          "model_name": "HTMLModel",
          "state": {
            "_dom_classes": [],
            "_model_module": "@jupyter-widgets/controls",
            "_model_module_version": "1.5.0",
            "_model_name": "HTMLModel",
            "_view_count": null,
            "_view_module": "@jupyter-widgets/controls",
            "_view_module_version": "1.5.0",
            "_view_name": "HTMLView",
            "description": "",
            "description_tooltip": null,
            "layout": "IPY_MODEL_d7e6385f098f4dbaab24e1be3922ad27",
            "placeholder": "​",
            "style": "IPY_MODEL_f6e2ca44c9d44aeb8b7c8e3479ff966e",
            "value": ""
          }
        },
        "edc77c1979ca4659a1b41825c143915b": {
          "model_module": "@jupyter-widgets/controls",
          "model_module_version": "1.5.0",
          "model_name": "ProgressStyleModel",
          "state": {
            "_model_module": "@jupyter-widgets/controls",
            "_model_module_version": "1.5.0",
            "_model_name": "ProgressStyleModel",
            "_view_count": null,
            "_view_module": "@jupyter-widgets/base",
            "_view_module_version": "1.2.0",
            "_view_name": "StyleView",
            "bar_color": null,
            "description_width": ""
          }
        },
        "f4ba576dd9c44f8b8e0395e027226223": {
          "model_module": "@jupyter-widgets/controls",
          "model_module_version": "1.5.0",
          "model_name": "FloatProgressModel",
          "state": {
            "_dom_classes": [],
            "_model_module": "@jupyter-widgets/controls",
            "_model_module_version": "1.5.0",
            "_model_name": "FloatProgressModel",
            "_view_count": null,
            "_view_module": "@jupyter-widgets/controls",
            "_view_module_version": "1.5.0",
            "_view_name": "ProgressView",
            "bar_style": "success",
            "description": "",
            "description_tooltip": null,
            "layout": "IPY_MODEL_5da7e7b373d74247899d8672d766e554",
            "max": 4542,
            "min": 0,
            "orientation": "horizontal",
            "style": "IPY_MODEL_a6800db4221e486984d2ea7c4c3c61ea",
            "value": 4542
          }
        },
        "f6e2ca44c9d44aeb8b7c8e3479ff966e": {
          "model_module": "@jupyter-widgets/controls",
          "model_module_version": "1.5.0",
          "model_name": "DescriptionStyleModel",
          "state": {
            "_model_module": "@jupyter-widgets/controls",
            "_model_module_version": "1.5.0",
            "_model_name": "DescriptionStyleModel",
            "_view_count": null,
            "_view_module": "@jupyter-widgets/base",
            "_view_module_version": "1.2.0",
            "_view_name": "StyleView",
            "description_width": ""
          }
        },
        "fdae267be22348a494df9510288d25ed": {
          "model_module": "@jupyter-widgets/controls",
          "model_module_version": "1.5.0",
          "model_name": "DescriptionStyleModel",
          "state": {
            "_model_module": "@jupyter-widgets/controls",
            "_model_module_version": "1.5.0",
            "_model_name": "DescriptionStyleModel",
            "_view_count": null,
            "_view_module": "@jupyter-widgets/base",
            "_view_module_version": "1.2.0",
            "_view_name": "StyleView",
            "description_width": ""
          }
        }
      }
    }
  },
  "nbformat": 4,
  "nbformat_minor": 0
}
